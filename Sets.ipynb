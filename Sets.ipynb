{
  "nbformat": 4,
  "nbformat_minor": 0,
  "metadata": {
    "colab": {
      "name": "Sets.ipynb",
      "provenance": [],
      "authorship_tag": "ABX9TyMs86pociWCihvJkRYqWOyD",
      "include_colab_link": true
    },
    "kernelspec": {
      "name": "python3",
      "display_name": "Python 3"
    },
    "language_info": {
      "name": "python"
    }
  },
  "cells": [
    {
      "cell_type": "markdown",
      "metadata": {
        "id": "view-in-github",
        "colab_type": "text"
      },
      "source": [
        "<a href=\"https://colab.research.google.com/github/AshwaniKrSonu619/Python-Bootcamp/blob/main/Sets.ipynb\" target=\"_parent\"><img src=\"https://colab.research.google.com/assets/colab-badge.svg\" alt=\"Open In Colab\"/></a>"
      ]
    },
    {
      "cell_type": "markdown",
      "source": [
        "**Sets**\n",
        "\n",
        "**A set is an unordered collection data type with no duplicate elements. Sets are iterable and mutable. The elements appear in an arbitrary order when sets are iterated.**\n",
        "\n",
        "Sets are commonly used for membership testing, removing duplicates entries, and also for operations such as intersection, union, and set difference.\n",
        "\n",
        "In this tutorial you will learn how to create a set and and the common paradigms for a set in Python.\n",
        "\n",
        "\n",
        "\n",
        "How to create Sets"
      ],
      "metadata": {
        "id": "iYLt6B_sOG7A"
      }
    },
    {
      "cell_type": "code",
      "source": [
        "#creating an empty set\n",
        "setA = set()\n",
        "print(setA)\n"
      ],
      "metadata": {
        "colab": {
          "base_uri": "https://localhost:8080/"
        },
        "id": "TwkglW8nONku",
        "outputId": "c63c4b0b-2877-434e-ada3-d3c75a6a0bbc"
      },
      "execution_count": 3,
      "outputs": [
        {
          "output_type": "stream",
          "name": "stdout",
          "text": [
            "set()\n"
          ]
        }
      ]
    },
    {
      "cell_type": "code",
      "source": [
        "# creating a set with a string.\n",
        "# since a string is an iterable, this will succeed.\n",
        "setA = set(\"Ashwani\")\n",
        "print(setA)"
      ],
      "metadata": {
        "colab": {
          "base_uri": "https://localhost:8080/"
        },
        "id": "NTrYBD6lONuG",
        "outputId": "2e0a2fb8-beff-47dd-9b59-becec28cacbc"
      },
      "execution_count": 4,
      "outputs": [
        {
          "output_type": "stream",
          "name": "stdout",
          "text": [
            "{'n', 'w', 'i', 'a', 'h', 'A', 's'}\n"
          ]
        }
      ]
    },
    {
      "cell_type": "code",
      "source": [
        "# creating a set with a list\n",
        "\n",
        "setA = set([\"Java\",\"Python\",\"Javascript\"])\n",
        "print(setA)"
      ],
      "metadata": {
        "colab": {
          "base_uri": "https://localhost:8080/"
        },
        "id": "TgK8hScQPnRN",
        "outputId": "1fa49887-c6f3-4f66-aae0-0f16b63831c8"
      },
      "execution_count": 10,
      "outputs": [
        {
          "output_type": "stream",
          "name": "stdout",
          "text": [
            "{'Java', 'Python', 'Javascript'}\n"
          ]
        }
      ]
    },
    {
      "cell_type": "code",
      "source": [
        "# creating a set with list of numbers\n",
        "# there are some duplicates in it.\n",
        "\n",
        "\n",
        "setA=set([1,2,3,4,5,6,7,8,9,10,11,11,11,12,13,13,])\n",
        "print(setA)"
      ],
      "metadata": {
        "colab": {
          "base_uri": "https://localhost:8080/"
        },
        "id": "KhN16Q_0PnUs",
        "outputId": "f40f5d08-96f0-4c30-dff8-0aae3c289a50"
      },
      "execution_count": 12,
      "outputs": [
        {
          "output_type": "stream",
          "name": "stdout",
          "text": [
            "{1, 2, 3, 4, 5, 6, 7, 8, 9, 10, 11, 12, 13}\n"
          ]
        }
      ]
    },
    {
      "cell_type": "code",
      "source": [
        " # creating a set with a string. The string has some repeated characters.\n",
        "myString = 'football'\n",
        "setA = set(myString)\n",
        "print(setA)"
      ],
      "metadata": {
        "colab": {
          "base_uri": "https://localhost:8080/"
        },
        "id": "ufi3SinDPnXz",
        "outputId": "423c27c7-b821-4a6f-e8c0-b917e6b4deb3"
      },
      "execution_count": 14,
      "outputs": [
        {
          "output_type": "stream",
          "name": "stdout",
          "text": [
            "{'o', 'b', 'l', 'a', 'f', 't'}\n"
          ]
        }
      ]
    },
    {
      "cell_type": "code",
      "source": [
        "setA = set([1, 2, 3, 4, 5, 6, 7, 7, 7])\n",
        "print(setA)\n",
        "# output:-[{1, 2, 3, 4, 5, 6, 7}\n",
        "\n",
        "\n",
        "# Methods to change a set\n",
        "# How to add elements to a set\n",
        "# Python set add(element)\n",
        "#This will add element to a set:\n",
        "\n",
        "# For example, you can add the element 8 to the set 8\n",
        "\n",
        "setA.add(8)\n",
        "print(setA)\n",
        "# output:{1, 2, 3, 4, 5, 6, 7, 8}\n",
        "\n",
        "# Or you can add a tuple (9, 10) to the setA and the new set will consist of the tuple as well.\n",
        "\n",
        "setA.add((9, 10))\n",
        "print(setA)\n",
        "# {1, 2, 3, 4, 5, 6, 7, 8, (9, 10)}\n",
        "\n",
        "\n",
        "#Python set update(element)\n",
        "\n",
        "#  Adds element to list; it is an in-place set union operation.\n",
        "\n",
        "# For example you can pass a list to the update method and this will update the setA with the elements.\n",
        "\n",
        "# pass a list with elements 11 and 12 \n",
        "setA.update([11, 12])\n",
        "# check if setA is updated with the elements.\n",
        "print(setA)\n",
        "#    {1, 2, 3, 4, 5, 6, 7, 8, 11, 12, (9, 10)}\n",
        "\n",
        "# Similarly you can update with a list and a new set as shown below\n",
        "\n",
        "setA.update([12, 14], {15, 16})\n",
        "print(setA)\n",
        "#   output:  {1, 2, 3, 4, 5, 6, 7, 8, 11, 12, 14, 15, (9, 10), 16}\n",
        "\n",
        "\n",
        "\n",
        " # removes element 7 from set\n",
        "setA.discard(7)\n",
        "print(setA)\n",
        "#  output :{1, 2, 3, 4, 5, 6, 8, 11, 12, 14, 15, (9, 10), 16}\n",
        "\n",
        "\n",
        "# removes element 8 from set\n",
        "setA.remove(8)\n",
        "print(setA)\n",
        "# output:{1, 2, 3, 4, 5, 6, 11, 12, 14, 15, (9, 10), 16}\n",
        "\n",
        "\n",
        "\n",
        "# discard doesn’t do anything is value to be discarded is not present\n",
        "setA.discard(19)\n",
        "print(setA)\n",
        "# output:{1, 2, 3, 4, 5, 6, 11, 12, 14, 15, (9, 10), 16}\n",
        "\n",
        "\n",
        "\n",
        "# this operation fails with an exception being raised\n",
        "\n",
        "# setA.remove(19)\n",
        "\n",
        "\n",
        "# Traceback (most recent call last):\n",
        "#    File \"python\", line 1, in <module>\n",
        "# KeyError: 19\n",
        "\n",
        "\n",
        "\n",
        "# Other useful set methods\n",
        "# Python set copy() Creates a shallow copy of the set with which it is called\n",
        "\n",
        "\n",
        "shallow_copy_of_setA = setA.copy()\n",
        "print(shallow_copy_of_setA)\n",
        "#  output:{1, 2, 3, 4, 5, 6, 11, 12, 14, 15, (9, 10), 16}\n",
        "\n",
        "\n",
        "\n",
        "# Using assignment here instead of copy() will create a pointer to the already existing set.\n",
        "\n",
        "# Python set clear() Will remove all elements from set\n",
        "\n",
        "# clear the set shallow_copy_of_setA created before using copy() operation\n",
        "shallow_copy_of_setA.clear()\n",
        "print(shallow_copy_of_setA)\n",
        "\n",
        "\n",
        "\n",
        "# popping an element from setA\n",
        "setA.pop()\n",
        "\n",
        "# pop raises a KeyError exception if the set is empty\n",
        "\n",
        "# shallow_copy_of_setA.pop()      ==>> pop raises a KeyError exception if the set is empty\n",
        "\n",
        "\n",
        "# output:-\n",
        "\n",
        "# Traceback (most recent call last):\n",
        "#   File \"python\", line 1, in <module>\n",
        "# KeyError: 'pop from an empty set'\n",
        "\n",
        "\n",
        "\n",
        "\n",
        "# create a new set setB\n",
        "setB= set()\n",
        "\n",
        "# update setB with values\n",
        "setB.update([1, 2, 3, 4, 5, 10, 15, 22])\n",
        "print(setB)\n",
        "#output: {1, 2, 3, 4, 5, 10, 15, 22}\n",
        "\n",
        "\n",
        "# print a new set with the values present in both setA and setB\n",
        "print(setA & setB)\n",
        "# output:{2, 3, 4, 5, 15}\n",
        "\n",
        "# above operation and using method name intersection shows same results\n",
        "setA.intersection(setB)\n",
        "# output:-{2, 3, 4, 5, 15}\n",
        "\n",
        "\n",
        "\n",
        "# print a new set with values present in setA but not in setB\n",
        "setA.difference(setB)\n",
        "#  output:{6, 11, 12, 14, (9, 10), 16}\n",
        "\n",
        "# this returns empty set \n",
        "setB.difference(setA)\n",
        "set()\n",
        "# setB is a proper subset of setA to setB - setA is empty set.\n",
        "\n",
        "\n",
        "\n",
        "# Other Set Operations\n",
        "\n",
        "# Python set isdisjoint() Returns true if intersection of sets is empty otherwise false\n",
        "\n",
        "# returns false as both have common elements\n",
        "setA.isdisjoint(setB)\n",
        "# output:False\n",
        "\n",
        "# create a new empty set setC\n",
        "setC = set()\n",
        "# update setC with values\n",
        "setC.update([100, 99])\n",
        "\n",
        "# returns true as setA and setC has no elements in common\n",
        "\n",
        "\n",
        "\n",
        "\n",
        "\n",
        "\n",
        "# update setA by removing elements present in setB from setA\n",
        "\n",
        "\n",
        "setA.difference_update(setB)\n",
        "# check the result set\n",
        "print(setA)\n",
        "# output:{6, 11, 12, 14, (9, 10), 16}\n",
        "\n",
        "\n",
        "# Similarly, setA.intersection_update(setB) removes elements from setA which are not present in the intersection set of setA \n",
        "# and setB. ‘&=’ can be used in place of the intersection_update method.\n",
        "\n",
        "# Python set issubset() and issuperset() setA.issubset(setB) returns True if setA is subset of setB, \n",
        "# False if not. “<=” operator can be used to test for issubset. To check for proper subset “<” is used.\n",
        "\n",
        "\n",
        "# check if setA is a subset of setB\n",
        "setA.issubset(setB)\n",
        "# outpot:False\n",
        "\n",
        "\n",
        "# check if set B is a subset of setA\n",
        "setB.issubset(setA)\n",
        "# Output:False\n",
        "\n",
        "\n",
        "# Let’s make setB a subset of setA by removing values 1, 10, and 22.\n",
        "\n",
        "# remove few elements to make setB a subset of setA\n",
        "setB.remove(1)\n",
        "setB.remove(10)\n",
        "setB.remove(22)\n",
        "\n",
        "\n",
        "\n",
        "# check the values present in setB now\n",
        "print(setB)\n",
        "# Output:-    {2, 3, 4, 5, 15}\n",
        "\n",
        "# issubset now returns true\n",
        "setB.issubset(setA)\n",
        "# Output:-    True\n",
        "setB < setA\n",
        "# Output:-   True\n",
        "\n",
        "\n",
        "\n",
        "#setA now becomes a superset of setB\n",
        "setA.issuperset(setB)\n",
        "# output:-    True\n"
      ],
      "metadata": {
        "colab": {
          "base_uri": "https://localhost:8080/"
        },
        "id": "9PajLDUqPnd5",
        "outputId": "14db98a9-329d-4a12-a6df-0d2bf8435fa5"
      },
      "execution_count": 51,
      "outputs": [
        {
          "output_type": "stream",
          "name": "stdout",
          "text": [
            "{1, 2, 3, 4, 5, 6, 7}\n",
            "{1, 2, 3, 4, 5, 6, 7, 8}\n",
            "{1, 2, 3, 4, 5, 6, 7, 8, (9, 10)}\n",
            "{1, 2, 3, 4, 5, 6, 7, 8, 11, 12, (9, 10)}\n",
            "{1, 2, 3, 4, 5, 6, 7, 8, 11, 12, 14, 15, (9, 10), 16}\n",
            "{1, 2, 3, 4, 5, 6, 8, 11, 12, 14, 15, (9, 10), 16}\n",
            "{1, 2, 3, 4, 5, 6, 11, 12, 14, 15, (9, 10), 16}\n",
            "{1, 2, 3, 4, 5, 6, 11, 12, 14, 15, (9, 10), 16}\n",
            "{1, 2, 3, 4, 5, 6, 11, 12, 14, 15, (9, 10), 16}\n",
            "set()\n",
            "{1, 2, 3, 4, 5, 10, 15, 22}\n",
            "{2, 3, 4, 5, 15}\n",
            "{6, 11, 12, 14, (9, 10), 16}\n",
            "{2, 3, 4, 5, 15}\n"
          ]
        },
        {
          "output_type": "execute_result",
          "data": {
            "text/plain": [
              "False"
            ]
          },
          "metadata": {},
          "execution_count": 51
        }
      ]
    }
  ]
}