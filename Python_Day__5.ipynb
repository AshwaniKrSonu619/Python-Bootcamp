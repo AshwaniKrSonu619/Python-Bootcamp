{
  "nbformat": 4,
  "nbformat_minor": 0,
  "metadata": {
    "colab": {
      "name": "Python_Day_ 5.ipynb",
      "provenance": [],
      "authorship_tag": "ABX9TyOmzaBd+reB07bvcPguUE7t",
      "include_colab_link": true
    },
    "kernelspec": {
      "name": "python3",
      "display_name": "Python 3"
    },
    "language_info": {
      "name": "python"
    }
  },
  "cells": [
    {
      "cell_type": "markdown",
      "metadata": {
        "id": "view-in-github",
        "colab_type": "text"
      },
      "source": [
        "<a href=\"https://colab.research.google.com/github/AshwaniKrSonu619/Python-Bootcamp/blob/main/Python_Day__5.ipynb\" target=\"_parent\"><img src=\"https://colab.research.google.com/assets/colab-badge.svg\" alt=\"Open In Colab\"/></a>"
      ]
    },
    {
      "cell_type": "markdown",
      "source": [
        "**List**\n",
        "\n",
        "A list is a data-structure, or it can be considered a container that can be used to store multiple data at once."
      ],
      "metadata": {
        "id": "4zsms4OQ2HV5"
      }
    },
    {
      "cell_type": "code",
      "source": [
        "companies = [\"hackerearth\", \"google\", \"facebook\",\"microsoft\",\"adobe\"]   # companies names \n",
        "print(companies[0])                                                     # get the first company name\n",
        "print(companies)\n",
        "print(companies[3])\n",
        "print(companies[4])\n"
      ],
      "metadata": {
        "colab": {
          "base_uri": "https://localhost:8080/"
        },
        "id": "qqnOTrxC2MKC",
        "outputId": "918c57e4-e8f7-498f-8a23-701d659de164"
      },
      "execution_count": 1,
      "outputs": [
        {
          "output_type": "stream",
          "name": "stdout",
          "text": [
            "hackerearth\n",
            "['hackerearth', 'google', 'facebook', 'microsoft', 'adobe']\n",
            "microsoft\n",
            "adobe\n"
          ]
        }
      ]
    },
    {
      "cell_type": "markdown",
      "source": [
        "**How to add elements to the list:**\n",
        "\n",
        "list.append(elem) - will add another element to the list at the end."
      ],
      "metadata": {
        "id": "d6yDNvfz2YKJ"
      }
    },
    {
      "cell_type": "code",
      "source": [
        "# create an empty list\n",
        "\n",
        "companies = []\n",
        "\n",
        "# add “apple” to companies\n",
        "companies.append(\"apple\")\n",
        "\n",
        "# add \"google\" to companies\n",
        "companies.append(\"google\")\n",
        "\n",
        "# add \"facebook\" to companies\n",
        "companies.append(\"facebook\")\n",
        "\n",
        "# print the items stored in companies\n",
        "print(companies)\n",
        "\n",
        "# insert “airbnb” at position 2\n",
        "companies.insert(2, \"airbnb\")\n",
        "print(companies[2])\n",
        "print(companies)\n",
        "\n",
        "\n"
      ],
      "metadata": {
        "colab": {
          "base_uri": "https://localhost:8080/"
        },
        "id": "IPQUFn0w2MXC",
        "outputId": "3ed5494c-6948-4b10-eea8-65992e9e2143"
      },
      "execution_count": 10,
      "outputs": [
        {
          "output_type": "stream",
          "name": "stdout",
          "text": [
            "['apple', 'google', 'facebook']\n",
            "airbnb\n",
            "['apple', 'google', 'airbnb', 'facebook']\n"
          ]
        }
      ]
    },
    {
      "cell_type": "markdown",
      "source": [
        "Conccatenation"
      ],
      "metadata": {
        "id": "7rlfG4b04neH"
      }
    },
    {
      "cell_type": "code",
      "source": [
        "langs = [\"haskell\", \"clojure\", \"apl\"]\n",
        "langs.extend([\"scala\", \"F#\"])\n",
        "\n",
        "print(langs)\n",
        "\n",
        "index_of_scala = langs.index(\"scala\")\n",
        "print(index_of_scala)\n",
        "\n",
        "# remove from list\n",
        "langs.remove(\"scala\")\n",
        "print(langs)\n",
        "\n"
      ],
      "metadata": {
        "colab": {
          "base_uri": "https://localhost:8080/"
        },
        "id": "5SI3ABdG4Zu7",
        "outputId": "904ac388-11d4-4f5c-e2e4-27c92e71cf3b"
      },
      "execution_count": 13,
      "outputs": [
        {
          "output_type": "stream",
          "name": "stdout",
          "text": [
            "['haskell', 'clojure', 'apl', 'scala', 'F#']\n",
            "3\n",
            "['haskell', 'clojure', 'apl', 'F#']\n"
          ]
        }
      ]
    },
    {
      "cell_type": "code",
      "source": [
        "\n",
        "\n",
        "# assign a list to some_numbers\n",
        "\n",
        "some_numbers = [5, 4, 3, 1]\n",
        "\n",
        "# pop the list\n",
        "\n",
        "some_numbers.pop()\n",
        "\n",
        "# print the present list\n",
        "\n",
        "print(some_numbers)\n",
        "\n",
        "\n",
        "#  Similarly, try to pop an element from a random index that exists in the list.\n",
        "\n",
        "# pop the element at index 1\n",
        "\n",
        "some_numbers.pop(1)\n",
        "\n",
        "\n",
        "# check the present list\n",
        "\n",
        "print(some_numbers)\n"
      ],
      "metadata": {
        "colab": {
          "base_uri": "https://localhost:8080/"
        },
        "id": "WbZA086t4agJ",
        "outputId": "8fdcacc7-a7ba-4867-ba5c-44c3d1e9aced"
      },
      "execution_count": 18,
      "outputs": [
        {
          "output_type": "stream",
          "name": "stdout",
          "text": [
            "[5, 4, 3]\n",
            "[5, 3]\n"
          ]
        }
      ]
    },
    {
      "cell_type": "code",
      "source": [
        ""
      ],
      "metadata": {
        "id": "FJXkTHda4amh"
      },
      "execution_count": null,
      "outputs": []
    },
    {
      "cell_type": "markdown",
      "source": [
        "**Other useful list**\n",
        "\n",
        "list.sort() - will sort the list in-place."
      ],
      "metadata": {
        "id": "k0jeCguV8XsK"
      }
    },
    {
      "cell_type": "code",
      "source": [
        "# initialise an unsorted list some_numbers\n",
        "\n",
        "some_numbers = [4,3,5,1]\n",
        "\n",
        "\n",
        "# sort the list\n",
        "\n",
        "some_numbers.sort()\n",
        "\n",
        "\n",
        "# print the list to see if it is sorted.\n",
        "\n",
        "some_numbers\n",
        "\n",
        "\n"
      ],
      "metadata": {
        "colab": {
          "base_uri": "https://localhost:8080/"
        },
        "id": "MM_RuddR4aqs",
        "outputId": "6255cf17-c606-4477-e750-8438936368e6"
      },
      "execution_count": 22,
      "outputs": [
        {
          "output_type": "execute_result",
          "data": {
            "text/plain": [
              "[1, 3, 4, 5]"
            ]
          },
          "metadata": {},
          "execution_count": 22
        }
      ]
    },
    {
      "cell_type": "code",
      "source": [
        "#  list.reverse() - will reverse the list in place\n",
        "\n",
        "# initialise a list of numbers that\n",
        "some_numbers = [1, 3, 4, 5]\n",
        "\n",
        "# Try to reverse the list now\n",
        "some_numbers.reverse()\n",
        "\n",
        "# print the list to check if it is really reversed.\n",
        "print(some_numbers)"
      ],
      "metadata": {
        "colab": {
          "base_uri": "https://localhost:8080/"
        },
        "id": "CcY4AdGH4a0z",
        "outputId": "b6c204c5-82e4-40e9-d497-70c604bbd8e0"
      },
      "execution_count": 23,
      "outputs": [
        {
          "output_type": "stream",
          "name": "stdout",
          "text": [
            "[5, 4, 3, 1]\n"
          ]
        }
      ]
    },
    {
      "cell_type": "markdown",
      "source": [
        "**Functions over Python Lists:**\n",
        "\n",
        "\n",
        "You use the function “len” to get the length of the list."
      ],
      "metadata": {
        "id": "taP7cIAR9kaW"
      }
    },
    {
      "cell_type": "code",
      "source": [
        "# you have a list of companies\n",
        "companies = ['hackerearth', 'google', 'facebook']\n",
        "# you want the length of the list\n",
        "print(len(companies))"
      ],
      "metadata": {
        "colab": {
          "base_uri": "https://localhost:8080/"
        },
        "id": "sR6zkxKs9ckZ",
        "outputId": "b910193e-1031-4342-d4b2-50f06351a780"
      },
      "execution_count": 24,
      "outputs": [
        {
          "output_type": "stream",
          "name": "stdout",
          "text": [
            "3\n"
          ]
        }
      ]
    },
    {
      "cell_type": "markdown",
      "source": [
        "For example, you have the list of companies ['hackerearth', 'google', 'facebook'] and you want the index, along with the items in the list, you can use the enumerate function."
      ],
      "metadata": {
        "id": "AWFpQc1H97QU"
      }
    },
    {
      "cell_type": "code",
      "source": [
        "# loop over the companies and print both the index as youll as the name.\n",
        "\n",
        "\n",
        "for indx, name in enumerate(companies):\n",
        " print(\"Index is %s for company: %s\" % (indx, name))\n",
        "\n",
        "   "
      ],
      "metadata": {
        "colab": {
          "base_uri": "https://localhost:8080/"
        },
        "id": "fo8am3dr9crT",
        "outputId": "526189be-fccd-468f-9635-e9b37c3bd837"
      },
      "execution_count": 26,
      "outputs": [
        {
          "output_type": "stream",
          "name": "stdout",
          "text": [
            "Index is 0 for company: hackerearth\n",
            "Index is 1 for company: google\n",
            "Index is 2 for company: facebook\n"
          ]
        }
      ]
    },
    {
      "cell_type": "code",
      "source": [
        "# initialise a list\n",
        "some_numbers = [4,3,5,1]\n",
        "   \n",
        "    \n",
        "# get the sorted list\n",
        "   \n",
        "print(sorted(some_numbers))\n",
        "    \n",
        "  \n",
        "# the original list remains unchanged\n",
        "\n",
        "print(some_numbers)\n",
        "    "
      ],
      "metadata": {
        "colab": {
          "base_uri": "https://localhost:8080/"
        },
        "id": "SgoRj1J6-VMQ",
        "outputId": "2cf93dd7-a37d-4f6e-8d12-cea4fe31e281"
      },
      "execution_count": 27,
      "outputs": [
        {
          "output_type": "stream",
          "name": "stdout",
          "text": [
            "[1, 3, 4, 5]\n",
            "[4, 3, 5, 1]\n"
          ]
        }
      ]
    }
  ]
}