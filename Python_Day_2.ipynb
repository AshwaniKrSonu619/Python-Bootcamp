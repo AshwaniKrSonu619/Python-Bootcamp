{
  "nbformat": 4,
  "nbformat_minor": 0,
  "metadata": {
    "colab": {
      "name": "Python Day -2.ipynb",
      "provenance": [],
      "authorship_tag": "ABX9TyOxwvhEh6WRtyjNoJ+CQEiN",
      "include_colab_link": true
    },
    "kernelspec": {
      "name": "python3",
      "display_name": "Python 3"
    },
    "language_info": {
      "name": "python"
    }
  },
  "cells": [
    {
      "cell_type": "markdown",
      "metadata": {
        "id": "view-in-github",
        "colab_type": "text"
      },
      "source": [
        "<a href=\"https://colab.research.google.com/github/AshwaniKrSonu619/Python-Bootcamp/blob/main/Python_Day_2.ipynb\" target=\"_parent\"><img src=\"https://colab.research.google.com/assets/colab-badge.svg\" alt=\"Open In Colab\"/></a>"
      ]
    },
    {
      "cell_type": "markdown",
      
      "source": [
        "**Python String:**\n",
        "\n",
        "Strings are sequences of characters. Your name can be considered a string. Or, say you live in Zambia, then your country name is \"Zambia\", which is a string.\n",
        "\n",
        "In this tutorial you will see how strings are treated in Python, the different ways in which strings are represented in Python, and the ways in which you can use strings in your code.\n",
        "\n",
        "\n",
        "**How to create a string and assign it to a variable**\n",
        "\n",
        "To create a string, put the sequence of characters inside either single quotes, double quotes, or triple quotes and then assign it to a variable. You can look into how variables work in Python in the Python variables tutorial.\n",
        "\n",
        "**For example, you can assign a character ‘a’ to a variable single_quote_character. Note that the string is a single character and it is “enclosed” by single quotes.**"
      ],
      "metadata": {
        "id": "0MraEAkCks0z"
      }
    },
    {
      "cell_type": "code",
      "execution_count": 1,
      "metadata": {
        "id": "hDrVWq3jznxM",
        "colab": {
          "base_uri": "https://localhost:8080/"
        },
        "outputId": "968fd803-bb40-42c6-f9a9-dbf0f4280f6f"
      },
      "outputs": [
        {
          "output_type": "stream",
          "name": "stdout",
          "text": [
            "a\n"
          ]
        }
      ],
      "source": [
        "single_quote_character = 'a'\n",
        "print(single_quote_character)"
      ]
    },
    {
      "cell_type": "code",
      "source": [
        "print(type(single_quote_character)) # check the type of the variable.\n",
        "#<class 'str'>"
      ],
      "metadata": {
        "colab": {
          "base_uri": "https://localhost:8080/"
        },
        "id": "OxnsrMLPlcnp",
        "outputId": "3323ab22-ff17-449d-de40-cf6c6f3a8bd8"
      },
      "execution_count": 3,
      "outputs": [
        {
          "output_type": "stream",
          "name": "stdout",
          "text": [
            "<class 'str'>\n"
          ]
        }
      ]
    },
    {
      "cell_type": "markdown",
      "source": [
        "**Also check out if you can assign a sequence of characters or multiple characters to a variable. You can assign both single quote sequences and double quote sequences.**"
      ],
      "metadata": {
        "id": "IM5wX17ylzUx"
      }
    },
    {
      "cell_type": "code",
      "source": [
        "double_quote_multiple_characters = \"aeiou\"\n",
        "single_quote_multiple_characters = 'aeiou'\n",
        "print(type(double_quote_multiple_characters), type(single_quote_multiple_characters))\n",
        "#<class 'str'> <class 'str'>"
      ],
      "metadata": {
        "colab": {
          "base_uri": "https://localhost:8080/"
        },
        "id": "bHPuUEWElcsW",
        "outputId": "3742b233-bb59-4a30-cc75-e88d48e96c13"
      },
      "execution_count": 4,
      "outputs": [
        {
          "output_type": "stream",
          "name": "stdout",
          "text": [
            "<class 'str'> <class 'str'>\n"
          ]
        }
      ]
    },
    {
      "cell_type": "code",
      "source": [
        "#Interestingly if you check the equivalence of one to the other using the keyword is, it returns True.\n",
        "\n",
        "print(double_quote_multiple_characters is double_quote_multiple_characters)\n"
      ],
      "metadata": {
        "colab": {
          "base_uri": "https://localhost:8080/"
        },
        "id": "h08Hk_d6lcvg",
        "outputId": "3848a77f-0116-4b0f-841b-98dcedfb6f2b"
      },
      "execution_count": 5,
      "outputs": [
        {
          "output_type": "stream",
          "name": "stdout",
          "text": [
            "True\n"
          ]
        }
      ]
    },
    {
      "cell_type": "code",
      "source": [
        "#Take a look at assignment of strings using triple quotes and check if they belong to the class str as well.\n",
        "\n",
        "triple_quote_example = \"\"\"this is a sentence written in triple quotes\"\"\"\n",
        "\n",
        "print(type(triple_quote_example))\n",
        "\n",
        "#<class 'str'>\n",
        "\n",
        "\n",
        "#In the examples above, the function type is used to show the underlying class that the object will belong to. \n",
        "#Please note that all the variables that have been initiated with single, double, or triple quotes are taken as string. \n",
        "#You can use single and double quotes for a single line of characters. Multiple lines are generally put in triple quotes."
      ],
      "metadata": {
        "colab": {
          "base_uri": "https://localhost:8080/"
        },
        "id": "Zey-tMKtlc11",
        "outputId": "6d5043d2-8a9d-4914-983a-b4981a3753e8"
      },
      "execution_count": 8,
      "outputs": [
        {
          "output_type": "stream",
          "name": "stdout",
          "text": [
            "<class 'str'>\n"
          ]
        }
      ]
    },
    {
      "cell_type": "markdown",
      "source": [
        "**String common methods**"
      ],
      "metadata": {
        "id": "WtoAt-3lmy-L"
      }
    },
    {
      "cell_type": "code",
      "source": [
        "# Get the index of a substring in a string.\n",
        "\n",
        "# find the index of a \"c\" in a string \"abcde\"\n",
        "\n",
        "\"abcde\".index(\"c\")\n",
        "\n",
        "\n",
        "# 2 is returned because the position of the individual letters in the strings is 0-indexed. So, index of \"a\" in \"abcde\" is 0, that of \"b\" is 1, and so on."
      ],
      "metadata": {
        "colab": {
          "base_uri": "https://localhost:8080/"
        },
        "id": "6bLUFv-5mOp1",
        "outputId": "ece2d6fd-6b99-4abc-f752-857f8f70df49"
      },
      "execution_count": 15,
      "outputs": [
        {
          "output_type": "execute_result",
          "data": {
            "text/plain": [
              "2"
            ]
          },
          "metadata": {},
          "execution_count": 15
        }
      ]
    },
    {
      "cell_type": "code",
      "source": [
        "\"Ashwani Kumar Snu\".index(\"S\")"
      ],
      "metadata": {
        "colab": {
          "base_uri": "https://localhost:8080/"
        },
        "id": "Hj6w-q_YmOtQ",
        "outputId": "c04ff03e-350d-49ed-cec9-b5744b981a1f"
      },
      "execution_count": 14,
      "outputs": [
        {
          "output_type": "execute_result",
          "data": {
            "text/plain": [
              "14"
            ]
          },
          "metadata": {},
          "execution_count": 14
        }
      ]
    },
    {
      "cell_type": "markdown",
      "source": [
        "***Test if a substring is a member of a larger string. This is done using the keyword in and writing the test. The skeleton is shown below.***\n",
        "\n",
        "**substring in string**"
      ],
      "metadata": {
        "id": "7ZqGhKA7oFaF"
      }
    },
    {
      "cell_type": "code",
      "source": [
        " # for example, test if string \"i\" is present in string \"pythonic\" at least once. \"i\" is present in the string. Therefore, the result should be true.\n",
        " \n",
        "\"i\" in \"pythonic\""
      ],
      "metadata": {
        "colab": {
          "base_uri": "https://localhost:8080/"
        },
        "id": "o8wg0E-LmOw0",
        "outputId": "0c3b97f9-3402-4cb7-9a41-258f28e2dc3e"
      },
      "execution_count": 17,
      "outputs": [
        {
          "output_type": "execute_result",
          "data": {
            "text/plain": [
              "True"
            ]
          },
          "metadata": {},
          "execution_count": 17
        }
      ]
    },
    {
      "cell_type": "code",
      "source": [
        "# as \"x\" is not present in the string \"pythonic\" the below test should return false\n",
        "\n",
        "\"x\" in \"pythonic\" # \"x\" is not present in \"pythonic\""
      ],
      "metadata": {
        "colab": {
          "base_uri": "https://localhost:8080/"
        },
        "id": "BcSZnYuknqH8",
        "outputId": "8c2191f7-f548-4e89-a633-0cfac6402f9f"
      },
      "execution_count": 18,
      "outputs": [
        {
          "output_type": "execute_result",
          "data": {
            "text/plain": [
              "False"
            ]
          },
          "metadata": {},
          "execution_count": 18
        }
      ]
    },
    {
      "cell_type": "markdown",
      "source": [
        "**Join a list of strings using the join method. A list of strings is written by delimiting the sequence with a comma ,, and enclosing the whole group with brackets [...]. For a more detailed tutorial on lists head over to the python lists tutorial. You can join a list of strings by giving the delimiter as the object on which the method join will act and the list of strings as the argument.**"
      ],
      "metadata": {
        "id": "Mkr5ML7Ioo-P"
      }
    },
    {
      "cell_type": "code",
      "source": [
        "# join a list of strings 1, 2, 3 with a space as a delimiter and 1,2,3 as the list of strings. So, the result will be the strings with spaces between them.\n",
        "\n",
        "combined_string = \" \".join([\"1\", \"2\", \"3\"])\n",
        "'1 2 3'"
      ],
      "metadata": {
        "colab": {
          "base_uri": "https://localhost:8080/",
          "height": 35
        },
        "id": "vZHIOn2XnqO5",
        "outputId": "3f494a31-0794-48bf-fb4e-d0a0c84d9c76"
      },
      "execution_count": 23,
      "outputs": [
        {
          "output_type": "execute_result",
          "data": {
            "text/plain": [
              "'1 2 3'"
            ],
            "application/vnd.google.colaboratory.intrinsic+json": {
              "type": "string"
            }
          },
          "metadata": {},
          "execution_count": 23
        }
      ]
    },
    {
      "cell_type": "markdown",
      "source": [
        "**Break a string based on some rule. This takes in the string as the object on which the method split is passed using the dot operator. Splitting takes a space as the default parameter.**\n",
        "\n",
        "For example you can split a string based on the spaces between the individual values."
      ],
      "metadata": {
        "id": "AttD4AZnpRQs"
      }
    },
    {
      "cell_type": "code",
      "source": [
        "# split the string \"1 2 3\" and return a list of the numbers.\n",
        "\"1 2 3\".split() # splitting\n",
        "['1', '2', '3']"
      ],
      "metadata": {
        "colab": {
          "base_uri": "https://localhost:8080/"
        },
        "id": "gsLR83jTnqTz",
        "outputId": "7c0f816e-064f-41da-a37b-d03a54531863"
      },
      "execution_count": 25,
      "outputs": [
        {
          "output_type": "execute_result",
          "data": {
            "text/plain": [
              "['1', '2', '3']"
            ]
          },
          "metadata": {},
          "execution_count": 25
        }
      ]
    },
    {
      "cell_type": "markdown",
      "source": [
        "**Or you can split a string based on a delimiter like :.**\n"
      ],
      "metadata": {
        "id": "m4qecipcqAYI"
      }
    },
    {
      "cell_type": "markdown",
      "source": [
        "**Access individual characters in a string. Note the first element has index 0. You access the first element with the index 0, second element with the index 1, and so on.**"
      ],
      "metadata": {
        "id": "51fysc4eqe0L"
      }
    },
    {
      "cell_type": "code",
      "source": [
        "lang = \"python\"\n",
        "print(lang[0])\n",
        "print(lang[2]) # access the 3rd letter\n",
        "print(lang[5])\n",
        "print(lang[4])\n",
        "\n",
        "print(lang[-3]) # access the third letter from the end.\n"
      ],
      "metadata": {
        "colab": {
          "base_uri": "https://localhost:8080/"
        },
        "id": "RkwIC6k_nqZ2",
        "outputId": "75f104cb-83c5-4bf6-cd2a-b45fdd11c835"
      },
      "execution_count": 38,
      "outputs": [
        {
          "output_type": "stream",
          "name": "stdout",
          "text": [
            "p\n",
            "t\n",
            "n\n",
            "o\n",
            "h\n"
          ]
        }
      ]
    },
    {
      "cell_type": "markdown",
      "source": [
        "**Formatting in String:**\n",
        "\n",
        "String object can be formatted. You can use %s as a formatter which will enable you to insert different values into a string at runtime and thus format the string. The %s symbol is replaced by whatever is passed to the string."
      ],
      "metadata": {
        "id": "XwH_TpWasVQa"
      }
    },
    {
      "cell_type": "code",
      "source": [
        "print(\"I love %s in %s\" % (\"programming\", \"Python\")) # templating strings\n",
        "\n"
      ],
      "metadata": {
        "colab": {
          "base_uri": "https://localhost:8080/"
        },
        "id": "bn93Q_tFqZOa",
        "outputId": "64bd8b67-4b45-4443-eda1-8ba5f16549b1"
      },
      "execution_count": 39,
      "outputs": [
        {
          "output_type": "stream",
          "name": "stdout",
          "text": [
            "I love programming in Python\n"
          ]
        }
      ]
    },
    {
      "cell_type": "code",
      "source": [
        "# We can also use the keyword format. This will enable you to set your own formatters instead of %s.\n",
        "\n",
        "print(\"I love {programming} in {python}\".format(programming=\"programming\", python=\"Python\"))\n",
        "\n",
        "\n",
        "print(\"I love {python} in {colab}\".format(python=\"python\", colab=\"colab\"))"
      ],
      "metadata": {
        "colab": {
          "base_uri": "https://localhost:8080/"
        },
        "id": "SQhDQpftqZRa",
        "outputId": "00d68d2b-2bcc-414f-eca7-f482d4078ffb"
      },
      "execution_count": 44,
      "outputs": [
        {
          "output_type": "stream",
          "name": "stdout",
          "text": [
            "I love programming in Python\n",
            "I love python in colab\n"
          ]
        }
      ]
    },
    {
      "cell_type": "code",
      "source": [
        "#   Truth value testing of String\n",
        "\n",
        "#  A string is considered to be true in Python if it is not an empty string. So, we get the following:\n",
        "\n",
        "# Test truth value of empty string\n",
        "\n",
        "print(bool(\"\"))\n",
        "\n",
        "\n",
        "# Test truth value of non-empty string \"x\"\n",
        "\n",
        "print(bool(\"x\"))\n",
        "\n",
        "\n",
        "print(int())\n",
        "print(float())\n",
        "\n"
      ],
      "metadata": {
        "colab": {
          "base_uri": "https://localhost:8080/"
        },
        "id": "S1LpqhC5qZUX",
        "outputId": "20d48f5a-b9ce-4cda-f30a-70c09cccf9d0"
      },
      "execution_count": 49,
      "outputs": [
        {
          "output_type": "stream",
          "name": "stdout",
          "text": [
            "False\n",
            "True\n",
            "0\n",
            "0.0\n"
          ]
        }
      ]
    },
    {
      "cell_type": "code",
      "source": [
        "# String  'str'\n",
        "\n",
        "\n",
        "x = \"Hello World\"\n",
        "\n",
        "#display x:\n",
        "print(x)\n",
        "\n",
        "#display the data type of x:\n",
        "print(type(x)) \n",
        "\n",
        "\n",
        "# Int    'int'\n",
        "\n",
        "x = 20\n",
        "\n",
        "#display x:\n",
        "print(x)\n",
        "\n",
        "#display the data type of x:\n",
        "print(type(x)) \n",
        "\n",
        "\n",
        "\n",
        "# Display Float\n",
        "\n",
        "x = 20.5\n",
        "\n",
        "#display x:\n",
        "print(x)\n",
        "\n",
        "#display the data type of x:\n",
        "print(type(x)) \n",
        "\n",
        "\n",
        "# Display complex\n",
        "\n",
        "x = 1j\n",
        "\n",
        "#display x:\n",
        "print(x)\n",
        "\n",
        "#display the data type of x:\n",
        "print(type(x)) \n",
        "\n"
      ],
      "metadata": {
        "colab": {
          "base_uri": "https://localhost:8080/"
        },
        "id": "akRMuw1suu4q",
        "outputId": "8604f76e-b022-4223-a325-544e07a30c80"
      },
      "execution_count": 59,
      "outputs": [
        {
          "output_type": "stream",
          "name": "stdout",
          "text": [
            "Hello World\n",
            "<class 'str'>\n",
            "20\n",
            "<class 'int'>\n",
            "20.5\n",
            "<class 'float'>\n",
            "1j\n",
            "<class 'complex'>\n"
          ]
        }
      ]
    },
    {
      "cell_type": "code",
      "source": [
        "# Display List\n",
        "x = [\"apple\", \"banana\", \"cherry\"]\n",
        "\n",
        "#display x:\n",
        "print(x)\n",
        "\n",
        "#display the data type of x:\n",
        "print(type(x)) \n",
        "\n",
        "#display the len of x:\n",
        "print(len(x))\n",
        "print(len(\"banana\"))  "
      ],
      "metadata": {
        "colab": {
          "base_uri": "https://localhost:8080/"
        },
        "id": "sKh6gPhuuu7k",
        "outputId": "78b73183-6ba0-44fa-9cc5-e4268ee8cf56"
      },
      "execution_count": 63,
      "outputs": [
        {
          "output_type": "stream",
          "name": "stdout",
          "text": [
            "['apple', 'banana', 'cherry']\n",
            "<class 'list'>\n",
            "3\n",
            "6\n"
          ]
        }
      ]
    },
    {
      "cell_type": "code",
      "source": [
        "# Tuple \n",
        "\n",
        "x = (\"apple\", \"banana\", \"cherry\")\n",
        "\n",
        "#display x:\n",
        "print(x)\n",
        "\n",
        "#display the data type of x:\n",
        "print(type(x)) \n",
        "print(len(x))\n",
        "\n",
        "\n"
      ],
      "metadata": {
        "colab": {
          "base_uri": "https://localhost:8080/"
        },
        "id": "voTVvqccuu-Y",
        "outputId": "fcbd48b2-fdd5-4115-eb88-46516882da65"
      },
      "execution_count": 67,
      "outputs": [
        {
          "output_type": "stream",
          "name": "stdout",
          "text": [
            "('apple', 'banana', 'cherry')\n",
            "<class 'tuple'>\n",
            "3\n"
          ]
        }
      ]
    },
    {
      "cell_type": "code",
      "source": [
        "tuple = (\"apple\", \"banana\", \"cherry\",\"watermelon\",\"muskmelon\",)\n",
        "print(tuple)\n",
        "print(len(tuple))\n",
        "print(len(\"watermelon\"))\n",
        "\n"
      ],
      "metadata": {
        "colab": {
          "base_uri": "https://localhost:8080/"
        },
        "id": "c2sSCFNquvBO",
        "outputId": "31812f06-40f9-4a98-8200-ea3aaab400b1"
      },
      "execution_count": 73,
      "outputs": [
        {
          "output_type": "stream",
          "name": "stdout",
          "text": [
            "('apple', 'banana', 'cherry', 'watermelon', 'muskmelon')\n",
            "5\n",
            "10\n"
          ]
        }
      ]
    },
    {
      "cell_type": "code",
      "source": [
        "# Range  \n",
        "x = range(6)\n",
        "\n",
        "#display x:\n",
        "print(x)\n",
        "\n",
        "#display the data type of x:\n",
        "print(type(x)) \n"
      ],
      "metadata": {
        "colab": {
          "base_uri": "https://localhost:8080/"
        },
        "id": "XDDaJJVcuvEM",
        "outputId": "892f14eb-0dcf-445e-b64a-132baf97ded1"
      },
      "execution_count": 74,
      "outputs": [
        {
          "output_type": "stream",
          "name": "stdout",
          "text": [
            "range(0, 6)\n",
            "<class 'range'>\n"
          ]
        }
      ]
    },
    {
      "cell_type": "code",
      "source": [
        "# Dictionaries\n",
        "\n",
        "x = {\"name\" : \"John\", \"age\" : 36}\n",
        "\n",
        "#display x:\n",
        "print(x)\n",
        "\n",
        "#display the data type of x:\n",
        "print(type(x)) \n",
        "print(len(x))\n",
        "print(len(\"John\"))"
      ],
      "metadata": {
        "colab": {
          "base_uri": "https://localhost:8080/"
        },
        "id": "TPWLMsTszp9M",
        "outputId": "3946cb2e-22c0-489d-f0b3-3e2842a866e8"
      },
      "execution_count": 77,
      "outputs": [
        {
          "output_type": "stream",
          "name": "stdout",
          "text": [
            "{'name': 'John', 'age': 36}\n",
            "<class 'dict'>\n",
            "2\n",
            "4\n"
          ]
        }
      ]
    },
    {
      "cell_type": "code",
      "source": [
        "#  Dict\n",
        "\n",
        "d = {'Ashwani':90,'Aditya':100,'Shubham':80,'Ajay':95}     #  Ashwani - Key   90 - its value   => key value\n",
        "\n",
        "\n",
        "print(len(d))\n",
        "\n",
        "print(d)        # printing  dictionaries\n",
        "\n",
        "l = d.keys()\n",
        "b = d.values()\n",
        "\n",
        "print(b)\n",
        "\n",
        "\n",
        "del d['Ashwani']     # for deleting key values in dictionaries \n",
        "\n",
        "d['Ashwani']  =100    # adding keyvalue to it .\n",
        "\n",
        "\n",
        "marks = d['Aditya']\n",
        "d['T'] =100\n",
        "\n",
        "\n",
        "if ('Ashwani' in d):\n",
        "     print(\"Yes\")\n",
        "else:\n",
        "    print(\"no\")\n",
        " \n",
        "print(marks)"
      ],
      "metadata": {
        "colab": {
          "base_uri": "https://localhost:8080/"
        },
        "id": "v29pSajVzqAt",
        "outputId": "d28214ef-796a-46cc-caf4-2f927dd430ae"
      },
      "execution_count": 80,
      "outputs": [
        {
          "output_type": "stream",
          "name": "stdout",
          "text": [
            "4\n",
            "{'Ashwani': 90, 'Aditya': 100, 'Shubham': 80, 'Ajay': 95}\n",
            "dict_values([90, 100, 80, 95])\n",
            "Yes\n",
            "100\n"
          ]
        }
      ]
    },
    {
      "cell_type": "code",
      "source": [
        "# Set \n",
        "\n",
        "x = {\"apple\", \"banana\", \"cherry\"}\n",
        "\n",
        "#display x:\n",
        "print(x)\n",
        "\n",
        "#display the data type of x:\n",
        "print(type(x)) \n",
        "\n",
        "print(len(x))\n",
        "print(len(\"cheery\"))\n"
      ],
      "metadata": {
        "colab": {
          "base_uri": "https://localhost:8080/"
        },
        "id": "VaTtOzmVzqF6",
        "outputId": "0b244cd6-efa3-4a08-84ea-621ec865eef9"
      },
      "execution_count": 83,
      "outputs": [
        {
          "output_type": "stream",
          "name": "stdout",
          "text": [
            "{'apple', 'banana', 'cherry'}\n",
            "<class 'set'>\n",
            "3\n",
            "6\n"
          ]
        }
      ]
    },
    {
      "cell_type": "code",
      "source": [
        "# Frozen set\n",
        "x = frozenset({\"apple\", \"banana\", \"cherry\"})\n",
        "\n",
        "#display x:\n",
        "print(x)\n",
        "\n",
        "#display the data type of x:\n",
        "print(type(x)) \n"
      ],
      "metadata": {
        "colab": {
          "base_uri": "https://localhost:8080/"
        },
        "id": "FD8GWxEx0ge5",
        "outputId": "8c63b9fa-2ebd-4912-8031-2fb4c64aaf80"
      },
      "execution_count": 84,
      "outputs": [
        {
          "output_type": "stream",
          "name": "stdout",
          "text": [
            "frozenset({'apple', 'banana', 'cherry'})\n",
            "<class 'frozenset'>\n"
          ]
        }
      ]
    },
    {
      "cell_type": "code",
      "source": [
        "# Boolean\n",
        "x = True\n",
        "\n",
        "#display x:\n",
        "print(x)\n",
        "\n",
        "#display the data type of x:\n",
        "print(type(x)) \n"
      ],
      "metadata": {
        "colab": {
          "base_uri": "https://localhost:8080/"
        },
        "id": "0vHEu2eU0giR",
        "outputId": "46468419-5094-4fe0-a2f8-e57fae438c96"
      },
      "execution_count": 85,
      "outputs": [
        {
          "output_type": "stream",
          "name": "stdout",
          "text": [
            "True\n",
            "<class 'bool'>\n"
          ]
        }
      ]
    },
    {
      "cell_type": "code",
      "source": [
        "# Byte\n",
        "x = b\"Hello\"\n",
        "\n",
        "#display x:\n",
        "print(x)\n",
        "\n",
        "#display the data type of x:\n",
        "print(type(x)) \n"
      ],
      "metadata": {
        "colab": {
          "base_uri": "https://localhost:8080/"
        },
        "id": "ObOJvnRj0gla",
        "outputId": "b4fd4a31-aba4-4e82-9e40-e9205528540a"
      },
      "execution_count": 87,
      "outputs": [
        {
          "output_type": "stream",
          "name": "stdout",
          "text": [
            "b'Hello'\n",
            "<class 'bytes'>\n"
          ]
        }
      ]
    },
    {
      "cell_type": "code",
      "source": [
        "# Bytearray\n",
        "\n",
        "x = bytearray(5)\n",
        "\n",
        "#display x:\n",
        "print(x)\n",
        "\n",
        "#display the data type of x:\n",
        "print(type(x)) \n"
      ],
      "metadata": {
        "colab": {
          "base_uri": "https://localhost:8080/"
        },
        "id": "ri2CUWDx1inB",
        "outputId": "88052e01-66b2-4ae5-c0fd-c81835b07292"
      },
      "execution_count": 88,
      "outputs": [
        {
          "output_type": "stream",
          "name": "stdout",
          "text": [
            "bytearray(b'\\x00\\x00\\x00\\x00\\x00')\n",
            "<class 'bytearray'>\n"
          ]
        }
      ]
    },
    {
      "cell_type": "code",
      "source": [
        "# memoryview\n",
        "x = memoryview(bytes(5))\n",
        "\n",
        "#display x:\n",
        "print(x)\n",
        "\n",
        "#display the data type of x:\n",
        "print(type(x)) \n"
      ],
      "metadata": {
        "colab": {
          "base_uri": "https://localhost:8080/"
        },
        "id": "LRrDHbOP1iq2",
        "outputId": "a47801c9-00f3-4bce-b0ae-8f7149dc57ec"
      },
      "execution_count": 89,
      "outputs": [
        {
          "output_type": "stream",
          "name": "stdout",
          "text": [
            "<memory at 0x7f430c5ec600>\n",
            "<class 'memoryview'>\n"
          ]
        }
      ]
    },
    {
      "cell_type": "code",
      "source": [
        "# none \n",
        "x = None\n",
        "\n",
        "#display x:\n",
        "print(x)\n",
        "\n",
        "#display the data type of x:\n",
        "print(type(x)) \n"
      ],
      "metadata": {
        "colab": {
          "base_uri": "https://localhost:8080/"
        },
        "id": "_Jcv37Rh1iuF",
        "outputId": "0d6c3cc1-3525-47d2-850f-2799e5ad84fc"
      },
      "execution_count": 90,
      "outputs": [
        {
          "output_type": "stream",
          "name": "stdout",
          "text": [
            "None\n",
            "<class 'NoneType'>\n"
          ]
        }
      ]
    },
    {
      "cell_type": "code",
      "source": [
        ""
      ],
      "metadata": {
        "id": "y6iCrvHgzqSe"
      },
      "execution_count": null,
      "outputs": []
    }
  ]
}
