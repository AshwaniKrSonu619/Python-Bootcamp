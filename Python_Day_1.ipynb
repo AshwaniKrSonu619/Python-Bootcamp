{
  "nbformat": 4,
  "nbformat_minor": 0,
  "metadata": {
    "colab": {
      "name": "Python Day 1.ipynb",
      
      "provenance": [],
      "authorship_tag": "ABX9TyM3GPOzOFtZSIf+Z5w+C2HE",
      "include_colab_link": true
    },
    "kernelspec": {
      "name": "python3",
      "display_name": "Python 3"
    },
    "language_info": {
      "name": "python"
    }
  },
  "cells": [
    {
      "cell_type": "markdown",
      "metadata": {
        "id": "view-in-github",
        "colab_type": "text"
      },
      "source": [
        "<a href=\"https://colab.research.google.com/github/AshwaniKrSonu619/Python-Bootcamp/blob/main/Python_Day_1.ipynb\" target=\"_parent\"><img src=\"https://colab.research.google.com/assets/colab-badge.svg\" alt=\"Open In Colab\"/></a>"
      ]
    },
    {
      "cell_type": "markdown",
      "source": [
        "**Python Input and Output**"
      ],
      "metadata": {
        "id": "Cs6e89qVO1UP"
      }
    },
    {
      "cell_type": "code",
      "source": [
        "print(\"I am starting python on hackerearth,Day 1.\")"
      ],
      "metadata": {
        "colab": {
          "base_uri": "https://localhost:8080/"
        },
        "id": "NophiaygPhXw",
        "outputId": "7b0bd6e0-658e-42ad-cd90-c733b9e92b0a"
      },
      "execution_count": 17,
      "outputs": [
        {
          "output_type": "stream",
          "name": "stdout",
          "text": [
            "I am starting python on hackerearth,Day 1.\n"
          ]
        }
      ]
    },
    {
      "cell_type": "markdown",
      "source": [
        "**Take an input and assign it to a variable** "
      ],
      "metadata": {
        "id": "E4glvcXSP7zQ"
      }
    },
    {
      "cell_type": "code",
      "source": [
        "beautiful_number = input()      # The data you key in the next line which is 6 will be assigned to beautiful_numbe\n",
        "print(beautiful_number)         # the next line will print the value in beautiful_number after you press enter or return"
      ],
      "metadata": {
        "colab": {
          "base_uri": "https://localhost:8080/"
        },
        "id": "2cnA2IP-Phb0",
        "outputId": "86759b25-8ccf-4c7b-8cd5-398c6524e08a"
      },
      "execution_count": 5,
      "outputs": [
        {
          "output_type": "stream",
          "name": "stdout",
          "text": [
            "6\n",
            "6\n"
          ]
        }
      ]
    },
    {
      "cell_type": "code",
      "source": [
        "beautiful_number = input(\"tell me a beautiful number \") \n",
        "print(beautiful_number)"
      ],
      "metadata": {
        "colab": {
          "base_uri": "https://localhost:8080/"
        },
        "id": "XNwsIbQ_Phe8",
        "outputId": "cdbbbc54-db95-4e18-fc63-ea5e786b5632"
      },
      "execution_count": 7,
      "outputs": [
        {
          "output_type": "stream",
          "name": "stdout",
          "text": [
            "tell me a beautiful number 6\n",
            "6\n"
          ]
        }
      ]
    },
    {
      "cell_type": "markdown",
      "source": [
        "**More on using print**"
      ],
      "metadata": {
        "id": "ReUjlc_iQpY_"
      }
    },
    {
      "cell_type": "code",
      "source": [
        "print(\"5\"*6)\n",
        "print(5*6)\n",
        "print(5,6,7)\n",
        "\n"
      ],
      "metadata": {
        "colab": {
          "base_uri": "https://localhost:8080/"
        },
        "id": "s1O1hdYRPhiL",
        "outputId": "29d777d5-cae7-42d4-e388-49092ef1cdfe"
      },
      "execution_count": 10,
      "outputs": [
        {
          "output_type": "stream",
          "name": "stdout",
          "text": [
            "555555\n",
            "30\n",
            "5 6 7\n"
          ]
        }
      ]
    },
    {
      "cell_type": "markdown",
      "source": [
        "**To change the output to what we  want, use the keyword arguments sep and end to print ( ). When separating the output with a comma delimiter, we can also define the separation format using the sep keyword.**\n",
        "\n"
      ],
      "metadata": {
        "id": "sOPorp4WRGqY"
      }
    },
    {
      "cell_type": "code",
      "source": [
        "print('LOVE', 30, 82.2)\n",
        "print('LOVE', 30, 82.2, sep=',')    # here we have used  sep keyword"
      ],
      "metadata": {
        "colab": {
          "base_uri": "https://localhost:8080/"
        },
        "id": "do8wnh4IPhlN",
        "outputId": "73416303-74e2-4095-ef70-285ad63cf32f"
      },
      "execution_count": 12,
      "outputs": [
        {
          "output_type": "stream",
          "name": "stdout",
          "text": [
            "LOVE 30 82.2\n",
            "LOVE,30,82.2\n"
          ]
        }
      ]
    },
    {
      "cell_type": "markdown",
      "source": [
        "**By default, print goes to a new line at the end. We\n",
        " can change this by using the keyword end as shown in the example below.**"
      ],
      "metadata": {
        "id": "h1RH16N_RgG0"
      }
    },
    {
      "cell_type": "code",
      "source": [
        "print('LOVE', 30, 82.2, sep=',', end='!!\\n')"
      ],
      "metadata": {
        "colab": {
          "base_uri": "https://localhost:8080/"
        },
        "id": "q7K_DsPcRBuQ",
        "outputId": "99760fb4-6005-49e8-c6c6-b93304569a4b"
      },
      "execution_count": 13,
      "outputs": [
        {
          "output_type": "stream",
          "name": "stdout",
          "text": [
            "LOVE,30,82.2!!\n"
          ]
        }
      ]
    },
    {
      "cell_type": "markdown",
      "source": [
        "For example, we can print the letters in the word \"python\" and all the letters will come in a new line."
      ],
      "metadata": {
        "id": "wbH2rJUSRy_D"
      }
    },
    {
      "cell_type": "code",
      "source": [
        "for i in \"python\":\n",
        "  print(i)"
      ],
      "metadata": {
        "colab": {
          "base_uri": "https://localhost:8080/"
        },
        "id": "X9uJlNztRBz8",
        "outputId": "2fe58088-07d3-4c18-888d-b18a44554392"
      },
      "execution_count": 15,
      "outputs": [
        {
          "output_type": "stream",
          "name": "stdout",
          "text": [
            "p\n",
            "y\n",
            "t\n",
            "h\n",
            "o\n",
            "n\n"
          ]
        }
      ]
    },
    {
      "cell_type": "code",
      "source": [
        "for i in \"python\":     # we  can change this default implementation. We can have a colon : between the letters instead of a new line.\n",
        "   print(i, end=\":\")"
      ],
      "metadata": {
        "colab": {
          "base_uri": "https://localhost:8080/"
        },
        "id": "1bAo-80mRB3T",
        "outputId": "7484028a-35c6-4ba3-cdbe-662879b37df9"
      },
      "execution_count": 18,
      "outputs": [
        {
          "output_type": "stream",
          "name": "stdout",
          "text": [
            "p:y:t:h:o:n:"
          ]
        }
      ]
    },
    {
      "cell_type": "markdown",
      "source": [
        ""
      ],
      "metadata": {
        "id": "C4-RsEVIUCTu"
      }
    },
    {
      "cell_type": "markdown",
      "source": [
        "**Printing  Result on calculation**"
      ],
      "metadata": {
        "id": "LbbZ8O9aS7DH"
      }
    },
    {
      "cell_type": "code",
      "source": [
        "population = 7\n",
        "\n",
        "print(\"Population in 2050: \", population * 1.28)   # making the calculation in place\n",
        "\n",
        "loan = 400000\n",
        "print(\"loan in 2024:\",loan * 0.17)"
      ],
      "metadata": {
        "colab": {
          "base_uri": "https://localhost:8080/"
        },
        "id": "kGf2wzXFRB6r",
        "outputId": "eea76d0d-489c-409c-fe60-220d9ce5fbba"
      },
      "execution_count": 28,
      "outputs": [
        {
          "output_type": "stream",
          "name": "stdout",
          "text": [
            "Population in 2050:  8.96\n",
            "loan in 2024: 68000.0\n"
          ]
        }
      ]
    },
    {
      "cell_type": "markdown",
      "source": [
        "**Variables**\n",
        "\n",
        " variable can be considered a storage container for data. Every variable will have a name. For example, we can have a variable named speed_of_light. A variable is a good way to store information while making it easy to refer to that information in our code later. A close analogy to variables may be a named box where you can store information.\n",
        "\n",
        "![image.png](data:image/png;base64,iVBORw0KGgoAAAANSUhEUgAAAlgAAAEiCAIAAACqVTuxAAAgAElEQVR4nOy9ebwlVXX3vdbaVWe459x57L7dDQ00NDKKMijGBNDwkkQh+kRNNDGAT96gRpOoxJA8ap6PSfAxPIL6RknUKHle9HF+jGASY4AYeBmUSRERaKCb7r7zdKYa9l7r/WPXqVtnuD2Awm3v/n7up/ucOlW7dtW9Z/9qrb3W2riwsBQEASkfgMHhcDgcjg2D0bpUKnnSBECe7y45HA6Hw/HcYeWPnu9uOBwOh8PxfOKE0OFwOBwbGieEDofD4djQOCF0OBwOx4bGCaHD4XA4NjROCB0Oh8OxoXFC6HA4HI4NjRNCh8PhcGxonBA6HA6HY0PjhNDhcDgcGxonhA6Hw+HY0DghdDgcDseGxgmhw+FwODY0TggdDofDsaFxQuhwOByODY0TQofD4XBsaJwQOhwOh2ND44TQ4XA4HBsaJ4QOh8Ph2NA4IXQ4HA7HhsYJocPhcDg2NE4IHQ6Hw7GhcULocDgcjg2NE0KHw+FwbGicEDocDodjQ+OE0OFwOBwbGieEDofD4djQOCF0OBwOx4bGCaHD4XA4NjROCB0Oh8OxoXFC6DiCEZH0364f2ReI2Lab3dK5c1cQca0dsPUHRLDrfgfsf9u50u3p67ZWWy4EAAEI0Z56tSdrsvqVP8B1tbV/6D9tDR60fYdjPeCE0HGkkipcm6rZj4iSv2073Kc72y3MbLfbf9OdM5AI2i+IiBB59m27gmZeWO1a3ZJoAK3xAwBgz5vVbAsR2U7a3tpW04tNrwiaJzXMgMgitgMHEB8ETuWKmbN3qfMeptd16D9ElP29dDbrcKxDnBA6jlSyg2yb5WGH4+xHbTsTUaqF2Z0zjQsAAzAgA3LyGrjNrBQRaLbc1kjzjLzGT3JItgP2EPs2lZNUe7Pmb1Zj7IV0Wr1rIRlNXd2/1aDsovmHRvpsYTt2+A04HM8DTggdRzapYZfdYrUhfdspEtkxmpmz7lP7YrUFIRCSVoPSvrUWFTOn7WKrKB6KlNgWrGXW1gdoKmX6umuDqXCmjRxADiXTvbbt6U9qVj4Dt2bbjTr8BhyO5wEnhI4jks4Jv6xgWHVJd0h9jNDUCet7TA2vrE1mX7SZiW0GZVe3avaQVHsPcAnZDmStvaz4EVEqSOlubVKX9sFe5lp6mT1pV7HMmphwaMZlJ23WrZsjdBwReM93BxyOZ0LWZmJmz/MGBweVIsJsdAwgQr0eVCoVbrX5rMGXjtrGGM/zCoVCuVTqnC5MD6lUKkEQcUYIIWM7aq1HR0d9Xx2KHWT1oVKpVSoVpXwAZuaBgYF8Pp/dbWFhIY7jtinM9NTGmMGBgZ6eQrpxcXG50WgopdbSH6uaWuvh4WHP89LbWK/XV1ZWELGnp6dcLj9jY65ardZqtdTz3GmvOxzrEJyfXwyCgJSfzls4HOsfO7IaY3p6egYG+gDg0Ucfv/fee5944vG9e/caY0ql0tFHH3388Ttf9KIXDQ0NaCNTU1NKKeiw9ix9fX1xFO3Zs2dxcb7RaCwsLEVRZMdxz/PGxsY2bdp07LHHFgo5ANg/NWOPyka7eJ63d+/eRr2ulBIxzdF/LacLM/Pw8Ojg4GAcx4iolFpYWIjjEBJVUwBwzLHHrqysdIZi2saVUvNzcysrS9B0CE9MbC6Xy1rrAxhi9ooWFxbiOE6/9T09Zat/1Wq1Xq8bk6rv4TmNij095XLZGJN12Dq70LFuMVqXSiUnhI4jEgTQWk9ObhKRL33pSzfccMOtt95aq9Xad0M86qjtF1988ZV/8iebNo0vLCwFQZCdkLMMDw//3fXXf+xjH3v88Ue11m0t2HHc9/0TTzzxvPPOe8Mb3nDOOedUqvVKpZIKoe/7Q0ODL/+Fl99+++2H/lX60Ic+dOWVV05Pz/q+PzQ0cN55F/znf/4HZByYn/vcP77hN1+/b18i4SlWYMbGRq74/bdef/0n0q5+4QtffN3r/sv09OxayoMA9lwXXHDBf/zH6rne9a53XX311QBwzTXXvPe97111wx6mhP3hu979oQ/99czM3EGnNh2O9YAVQjdH6FjftEaO2Bd2EmtyctOePXvOO++817/+9TfddFOnCtpDnnxy10c/eu1pp5766U99ZnhoYPOmCWNMdmhGAN+je+/93iOPPNymgtmTxnH84IMPXnfddS95yUve97739ZZ7Nk2M2/2b4Z0Qho3DeqDUuhk+yggAlcqy1toYE8ex1jqO47e//a1hEI2PjRljsgdiM3EwjuNsV0VaduuEm5ezvLystbZn0VrX63W7PQzDdKPWOjZdfjSbthfp60a9igCSmaB1KRSO9Y8TQse6Jpszl87J5XK58fHRW2655cUvfvFtt90GreZd15S4ubmZ//pfL7/88svDMNgyuUlr3eavGxoagkxATVsf2hr84Ac/eOGFF4ZhNDI8nI3EKRQKbQfSmtntLeEtdlNPTw+0mlALCwtXXHGF51E+n2+7Rvs2l8tle9ctIbIFbKYn2nOl2LnJbJxO1+DPbAhMNuKmbS7QaZ/jyMIFyzjWO9koUERURCPDgzfccMOb3/zm7D4AMDExcdFFFx177LGIOD09fcstt/zgBz+AzJD9mc985vvf//7dd989PDy8uLjYdYi3O5966qkXXHBBsVj0fX9xcfGhhx76zne+kz3dt7/97V/5lf/r3//93wuFQhiGWTlMKRQK+Xy+05gTEQBi1uVyWQQAkaEl3SIb2PnZz37m1a9+9SW/fvHevft934emXOFq0mFL48ndOJgUddUqRMzn80SeUi0ZlkqpOI6NManyKaV8389eGiJqrUulUvYuJc8uzjvqWN84IXSsd7IpDVrryc0TDzzwg6wKWv7iL/7ine98Z39/P2SE5MYbb7ziiisqlUra1AMPPPCmN73pi1/8YiOfj6KoMx3evvjDP/zDSy+9NGvl3H///Zdffvm9996b7nbLLbf8n//zTxdf/Kqp6dm2bAF79k984hOvec1rpqenGYTQAzFJwKoiYWTRPYXSzOxcNgAVWo1gy1vf+vu/+mu/Njw0tLKywq3hJ13jUBAPNLWXPVcb8/OLr3ntb5x3/it830dEECOCiDg+Pvq+973v+uuvT7v3e7/3e+9///tnZmYAKNFdZK31QN/g/PyiVT4nfo4jBSeEjnWNNFXNjv695TIA/OZvvt5+mmrk17/+9YsvvlhrnpqasdtZpLdcfuMb33jWWWf90i/90r59+6ApG1/+8pdvvvnmiy76lamp6WxyXnpSRJyfnweAmZk5qyieUqeffvpdd921c+fOXbt2pfLz2c9+5uKLX5Ue25bSPj4+3tvbmy8WEFQ27zARPJJatVGv17N1zjr9jQAwNTX1Z1e998Mf/vDy8kGCMA8an5n1XnbmFDaCYHh4ePv2o6xKNkvaABFMTEykp0DEsbGx8fHx0dHxNtdvrVqrVqvYLLSGrcUNHI71iZsjdKx3UguJmfv6yjfccMPDDz9sP7Ij+LXXXnvxxRfPzMzNzs1hWpcTsVKt7t8/vWPHjk996lNtrV111VWIUCwWocNC6jTIACDWev/+aaXUBz7w37Nm4oMPPlit1m07aX/SY60lujC/ND8/v7CwYP+dnZ1dWFhYWFiYm5sLgqBNJFJVfuUrX7lly5a0e3/zN3+zf//02NgYG9PWvcNSmWwP23oLAJ7nNRqNqamZ2dnZ2dnZmZnZ6emZmdlZEcnGIqVvZ+fmpqdnpqdnZmZm7U+tXsdMUK4tmuPSJxzrHCeEjiMAK049xSIAXHPNNdmPXvziF7/jHe9YXqkaWzu0WbTMmiNItLy8fNFFF51++umQsbEefPDBb3/72zYBETqqmgGATeOTzKdIBIBnnX2253np/tPT09PT0/l8PisqqVcw+bfjWrpcYOs8n4i84hWveMtb3pI11z75yU8StdQjhWS+8CCNd97MblEtZLvalvnXNXoo7aQ06xJAq1u4bTdnETrWOU4IHUcAdjDt7++78867H3zwwexHV155JSJWq9V0tE1LgNq31nZ5z3vekxUVEbn//vvTRtomtLJ7QkYMjOFisZgGWAJAHMdRFCilsiN+h0GZKfCW0UVCTwQ7DSb7dv/+/e985zvTNhHxL//yL/fu3T8xMZYtjnq4GtN2aZ22GjZrqB7YjEs9nzZwRzKl5pzyOY44nBA6jhgQ4eabv9l8jQAwNDR0/vnnh5HO5pu3jcKk/HojvPjiiycnJ7Pbf/KTn2R37ioPmOxAKMTGeB7Nzc7WarX0qIGBoeHh0SiKEFWb9YOInucJgOfn8/m87/u5XM7P5fxcLpfL5f2C73mpISjIbcJz33339ff3v+Utv5d2iVm/4Q2vsxOlttJ3V6U6qICt8QlDa1HT1Qs5QGvJ/eGD6qvDsZ5xQug4AkhEReC73/2u3WJH6mOOOWZ4eLharbbt3xYDsry8XCqVLrzwwuw+9913HzPYhARY27RiZgAWMFZrb7jhs5AZ6E888YTR0ZF6rZbGtWaNTjt32Nvb29PTUyqVent7y+VyuVwulUrl3p5isYiIzex+atOSKIoA4CMf+Uiamygit99++zXXXNPbW26NqWm/8EO9rQ6HAwBc1KhjnZOO+L7vNxrB/v37049ExBp56cqCkFGCbDiofbFz585sy9PT03Nzc6VyOY4i6DBiUhPTrlMxPDSkFN5yyy0f/ehHsx0777wLEEFr7fkKOnIS/uAP/mBwcLBrtRpEtXPn8X//d/8QRA2redAqxmEYa83lcs+f/MmffuAD70sP/PM///Pf/u03j46Ozs3NJUGdHdaXHEIeocPhSHFC6FjXpPNV+Xx+Znp6dnY2++nmzZttNGlnCkR2xs5OX42MjGSPnZ+fr1QqA4ODXc9bLvcAwPj4qG1nZmbmH//xH9/97ne3tX/ZZZdFkW47Ucqjjz7a1mzGkqOpqX25XC420VrXbhPYr7zyyo9//KNzNiBWJAzDP/iDt33xi1/0vXZ3TrYb7JyTDsch44TQsa5JkxmUUkEQtBUUtYXH0ky1NqMwezjAarJENtBjLUfitddee8cdd9i4mD179tx5552Li4tt+3z84x/funVy//7pNH0wtU3b/JxtPQEARJmYmBAwbXVnsvsDQK1WGxjo+9CHPnT55Zenx375y1++4447XvKSl0DH1GZ6XQe7rw6HYxUnhI4jgLVMrq6Rk5loRslKnZWcVKU6YjtbePjhh9NsxWyb6ZY//dM/fetb3zo/v2jXzk13y4pxNqOgzU8rIrt371ZKteUeZPe3ht3ScuWyyy679tprbbk4u/M73vGO733vewBQKBQQ272jzjXqcBwWTggdRwbGmEKh4Pt+o9GAplTYNRM6baDO0BUAaDQaqQQiYn9/f7lczq7esBZtMpbL5T75yU9eeumllUotDEMkapPJ9CxvfvObTzvttEqlkkq43W47Nj4+XqlUbAfatDw701mtVvv7e6+99toLLrgg3eHee+/9+te/fskllyCiSMsdcK5Rh+NwcULoODIIw3B0dHRycnJlZQWaUvfkk08CgFKqMyAFMmaWfWFLo6UqNTk5OTIyUu22eFNnO7lc7uijjz799NN3nHD8a1/zGy88/dRkacNmTE3qns26Rt/2tredeeaZB2h5374p7FgcsUky8el53uLi8vnnn3/OOefcddddqUH5x3/8x5dccsn27dsRWwxK5xp1OA4XJ4SOdY3VFmYOw7C/r7xjx46sx3LXrifDMM7lcnZZpezUYFJcBgAgyZGw69Cmtt1JJ53k+yoMw64+xHe/+92vfe1r9+7dCwDFYmnbtm1bt27t7++1CrN33xQiUkvyYku5MvviiaeePPPMM5vL5FK6VGHah9UWWDoWMkxKvQBAGIYA8Hd/96nTTjsFmlL3xBNPfPvb33nhC19orV/EVSPQrfbgcBwWTggd65tMBAoAnHHGGd/4xjfSD3fvfvLpp5/evn17Nsk9rY1i/zXGDAwMPPHEE3fffXd6oIgce+yxBzjtCSeccM4556RvmaFWq83MzBlmIrI5FW2HdMbIrKVGrdtTgTxQUu/09Owpp5z0tre97eMf/3h6iq9+9atvfOMbrXfUbuuMnnU4HAfFJdQ71jXZLAgBeMUrXgGZgT4Mw6985Uupb7AtUAWbVpJSeOONN7al6x1YCJeWlgBgenp2ZmZuenp2dna2Xq8nbTJny4mlh9iZwq6XAACpq7P7ZR5MuUQkDOOrr/4f6QLCiPiNb3z9+9//floTANISqc416nAcDk4IHeudVAuXlysvfem5J598ctbuufrqq6vVyqaJcTaGOqfHRIaHh6NIf+QjH8k22Nvb+8pXXhgEa+bwSVOarHxJRseyhUxT5evM3EjJJmx0vbpDuguI8/PzpVLxIx+5DppBN/v27fvCF74wOjraecZDatPhcACAE0LH+scaYQBQr9cR4T3veY/dbtVlcXHxt37rtxBhYmKiWa4sgY0pFAq5nHf11Vfb9QXTT9/5zj8aGxtZ6EgNzJ5UJFkNEVozN1K1y8phNi8ibSR9rYjSaFVpaiwiwuFM5iHRwuLy7/zOm2wGoeXOO++cmprK1vV2OByHi5sjdBwB2HwDIqpUar/927/z4Q9/+Ic//CE0leab3/zm7/7u7372s5/dvHkCAESAWZRKVOG66657//v/G2TCKQcHB6+66qpavX0twCwigpgoXDrjqFrTErLL8Ha1Bbdt2wYA4+OjtlddzzY/vxiEsVIHtwsRsdFoyGD/3/7t355xxhlNWeU0I79rHxwOx0FxQug4AkjT71Yqld7e0je+8c2zzz7TlluzOvS5z33unnvuufzyy3fs2LF9+3ZEnJmZeeSRR26++eabbropbQQA8vn8v/7rvxWL+b37prJrVrRhLcLs6uqqmZWYTStMjULKZEGkvtCPfvSjt51y6vLyclZQs05UIrrssrcMDw/rmLt2o+0mKKVmZuZOP/30q6666q/+6q+a3UgiZbL9cTgch44TQseRgR3llVL79k1t337U7bffftZZZy0vL6ea9KMf/ehd73oXANiozq6Zhblc7tZbb33xi8/Yl6ggdSQtZM8IhChrr+GXWoptftH038/feOPn5cYDX9drXvNftm8/an5u+VDuAAAYYyrV+gc/+MGvfe1rP/rRjyBTdNtZhA7HM8PNETqOGOwoT0pNTc/u2LHj/vsfPPnkk+1H2aouzJxVwVQbzjjjjPvvv//ss8+Zmp7FJP8hWdS+k84Yls7dUssPMov2tUjRwfydnucpz2MBwRY9butbtk0iWllZEYBPfPLvOr+/Iibbma60daql8daFO5LXazfVtv+GFGFa42dNsPkv2pldAMbnbRxGkvRJCoUAAJA34O/RCaHjiGTfvqmjjtp6xx13XnbZZdntXQRMpKen54Mf/OBdd91z4okn7t8/lU34S32Jc3NzkFEFmz7R2dRa/bEH7t27N1sd7aBXobU2WtvJSBHZs2dPeqKnnnoqzVZsO69Sam5u4WUvO/eSX//1thM1Go2DRqHa/e250vtgg4kMM7RalmvdH/uWO/b/eQUzP00IgBC4+48QCmHrgcmPECGyIIgHAAKg5HlzaLMhbEZyCWkAAPFk4+mCc406jkiUUnv37h8bG/vUpz799re//Wtf+9ott9zy8MOPzM8n6zQh4sjIyKmnnnreeee99rWv3blzZ70ezMwsKaVSb2c6ggdBdO6556aRpSJy+umnh2EszRCXRDDWHu6ZOQzjV73q4gceuC8z9Xgg1ysAEFGpVAqCiJmjKHrd616X1s055phjgiCwhcJTOUw9sVEUGcPvfe97jY4go2fbtm0LwzVzQpKuGhOGYXoue+xLX/rSRhB1zf3Abvfn3HPPDYKozV7cCNmLmWtkAJDuv2KCRFRodUvzKCHN4BECgBZBDz0DnXWFniNsuBWhEiAEFNFEwgdNa/25A+fnF4MgIOU/X78Jh+OZYc0RIrJhmQCwe/fT+/buqdVqIjI4OLh585ZNmybs2L5//3SS5JApwJY2ZYwZGR7O531ohnfW68Hi4iIplYrQQYweEWYeGxvzPDqstR/m5haiOAYAYZ6c3JRpD/btn2orYZPthtZ6eHi4WMhlD6lWa5VKBbsVvslitM6eCwCCMJ6fn08lXJqVwe1bNma49f6EYTw/P58WHG+7nxuHta5Z1thHgFBAkBFYgIQUsQGhNt/4c0nSE0ECBGQBwI3xTGMxWpdKJSeEjiMVbF2JMJfLlUqlQt5P1aLRCOv1ul3eIbUCsynwaf5fmiaYJvxBczEjY4xVowOP9bYdu6wSZmpwrzWgiIg9V6x1qjqISGn3Wte7TzMXs3GnSam3TDyqObSo0fRC0glO7pYE2Xl/krOnApkt4vNzroVZb2EytwdrW4TN2V1rNa5ij2IRIYVskITBU6KfL28kAhgkAPDFGNGAPjAimY3jHXVC6Pg5oc1ca7Nm0kE8O1JnpwntcA8HnAI8qEXYucNBtSE9xCoOAGSrcrdE4mTUqGv8KnWkdjxj0nagKZCHcn82CJ2/y0O8I+mBGsQDESASEASDRGxEecjd12f+WWOFUAkza1E5ZOMhxKjo+Zu2fI6xQujmCB1HMG1GYRJW2pxISzemTtR0XrAtniXdIStdWUvroLZOdgerRge1kDLqJc1EQIDMXGC2lpulTYpSt2R6XYdulnVKZvbOQBrcmKmh03Z/OoX55xlkEMpc6uqcX+tbsOG+SSAoEqISVIAKERHI9wgYlYe2PgOxkcaK6Fjo+TGmBZlYAIVyRaICx3UtEWAe5CAzzT9nOCF0HJG02UxtgY6pTy8reOn2rk0BkAinRz0bA8uOcfawAxwsIth0wGaDTjBTy6ZTX7M6nepfNo7mwH3DjD8z2062fUQUZmg1CtvuT9vN+fkPHBUPERkBgRAVECIoAADfBwDC1coMAiwiOROLGGAjHJBEbEKJIjZa4gBMZOJKKKCqc16x39/5KxJFJqo8T9dFBCxeXikVN5Z7+oeZPF2vmI1iECY4IXQckXT6IdtedwrYWiN1m1uyzVh8Zn07xAXik8Iw3VroKi1tHuCD7t/1jG27tbUDTW2W1o1t9+cAHesOMrIHyAYBgDxmRmtmedhtUoZFCNFGXQpmzt56LRmsbdr5KECZztslHhmgGc9JyIBAKKiacUkeEDaFLakvy2KADQGL0cAxcB3i2MQRsEYd6CgU3QDTkLghOgITxnGIUVXrCLQ2OgAdsQlZBybWIqHWmtgYBjYRGl3e//jIeW/1/eGwMguKCBjZQxKDrIzin1IQDQoJMiMQMIgHwDakWUSwUCr09Txx88cXfvCvAztfNnLUmfnJncXBSWAI6lWjQ2RDKAAEQoCaRSEKAgPYpz1CYEnPIgIkgCwiybPCkYCbI3Q4HD9zGK2NzCCiEBg9ZkE7yuOqMnWX/8xrg4B8IMlHVJz4jBERUXmCClEhkCAhgqAkLmjWwIbYAMeiYzGhMIuuso7FxKIbHAcc1yVuGB1hXGNtjA44DiSuSxyKDoyJhJl1zMxiYuZmGQcRG4GCoAQJBIHQrpCF4AMwK1TCjD5yFK3s79t61qZffW/OKwcr+1ERss8YEajsxR6W37sbBKgRlAiigIABRDDaKw3ky/knb/mHx7/z95jrQR2qvN83vH1g8rT+o08ubzsdSyNiQDeqrBuALIxIguzZp5OmQ2I14jT9lSEoZgZa755zFyzjcDieI0iISVu1Q2AW5SHHqNpzyYWsMZEaykIKAECQiBCVQRsnq4gIyFbBQxFBhSBGjAbWIAxGs4nZxMgN0THHoegAdAAm1HHAccTRMuuY44BNCDqSONBxwDoi0zDGaK2FNRgW1iJCIoIeAwKAoGrO/Nn1QyjVXEZIDFAhoMwaIxkSSxeAwfgIRgTRDxYezw2fcNSr/ltxYLw+P43kMTIJkLCda2yL4H0GckgCRikRQ6IAQxAPOMqVxlTB3/Wta/b85/+rBrfk8yXDLBCboK4bK7li7/CmY8tbXlDe+sLSxE6vNKzZmEbIpiKMQoqE09BZAjSioZl4CkIMIiTrXgedEDocjucKA+hBrLHoETKIj8iYIyLT9EkiIkMaxAuJZ5ZBgMFo4Qg4FtZsQmAjccBxyHHNapjRIcR1MVrHDY7qogOjGxw1DEcYx2JiYyKjI2GNLFbb2NgTKUFgIEj0FQHzzZE8nU5mxGYVGEx8xokaITelHZLuAgAAomoPRGq+UAIxsRJQoLQwIAIygh8u71GFvi0X/ffBo4+tzy0Kh0g5YBBMKiowM6JKjbDDvf+MiTva5giKSGFoBBh//NX3zdz3L97wpjzlALUmX4lNCGFjjIkaENfz+Xzf+I7y1tN6t55c3nQyFspAygRahysCMYNHwgIGobV4b8bQX884IXQ4HM8dGBsqFND3MWqIiYVjMQ2JAhNHJg7ZRCAGjDY6FGNYAjEsHEscgQ5E140OxYQSBsJaTGziyLAGNsARG5MqDSMhKEEg8hBRN81HRAROfIyIaLA1UU4IrfEilIzgLJ25gy1bmpU5u15sMmfWZTt5gBrEBkgxGGIj6ItHemkPU3Hs5ZeO7XxF3Khz2EBF8lMKRMIkOMtjDBD8/MhoY9+uXTd9ePHJe9TgFk8VEFiQGYjYWC+uUkoEAdiYWId1iYOeYr40sbN30wn+4Nae4aPLY8fG+aIJNdRX2Bq3iC1TsNBeRHcd4oTQ4XA8V3gFT+LFuz5bX3zCLw5FjTpIQ0tEUcjMbGKbBEICzNom7Cc5/qQQEewEGypRigTEBm0SIqrOOKnMW2kG0XShM6gqs2oyP4M6zE1PodW/FuG0YSMiYifSlDAja/A9iIGUjTEhpXR9obGwf+IV79p09qvNciWIaySrRYKezTQhIyS+VvGKw0OLj93zyJf+PAwW/OHtHpGIMAAJKQFAbSBHaGA1YUZZv6zm2ARVjhqeovLgaO/YCcWJk3q2vKBnfKdRyoSxiWrAUZu0OJQAACAASURBVGpAA2pnETocDkcCCqlSufHkPXtu/mBsotzAZkYg9lhJ6hpNojoFELFZ7TLNB7XxLcTIdmRdzfqwhtyq5UFt5wXgrF3CQABA0Lp/08MpaFNETKYpTo/qPEHnWZv9Wd2nJelFWIPySbPxgATYCBIBpg2ICYPFqb6z33T0y94Q1kIO6s18lmdZuIdAYlG5/tHBuR/d8+D/+iPxC7n+MeAIxANkhWA4MYt9BEE0AoIKmrGhSGLdwh4gUC6MA4hWfK39vpG+baeUtpzaM3xcfvhY8P04Ck1UA2M7vN5lxQmhw+F47hCR/MBYtLj76W9d3Vh4Ij+4tb0kUCYxkbrbZAcy1LqmzbScIrVOkBMTDQy02G6M4Hc2wgjKTg2yrb2eKdeQ+gBtB5qKi9IS4QIAQCgiikkIwWhQhIwIbEghMAkZYhRAVGLC6vTu8imvPvbCt6s4qFariKt5os/MU4pC6HFuaHT5kXt+/OWrIqNzfWNKgxAaZIUixiaLsIBHKJJM0xIJMDIqmxfhKWEAQhREAUICJXGkwyVFVOgbK40fW9x8UmHiBYWBY9Dzo6guYe1wu/oc44TQ4XA8RyCwQUKWXP8Y1Jaf/rcPVZ76vj+8DdGA5GyWgAjaEVk8Jjm0mjXWkjtQ3YNsHuFaW7L9XIvuFme2nYw+dd9HRBA7UuuSXElWwkw5T2JDvuJwZeYJ/5jzj//V9wipuLJfic/YLHmOjM14TGkW6GMRRIXAaQGEpCYqKmNiL1fMDffO3v2tx77xN9qTQu+EsE4Wnm523lqxVrzJpI5eQNV08ApAGiQr2SQVBAAxoQ4bHppCabC0eWdp24vzI8dj/2Yi0lHMUYiiAZhQRFAAbIqkspe/ejMUsqSppc2pVv7Z1T51QuhwOJ4jGEkxCGkx4PeNotb7vvs/lx++1eubRL+AbJQAI9h0bPzZR90fikn17FyRawjtGiURBEgJM5IgKyTDkFOmMv0Ujp58/CUf8Aq9wfJ+QIWogAVJJClx54kYSVMyRAhFwAeMkT0GUcRGR17PULGvZ+93P/+Tf7kWCoPFUq8RVuil7tZVMUvFr9k1m6Zitcu+JlitQJQeCEBK2dQOHzgywQoRlfuG/bETeyeOV2MvoL7Nys/poGbChhCSMDDaC7E1ygmFBQUMoiAiC6bPDSJywPWhnxVOCB0Ox3OEEIJhBShKxDCVhvKU23/X38/e+1VVHimofk0RA4goH8FwWtmm63zcgeimXd3WC+xSgyb9qLXBxAtqun7attsaHLznyAKKyKBRKEIIMZPKg1eb3xWVxo+95K97RoaihbnVaMyk0Otq0R8bF2qQFEgzR4KEw8LgZs+Dx/7lY7u/+7l877gqlkSECMQQoklNvOzV2VnSxPDD5NKomSKY1b/0qolAxEbnCgAg5RDYxA2IKwq9fHmoMLGjMHmqP3JCrjQhyjfCEIUcV0FiQN/m+4MtQfDcVq91QuhwOJ4rJClqiWAAmEGU15Pr7Vv8wU377/g0EKrimAiSsBadIz8ZDbMxh4cTiN8qS92WSWqxMH6abreuU5Vpf7KLe2Q/tcs5ESi22e6ghBgM57x8fW5XnB/a8qtXDU4e15ibQkSDnoJs+AylWmjDasD6SBkKg2Pxyuyj//I3Mw/d1tM3gb7H5IuYnCAjGWS16uFU2b4JclJfDgARFa6uMGwtNsjYkYliJl5fRuUxEAnkUAvkGAF0SFFDeZLrH/NGj1d9m1XvSG7gGFXazAgmWESjURItFKBsMTxphrz+jHBC6HA4niPSSSwABIxBfAAjpAqDQ/XH/r89t/w/sQ57ymPGGESEDpvgsLyUz86luQayqgqtJzu4C/TAO2DTq4nNzH0UI83Imhgh5/nh8lQliCZf8UfjJ50dLq2YKITVfH87kZZooQiSYjSoOe4Z3WwqK/ff8H+v7P5RYeKYHOYFYu2TZ4gFEVihMFBGTW1nGBGBVruncDWFI1VHgNY5QlSYOdDOIAKQAmEkmwRDaIwOxAQeMPp51TdaGDspN36KN7gdewaAxUQ10AG0mvWICLw6YflTxwmhw+F4jrCZCQykBOyC7ChKICLMqaGBaO9je7/z4ag6k+/bImDIYHPg6wxyybT5UxW8NkturcYPd/shQqwYiSBmBERERiYRUj6zAQFPYX1+abE2/Atv2fSii3Rl0UQmzTFZjTQRsaVWBXTf4FhjaeqH//u9lanHiwNjAh4ge6SYWRBQCBWTwbbln1JhSwNnsh5Rq4IZK1Bl3KQa0U+qbCMrUGJjaBERWEHyC0VUtk6cAoW6wVz3/LzXN5kbOVaNnuj1H8O9Q2Q0hxU0OjNT+DN0ljohdDgczxFp1TIDEYKyughCAgZYCkObzOL+vf/+P6ozjxb6tghkh+fOBf8OQueK8Idun6218aAC2dxvNUOj5e0aJ2p5i0zoMQiwIKIhVkyCDEDAonyfw+WF2acHX/hbW1/+RtNoNOoVn5Bslr1dwDIpuwrFwZHq3scf/t9XVhan8sPbSABJ0CZ/oAIgRMOkAIjYhr2ksTGrhiaRTXBM+mmVz9qLqQra3QAx9TVbX6t4IIg2uJUACFAQiMhemiAQKEAUQmJDcU3HVcz15Hsnc6M7/bHjcOh4KfSR0RhW2YSCP8NSbU4IHQ7Hc4QB8UBYkMhDNozACEpAQBGyMaHXtxl1sP/Wa2q77sT+SR+TFeIOK3QiibbPqAsdaJ2KQ7PhkiE4u/OaXcq22Xy9qiUistY5EwcpCKKgKBFuPgwgigARCoiHnonnpx7LHfPLx77yrcBRUK0SChEZZkXEzKK88vDQ8k++98BX/kzXqz1D2wQMATIIgtKilQAqEkQP7KKTqnl2blHBpvZBS3QMEXEzvsZW/Gkai8k0IdpD7R4gpNBw8k4AQNC2rBCRIUZEFI+SgGHDukFhlQp9ft+kP7oDh3b4A9uop99olmDxkH5Zh88GFUJM0lZM2zpwuPrX3bL2dJvzAVtfA7QvPpfdPwkybq6p1lECw7a2OtHd9vUiRDYAJHau2H6RDIh9lAJkaKbXpFXqu12Ow7GusVliwuz1jJDC2Ts+ufTwP6u+EYISsWEEQVbsGWyO191QROnX0Ipf04Jj4aSKdvN8du0nBc0kgaZErbpGsTUxcXU2LmMX2n0IWFCJTS0AEWQUIlGMQMJIYMSW6gZIFlRqDjuUNJjRTqsxZIu1KSARFiRfRCshUYkiIq7s+7FMnrX9ovcqHYT1ZVEA4pNEyisWhvum7r3t0W+8nwVz/WMoIEAtKz6maidkg2uy15iKH1ESsUKUzPYB2PCZ1URCtDOaScUZai7o2DJ3mCWNRM3e0rYaeAgKOTK6QbqOXsnr30Qjx6ixU/zBozDXy1EM0ZJJYmcUiTz79Ro3qBAemPaqDSKQrK5ib33iK2BmVkgC9lebHkuIMSAhkrCIZL+cFrRLlaHKiC63npdSLwWDSZ/QxE6Do3ggkRCiEIph+0fNBim7nI2TQMeRgl0wFgAASDjyewb8YnHqtuvn7/+yGprMeQPMsZBSwiRgiLGbi6xNt6DN2rPLKKXfUztZJe07ZxvpGKy79RwRADQAgSikpoLaF9KcYyOAFmXtMBlX50I9IhQwTbVAAUQCNGJyQIKIBjWDeKTyohb2PxxNnnvchX9IDHF1H7Pv9ZSKA4W9t3/54W/+T7/Qm+sdYo4E84DaN8TN0SW5tOQJQDWT7ltcoHbFq6YXVNlZug4VVJDRPFhb/9JPV5MrVsfM9jssAISGARV6mhsQhxTUsdinho6Gvs2qd0t+ZIewQhLDLGQ9r8+KDSqEXcOXoe2hKTHUAACsVyEVvPQb1Xa8pAZis9IgNws+2CfQZHszMjj520I0nMxIC4IgofIEEQiRcgoVEgggGNBRBbkhjM3lTgDskpj2pJluOBxHFs26IQTAyAYLvZ7nLT38z/P3fUlEcqVBYQQmQKOgy4rtyVcyMyB2X93XbmlOPqazXyKCuFqepj0mNFMgrUvPk0wDEhElQkSxCKAoEACycSgKEFgYDJEHgAAmsbRWv7UoCJ6ghrSQACGKACMQCTHFQEpECAREiSAp8cFfnH1c9x+z6ZzLeka2ctzwCvndt376yVuv93rG/J5+YU3kEceaAMWzUto8X7seN6/dalX2tbLrcrTaf12EcC05BEhrdmPWZOz+l4DIIkiimBg1CWnbHkdmeaqojPeC18KWXxSlWIwS/VMpN7NBhdCSkcMWR6il06+YVZqmiUYokExlt7TQdHWSGC1EXrYNRAQiIAXkofIAkUihAIKA0WBCjhuiG2JC3ViUKNKVKY6ruaFj8ptPUj1Dcag5WLJnQUQEZkHrhMl0Ni14n2ThOBzrFkZSxgChQVImBuWxaKRCaXBg5YkHpm67jsOa37sJrHdGOk0IgObTaoex1fICWgUgjYpMhbCJZLYfpEEAQEGxhTdBiQiRFU4kAMkYmgwgIh5RUvJbwJa35lRNbbIcAoLYzjX7oAQ0iPKQNBrFhCRGhIhyeT9e2j8TwOQF75nYetQPvvzXT935+fzgVr/YI4YBfSQRw4gC4Nkcv2xBteTWZZIFUzETEaUQ0QcAK4EZ2ZN0MQpIokBXdTENK83oYkZTU9HtCGJqSiYKshJb4pySsnOS0+Fsb09v/pQ3BSMnc30BYkPKBlv5AKb7H9Yhs9GFsO0POp1jS0Ul9Uli85Dk6STJY233atrd2C4NA1btcoo8W6+WFIoImgh0ZOIaRFUT1XXQkHhJh3XdWOb6sglXTFg1Uc3EEYc1NKxNEJvYz/eUR44ubD6tf/vZNHycCJigKlE9XSOUyOPVESLtvxXC9b4MimNjQwCMwAY9u+qsxyykAJn6x9Xc7n23Xldf3l0oTQKJZFYRbBekDt9jF6NQVrcbSubd7SeZ/bs6MO3/LS1n/ajWlLTSYLdoQERBYQIUxKbgdaloI9ZWYx8ktseu1kL1kMDLK9IEHvkg5IMfUUjiM2tBUMoPl2ZrWs03gpXHbu8dPcqI5tBo3yNOnFiKSfvgS7vj14ZxpsXBlUoS6omoQx0VgkISAI2omvGiieO0KW3UZvNhMte4mmjR9nvJvkiT9G07gErE2JVGdGO5tzzkn/bmsLxV1xcRDaIiNqkXofuf1SGzQYWwqxdRRBSINLWwVTzabwsiEijwFdtS8egrz7eeE6UAIs2i0YRxWPE4iGqLJqiaqKZrSxw3dFCVRiUKliWqmChgHbGONcfMLIRCPqFHpBCVUZ6HHpJBRDGswxUwUbl3rLztjJ7Jk/ObT8HiMBtjGhXQGhEzib0MP8M6DA7HTxP7uKbR90GL2BFQRIwCERFvYMJU5xe+e11938PUO+GpHKdBMJk/8fRhlEGoddaCqFnkOlujpn0sbpkh69wt+zYts5m8FjCYBEMCkI2rLBaoVOwhImOkGoRhEFmNae622iARofIQkUBQEYJP5AOIvUzWMZGvEA0ao4Mo5DiKDBoTa9ZiTBjHRvmeri7fc98dkOvbPDI22D9QKPlKdBgbYkEFmsEYk4kOBUhVEFEMtwlY+hpWDb5UqGz4TFbtUgMxDbFpnzjMbmy7gWkyxurtBc9HNqJIaWaSaKVUzKuTL633H0eNRTu4kWhGEkI0GjqLmB8mG1cIM/mnmac8SKr7iDXfEIlAAbJX9jxSSikfkEAEgDmOYw5qBEKiw8pi3FiSqGoalbC+Io1FEzd0UA0bS2AaOggkjrSOQIxhEEJSeSZCIruCNmHBRr5Y844BERQiksRMyGCfzVhQEYCEoQ5XfN8vjhzVu+304qbT/ZHjOFfQ9arosOlrSa/xQFX2HY51AbKwIhSQWLAAzECiQBgQQBuDfnnIZ5i9/eMru+7A/q1+ZjxNGsiImS2MuRoLis1YTWqZmkpfEJG0BoJC1seTEULudrg9I7AgKtFmaKhneKg3jGRqtrp3bjEK4nKxsHnL8Kbhgage7p+dhULBw1zLuG8xzCCsjYjRWhuBKIrABGODPSgwvbAsrI0xQRDFAj6DkDAzoccYK/QA1cMPP7xQXUH0Cn5xYqJv02B/vtQHOtQsUcgNHXik2iQHk3w+TO2/VglEIgLxEBHJJFN94NslqDJIau1hN7IPF503sOl3TWxBu0kJxwRKCIPFUv+wnPibYe/RFFaFQ0CfhBkBgUE8oHTlyGfOBhVCWC0pBAAoiERE5GmVsz4BRUAAwFqMZjFcm4sb9drSTFRbblTnw+X5uLZcW1oKV+aQ9MBAoVRURjeisKGjUAyznRREpbw8AynlK6WwWbvWluxL6tiy/eo2a/rZ2X5k+4uwk4siAtCMlCNkAIXCDCaooq7nin3lyRf0bn9pfvxEKo+bODJxyCay3t1VR4/Dsa4hG/lMoGG10gkDMIsiE0l5yEeY+4+P1p+8H/s22S+U3QmbaUVpbehke0cwyOrJYDVqpnNollbLCTKK1bXlZvFrM9DXN1eJv/Zvd9/y/cd+/OT0nn2LLGGu4G/ZNPHLZ+284vW/eOrOo598ch83MSZmbQzHWmvWRrMhHWs2GkhxsGWkRxV673543w3//MADDz+Figq+f+07f3l4oL9Wr6CAQUIxDOQjM8iPH91dr1U95Q+WZPeC/tubHsv7BfJUHDde/8rT3/OGcx989EljjI12t/KPTeOvzXSDTO6EtQcACEGRgqZf175N1njKmoPYGnRjhRCybuUDe0QBoFlxFMPFnsGj4aQ3BMVNWJ+z1Qbs6iTN6CoG5GefaG+F0Dv4js8tjOCBXf0SxSROPszk21mwOVeXtfCybk+hZPIWyUflCyjfV4AACAiAAswMrIVjiQMOViiqxkFNompYXYC4Vpnb//Sux6sLC3F1yeh6VK9GQZXjSBsBIFK+eJ4RUEr1DfQPDg/2DfYV+4cZmSMA62slEDFAChFBiIBhdd1tO+MoDKTSv5DUtykeALCxS0Ij2LRjABAhUAaIUPuFkkB/bMzsrnsXd98/ODCR2/Ki4uZTvdHjcj3DHHMcLAOHCH4mPBtQSEgDAHJeILJLfaZ/qWKguSqKw/FcwgJEAtjiwyAGUWxiL4e1BckNDb/sbX7hxpWf/DsXBvyefiPgNXWL1GqaUle7LWuy2C0Giez6eq0hlJKc3e6ZikEyrNugD8k0CKQIZHRk4K4f7rvw9/+6VquJSBKFjl4Uxrue2HP9E3s//fXbPvbu17/6pdt27Z0lQRFmtsE0dvVAMSA5QQFBkuHB3rsfW7zxX//z67c9hMDNEZDiOPQxIDYGCSUmoxAi7SvURAgC6PkyOND34X/68dNzFYAKCAHwQ4/srder/QNjviI2caPRaDRqAGDrvgoKiGTnBdsMRBsBhGgr44Et1YYkafXtpgqu3upk2V5MMhC7P6Ag2vRnBCRQClEAGWNCjHWQ19We8VPMCb8R5IZVfRYRZXVVCpb0j+SnV25m3QmhB2iY7QojqOz0OAIKiF2WUuw6Hdy0uQVzRISKUOWRFBAgAiEDC7EBE+mgyvU6B0u1+lJUW47q8yYKddCIowZHIcf1OKjoqAEmjIM66JB1GLNhljDiqBFVG1irhsrLFUojCjEHKk0gtSs4h0G8b8/c4kK1WC72D/b1DxR834/j2BgB8EAYhQFjg3kEEWYCJvKs98Yn4DWivQFAGAVXfegAAMBkEIgAFSITYsEfZdFzy/M099XcT24pDkwWBrb2TJ6c2/JCyA9iGMfBstiFrYEEQQx4nmcwBrsWKigEFDAgAgSaQG0Qv4BjnZL+/Wk0AKCVoEJPB7NS7iueeaka2VF54KtxdQV7+tEjTLLQyQ6P0qmCduVeG8MCiM2ilwSMiRFJjEBE1tAk8RERqDlVlkSBghgWEWY2vIqIAANLGAZVZWrVehUEEPLHHzd29Gj/wkrtnoeeAmBBjkN9xV/9r6OuefNR470LS1XbJgvYNSKABAUCBj+HJd979ydv+dZ3H2KhZsUMQtGlnIeI2kDM6SoNLOChEQCNLIS8ZXTgM995+oFH9wIAJJYTNOrL373rrkDy5Z7e/r6BsZGRwZHxKIpqlSVjjDALGGiOQqktaGNnsGXKEEERIWSyCdMXq2Zl9i2s8TgCAAqQrQALCxlBhSYWjzgOSmT8Yy+Mt/0yC2E4xyQk3rOPDj0w604IWUgRaDDJIp2khDwQFr+ARMpTpHz7FEHWdRLXjQ44qJmwHjWqHFZMfalRXdD12aheiYNKXFuJwpoO63GjrqMQOBbrVxYySESeUkopFCx4nkdUhEKJADyikq9ynqeZayu1hflaZanBbPy8NVE9TxCIRdjPewAQh1G92lieWyn35fuHBvqHysViXmuOI2AAAi/xfiKC+MAgAKiAIba/gm5aaI8AkeTvy24Vj5WACAgpVEZMrCinSoMeDcbGNCr7g/lH67tvz4/vzG86LTd8XGFih59XwXKog2VERPRYAoCc/ZIIkkiEqGzWo8c/ndQch+PwaXkEY+MBaqEcGDCEojyoVMCr9xz3i7m+8YU7P821aSmPi7IuF4VkAEDStD9pDt8IQpjYcIhInmfnQshvPkkDNFdXEBE2mkXEcBRFzMysjTHGGDYxM1vvIrOWJgZMzsCi6K2bBy991bkLS9VLf+204zYPlop5EP29H8+942M3TU3NC7Ew/etdj/3x6140oyMAsHXFrMkFhmNAAmAjPX3lH/5kr80wOOOko30xdz20BwAE2QgzMyMICAkZAIUMNtGZcNNA8SdPr3zltkcRYWxoqFRQu/bOAlCxJ18q9sxMLc/PLwI/1Vvum5iYmJycHB6d8DyvUas2Gg0dhy0xt6slCBggqf6hqEX22pQPkgk/SNQRFCCniRIZXRQAW26UGJUSFpXTwp4IKA+iWg6j/PG/Hm7+RR1VUNcEPA9IMP7Z1Rq1rDshRNLMqICYlJ8fAAW+xAIM4TJHoV6qVKvz3FjWjeWothTVa6a2FNSXo8YSh7WwUdFxyLEWY4w1G5UnygflAXlEvlfMAykEyFnXh3VwJ/PGTK2/szg2okWUVxroK/X1Vqv15fnq8lLNRCaX94xnv0ZC4ImIrzzf95m5uhIuL+0vTuUHhvsGh/p6ynkAiONYBBGEWQgQUNmaUqAoje8URptalDq+Mfn+Jv53+2hGym4nYdsOGGNMGEUmjiNh0Tr2TNiIfvLPJv4q5Pp7t5w6ecrLhk48pzSxRQcSV5aFPZujIyyESZG25AuJTgUdzwury+w0R+RIgERQMAbWAGgQgGOzuFuNbB/+hXes3Pm5YGm3Xx4R8ohAQIENaSEk8jJzVNkVEpqnADTCnBp5xth/jYlZdGLtmUTtUMRmUSUlY0SSmXsAECHGWMSQPLln5opf2znYVwRtZldWFpYMobn4JZNPT535xx/7Z8VggJ+emSdkZgZCBGbxABgFBFGxB8hG67IH55x6zL9Fj11x8Zl/+saz/uIf/vPuh/YAIiOJIGHiybFzP8Ixer6dIh0qF6771j4AFoGLzjlu99TMrr2zgCxiEDjv5/J+DoBjXX/0sR/teuLR0ZGJTZsmN42Pjo2NA0ClUgmCBrAIGLvWPUCiatAcf+yFAySBmm0q2BodamcTV8U1szH5jStQiIo49sgXiDkOeiTO7XhVffPLobFMHAIqJRooh0zyrEupHZh1J4RimEkp8NA0zJM3Veafnt/7VCNYoSAwYT1sVMJahXWgtY7ZCACKB54PyhdEpXylylT0SCBHBNar3fxNUFLzRTWfPRlt3c7EVe/Zwg6ILCJAniBEIDmjYyZALPWX+wZKQ5X60lylshLGjdjzPOVRklZIyMxEnpeLc5DTkdm/e2Z+Zn5ouH9geKC3v2zjwURskgaBdfgak4RKgUrdDKngJZXaRYwws4niiLWJIzHGGI5FSxxpNjqOQ2PAMCOzETYsBArJQ+zlull+4Dv777tpYPMLNr/w/LGTzy9vewEVBuKK0fUlQhZJitArYQKbx+p8o47nHxZRqIhBI4gAMgAxGTEEen4flQbL515O93+Fl/aQV0alyFOQBpel5p2IQOLNBLb2VKJzxuYsiaDdC8C+EEmUWMRmCZvm2+SJNfvWPmwTsGbJi4qiaO9MA1gECVgi4anFythQTtA3EJPgUH/BGGPLTkFyKrZTlUJ1EN8I7Jpb+I3zj/+dC19wyrZyvV6dmpkRIBCmpLCYIAAJGDEEyOijkBg6ZrT4bw/O3fHQ0wjQXy6++syxP/vULgACYQSfMAfQQEQR8LxcX1/BGDM7N7Vv/55yuW90ZGxycnJiYmJoaCgIGvV63egIhFg0ANjxzcYTEBGitfyy69onHivsiDNaLe7RbZqQ2AgpDUoBc1QtKpU78bWN8XMwWAYxgMigbG7pYa3J/MxYd0KIqEjAKxbryyuP3Hx9HiIv37cyO7+wsoxIXq7Hy/WgX8K8FEAIkQnt8loixkunv4XYzuDJaoS0UFvGCQEgA4oQIpLEgMRICB7ayDU2PiATAWgE1EFsUJXLPb29pVojWJqqLC9XwlD7Xl4psn8MIkZICYBS6PsFMTCzf2lxrlLuKw2N9ff39/p5PzaaDSCiUp5ShSS2k5GZWbTWOnk+jWJjjNZ2i9jtxhgxAmx9MkLkeXaOGfNKEQP45PkAAALkIaLkJFfcKmJWFmbm/ukTxds+P7bjjLGTXz6x4+zypu0cS726gnFMyCDEyAIxwrPNy3E4DpdMpCjAao0IY+1EQRBCEI8xQi2oEOLAG5osHvPyyvc/zxgqKLLWqc5ZO09EBIz1DYkYTBUOmJlJsGnbgSQSaKfKrIiaVPnSUbhNEZMPjQAZ36gYDEQAIIWch8iIND7YV8oXvnjbEzZTXkBO2rG5GkRoaxEjADAC2kdvxT4LekrqDbOtL++h+vFTSzuPGkDKJWnj1jxVKEkyna1jzAI02AN7q/jJbz0CYgToDecfPdRnqjalXwCQSXEyDBKiELMQUU9PDwDHRp586omndu8aHR3fvHnz5MTmgYEBT+Vq/PAtxAAAIABJREFU9ZUwDMUwUnIzlVIiJi1Hl3WN2iKiiAiSLsdkK52vVt2yrjc76loPHAsBgCIdB7X+nl7aeUlj+DQOlxVHLCikFAdCBRtR87Nm3Qkhg0HwUdhHWK5zo7q85ajRyRNO2yrR3NzcwsKCSKiUh6gAyS7VBUyIglbn0FYrIl+Mrd5pQIQAUVB0EtBlJ8PTLFpgECLMpU8d9lthVxwRMAgeAAIxCIShIYJiwSsfMzZY61+eX1leroVBoJTy8wTAKAopqc5HPpZyeRGpVpZrlepiX6l/aKB/oOR5FEVho85GizTVTmvNzKkQNv/yJWsmIqLvqeZFsIi1aRnAANi4aBS7tA0I2DKmAozo9/ble/t1FO++/47d994yNHH00PFnT5x63sDxZ6lyv25UdVBHQKeCjvUCI4IAxoYRwAMxxMwIXqEXc4V4ZXb5rhtXdt8dRpVc4GOunNTyTbTKpHN4mL5qWn7WarR+zzTF6P9n782DZUmvOrHfOefLrKpbd6m7vfvue713S63W1lqQRrJYhBgITcwMYoiBEYRNeAIRHjzIzAA2QQyE8QgiiCEM2IGJ0GBhBmMcYsZE2AbMSAPqbgmpWxtSt1qi9+Ut/d7dl1ozv+8c//FlZmXVvfd1q6HVV9I78aK7blZW5pdfft/Zz+9YmYsxIed0QuZNicDiaqQITkmF1AJIMPIQJ+rx8Yc3f/8/fukjn34kSrLXv+L8t796fXe/H5NkYteFmJUZ5ZUYa0DKOBx6wJMjVZAp4MEUqvTvqLYqwCCDIT+zuvyLf/C5vf0RgLtuXv5Hb7/1uY0+kcECR/uxyE1FrIMWFJBuADu2hYU5Vd3d3d7YuPLozKNnVtfOnj17dn1teXnZez/sD0IIsUuiIdSzGSbihVFAlpGe8pyqZ9NEuScAGJMxw+dZf352nu/6geHSa7S/LaZQSkSCeaME6okcIbzU2eynThASBOSDMrkkbc/1DrcuXrzc2ry6cubc2bPnVhZXtrc3Dw4OfJ6TI+cc1ElMKyENZYG8wIKIwmDMsWahgO+DI9YahlGBw0LqTTkW+VmVjwoAzkhJIwQggNiOK3gy9nMLM4vL86NBdrB7sLO9Pxp4WJIkBiMjUViRYRbILAkh293beuLJrVarMT/bbKSUODKE3BcKV5W3RkSOHXicx1xSRNmmWNevxsRAgffm1Iyq+ApU1YwMakbBMjWCakggjbllEt7f39/4i3934bN/fP6uv3P+Td89f/tbk/YqyIUQXrq+X9fpOh1Lx6v75NUiDC9IcxMnMx0iHew+l3/l/v1nPusPLrjGfCPtsHob9ZWlivZVXDiKOp10ZtpU/mGRbopKlFaMvhR10wMtJGLp4QMgZF7RSKnTmvmp3773K0/t+Nw2dncJBMJqZ/b7v/Oun3jP67Is64/MicACYi6rkRkJkyJEYOIAK3oemTiSUBQZm0A4GrVqUGJSHyjX8Kob5j/6hYv/78cfByAi73/Pq6x3mKmTmChu4ECiLLCICcAGEJOBEDUDgpqAWq1Wc6YVQnj6wpNPX3h8YW7p/Pnzt950c6ezmCSJmfX7vZD7WFBf6ejFxMR7QcvWBQX4mRWlF5Ez1WAKYgtFy3W0M798E931Q8OZc9bd4NiWhyUzEjARBWIHX8OPfKno1AlCADBWgplZUMcubaZqduHCMxsbV5aWlmYXOstn1nq93tbWVpYNU2eGFEARLjdm5oAc5jgWDJYUjXcFxmicRDHwyxRdFGO4wpgBFUVRKlK1IEEZLvdee4dDVU9ESTOZX5jbt273cLi9Z8G8c2JFqWKpkpIyBODuYX54MGw03UzTtRrpzLy00pZ6jf5SQ5jyA1g5VOLY/6wcZPkcZRp34d+J/hMiEhFx4hxzW9I0dSWRE2YWeb0aaX9j77O/P3rmk25hvbF0U3P9NbJ8Jxn8cA/BF+MpOjiCCsUy9r4IRBRzBiSWGMW8dGNjT+pe6uD2dfp6I4YF5gjeRBUivBKLeWgEsWeYxeAcG0AhmIFSmVslHR08ef/w0ufy7Sd63f0kbTTmzpsSIVcyI0dQYQiL9zYcjdR8EdkKYCnkB5GFqmpQC9Y8tgqJLKgVZlONbMwZpoiKirYAozRiJKb0wOef7eYZlbLSgJlW8zW3rM61mhuDgQUoZVQCgxlByUQdkQHemxBxiIFD87kG0iIJFlBvGhRmplAz9hitdxYubo1++n/6KEgJ9H3f+orXnm89eXnfzSQeFDN6jC1uRjYwxfaMRfkwk8VcOY3V1QCL67TnAAyG/YcffuiZZ55aXFycm1tYP7O2tra2sLAwHA6HwyEB9XY9Fj1zpSO0mFhjLirNjJlVAWKQirFyCCFIvj9z/o14xT8auFke7BIJlTWCRfMqMy4whl5yOpWCEIieSREp61vRbDZV9cqVKyLby8vLKysrCwsLh4eH2xubg2yQJIlAmBFgSiqWKHkqS2JLiLzx9Y84uAlFexGiAu3QNCCoUUA+LOJzIYTgNYbuLEBVQzBVJTJhTpKkMz8jad49tH4vqCo7co6FYAZBhMMwTRgmZnbYzQ67WfMwac/ms3NJq5kA8J7MxsMDQBqhKyx4BZD7DIBGbZeImaN4k6SQc0mSJIlIGv8n4lw8p6oHivFFB8qV0G6Z+uHgMN+9nDzzwMwj/7Fx/o3Nc29Izrya26vq8zzrmoXYcxRRYygqfEnNmMiZKIKysrFBiWON53UpeJ0miKBGoqYwBRFIohLJ8AZnFASOLDfkaszM3ozYNZuruY36l/+q/8i9hxc+bzpyM4szM0vGZBaIyVTMjNiXbfOo0WgkSTIcjUbZYDQaOabYthOARuMvwnhG7mxW4XFYTMo8TuBV1uRE0ocBgJgCqVluHOBDt+9+6N13XdzcV2pd2Op++dELAD97eeMnf+2PP/Sqm37nZ7+rM+8PeiBVE0eaMYTMPA1NhQhGOQIZWKEAq4apYRQZrQQGGsDifPLjv/mXu4d9AHfcsPRfv/uWzf3u7Iy4JCRF/2FK4OYbzbmmH2aDEUAiTJ6NYClZLOeLWxeI+RUAgJlGc6bR9N5vPHfl0qVLjz32yNLSyrlz5246f8PKygqA4bCf53lUEYTZjFFidlfmhJkJqbeENDCTgU05MGnIk2yvdcMb9VU/3EOaDnajC9e/fCjJp04QFvwdIHYkrg6ty8yNRsPMNjevbm1tLS8vLy8v33LH7Xu7u5ubVz08kzgTgikbIanh99TKDwpAO4o+elVVhZmaDyEEH+VcHkIIqijyUyoqAGpddR0Rds7FVx5UASzMNeZn0yzz+wdZv5f7XCEikhrlqgDAxMRk0EQSMwtBd3f6vW7Snk3as2lrJmVQlhVFS4iBAAIzs0iSJDLDUdrF/0qSxM/sSESqx0RpKZb2q69PL4BQRbwpSVNJ01SN+t73Hr2v8fQnk8WbGufe2Fx7bbp8i7mGHxxYPppKCIv2tudcjNkECARYADuYp+u439fpKBFFmCSNDT7NjODIwOTUMiJTTYiU2DXmzmreP7zw6e4jf9G/9HAwTWZXoomn7IrAmpkRiBm13M4QgojMttuNNM2ybDjseg3FpiiX71RDPpRKp5nRycu2io/UyQhmORs8koB81Ov/N9//plkRZbfv9bEL+//qt+97/NnnyPDgIxf+l//rS//9j7xpv3cQGBYCICBPcGoofKKmjERViUNpFJVwKkbjHQ2MNLthdeF3/+zxz37xMcA1GvK+v/eGQY6rfTfLQpyE2NLJLCfbD3yQM0nDaRDloA6kIK9MEbEjysJqKqrJFJGZmZn4+WB3Z+O5y08+9vi5c+fW19fX1lY7nU6e56PRyBe4/1RkLtAYUMYTCUQtNnylVPI8HyU6aN36jvy27/VGjeGmcaIwBIir4rZfazqNWKNEREmLfP+zv/dTOxcfbcx2pk6I7ynLPBEtLy+ur59n5r29ne3tTXaJcy4iyRYw1oWos2i9mTcNNjbwfMT9C9HCqxwgzEUzerixfTaBHM9mBcTbOOIYnTDMLMIiMhz5g/1Rr5t57znahoCZOYLqOHqsAarw3icpzbbT2bmkszjXaDWLmzqXpOKcc5ImSSJJlInRW4tyX4zFXjWHxYfjptcKqzO2M2SHojCKDWQckIVRj0I/ac41l1/RuunNjXPfYu0FZFk+6LJqRGJTghFEhZATSVDlyE1Iya6Lwet0DJlZsUjKIwTvIYIikdJDWrOLmmvv6b/ce/y+/qUvGknSXmZ2IG9KVUd7msDm5XpcI145bhMfwmAw6A+6qloHKa2fXP98DUF4/BORmplQqqqANxOwwZyYZ9Hbz88/vYkf/B/+8PLGAYA0af4/v/KP59PQHQUyJZUIsqoIsThYAxMyEo784db1+Q/87v2//5++DGAmlf/95//B2mLroJ8BaAiS1swP/uIfX9naA9By6dLy3OFgQBAmY3P73X0fRKCNNGnMphrcf/cDr75zhfZ6QSMSjxmRwdyU17fgJ4QoHaemyHvt9Q6dc4uLi+vr6+fOnTtz5oxz6XDYr7RtIjIdN743UpgT9sHU8ixF1r79e4a3fA+yvuZ9ACABmJAZ0q+9GDqlWKMAVFWgRGKE8oWNl2+VQpKmDuCtra3d3d31szeuLq90Op3t7e2Dgz0/QlkhG0qxVxTZWxgLD6plY5KQCBfRwejfr5TEuMcMVRyRiGCEoheoARWunjElIA1BVS1NeGWlNdt23cPR/sFo2PPOuSQVEwGMWYggDG7AJSSSMomqBu9Hg+H80uLa2lpzppHneZ7nxcOXmpqPR6IKFgt9phlB1VKqHhCNRwAiMwI5IpWSKQkIxCA4Sl2zoViAZr2LD/af+1Jr8S/c+uuaa3e51TvYzfhRH1lfTGFMlhtciEm2CiLDdSl4nY6QGRmbMBDzHSGAwUZGiQMIHpK62WXxef/ZT2995SOjZz5v0mjOLQc4xIiUV8RaKYCItKzBNyMCW630In6IXkQn6Vx7vtVsDga94XCYZ5lEKKmoIlpNNmux7Y8b/IkrmgKMaIQshZkSE7wqmc8QXE5ffGr3La84+3ffeNvv/dkXAGTZ8AuPXn7P227sDrreAAZH2alB4QwjogQG75WZQ8iPiqiqzJGZu32/e+gj6sYgzy5f2TVEOA4UGaXkFdLPR/2dEYAsD87NJNIfFXqsi9iVUxFQKvINUWYiwMwiFroSRGhhYcHMdvb3rmxuPProo2trazfffPP6+vrc3Jyq9no9LXViRJsXIA5B2fJ+Wyx95XuGN3xnGHShfaIkICSQgIxYSPXlYh2nURACMS0YJcDKRDFmkQ9CRTJS2mywhucuPLu/u9luL1y+sOHEQvCH/Uw1BgKYiJlABGYiR2NrqS7qamICVTFMVYzP0yonszMLoDA27FRNyTCMi5WZvGcRac+2OovtdZXRKD/Y7w4Hg0ZDmmnCUoCGctEhBSBPxqbJaJQ9/ejj21c3OkuLSysrM7MtVc3z3MrU0Go8EUeUShCa2hROKFZ0ZHtz0TcbFNEFLRQlVEwwtVgSJAkvrHsN/cNN2fy/e+17k5Vb2muvS8++juZvVDMb7Y00NEwFLqhniIGVgrz0SBDX6euMBBwCiNQinFOuCrgmgue04ZqrGkbdJz91+Mg9h5ceZA1uYZ1I1ELUNM2MuGEwZtNQRM5ilJqZ1QqhWDdf4r72ISOixDUanUae5/1+fzDoZVmWpmmNjYx/W1ElG441mKrrq4IkJrCZS2iQ5wQzBJjzFhAwCihT7czMhsOBgYJhFPxK083Nz5JRrz/c2h8xk5mniLmvPlacj+U6ocBYCwDgfTBLXnPL8sY2AcgiBjd7VsrJUkquHOSaqyKfbTYWZ53PeSaB1zxTcwQzDsREgWycjjDxpDSu3mOiUKYIEHPkP7OtGZppe+8vXrx48eLFpaWls2fPRgOx0WiMhsMsywAE9mCDCuW9dpomr/q+3pm30GCPdWRIgZAYKTwLQwnGL1d6wWkUhEWXkJq3eoqoZgmRMQm32gRkzz333BNPb7VbyZmVudWVjvd+NBrlWQAiJkJ8hfGRtX47lC7EYm+AKrCxuHyBCI5bIiyZEbLCNmVickQkgrSVinMukRi3E5E0da6RMnOacpIkeR52Nrc2rmwOekNVcuRg0a0ZH0rUFDDnXCpucNA72NvfvLrRWVpcXl1tz806x0XFYeVKP6HW9Bqu0UgBIhxTqAMVxUYRTUOVHMfsajBpSEmQzIfGPOej0aWvjC4+mMyttm98c+vGt6Yrt7vMssGOcCw+8YTYZ+OreN3X6ZuBrEipICM2MjIjFkmabq6VD/r7j983ePSe7oUvmlizfSYwYKwIBahYoZ8OCWzKdf6ASuwVSfyg2uI3MyMlk8yPKJBzrrO4ODs31+0ddLvdGPJ3LgqeicbxlSidegQUxmiREmowwLyCgkfaZJfetJyGbLTfz32eJ4nceGb+wmb/z7/wjERANfI3nDlzMBz6LKwtti7v+V//959Rlu9/5x23nZ3b3u4yO7McTKaAceUEihSjPJER9QdEMvzAf/kGIWdmh7s73mdEpKBGKpw0f+pDn3764i6RfM+b1n76e1/zxPZhCPl+P2OXBvWE4BBUo8GG+FxUe/CiwjE+uJIQE6BBrURNizMmIq3ZNoCDg4PNzc1HHnlkbW3t3LlzN9xwQ2dhgZmHYZANMh3utdIWXvMDB0uvT3q7RCMDA0bGSgBlCCmx2csXnjuNgjDa/8JOZFzfXbcFMZHBpQyQJexc0pC00egPs4tXDucPBzMzzZl2OjMjWZZlWW4KkSTiR0xZmVMDiBAVxbdlNqk4SZKEHYtIkiSJS10iIgQpwNqd4yRJIoo3M5cJ2tAAMwrB52GUuMaZc+fnOov9w/7B3v7Ozk4+yJMkSdPEzFSrUhsok2s1Emtonl+9cGlnY2t2fm5+fnZxbbXVaplZlmXFJCgR6CQLbEqPqOm/Cg1GAkpMjSiiiAclIhjgzYjIEcGxSGomadKeARYB9qPD/mP3HD5+nzUX5l753bO3fVc/229q8JqaZKIusF53j16nOjmFkiipWG5KyUzHpenhwdb+l/748NnPZ5uPG8HNnyFO1LyoKoHUERBb1QdiQ0rwMR0jtlag0nFDtb50VlP+iIggRKYaGBSCD9410tbSwurs7OxgMOgeHA4Gg5hWfVTnnhBCtezS+leBmDU/vzT3/z146Xf/9K/fdPvyW169duPyYnu2tXeY/fmDT/3enz144fI2EQz+ba+67Y13zm5uZfNtt3ng/6t/87Gtwx1R+8hnn/13P/Wty8sLh70+Q3xuzGLmgzelifGoqqkaIMzqkbAFVvGEiMBGLobvhcajVTFNNCEEuFhlX2awKxix+2o9tyByFS5xt63wH495bzxHRHQcCNS01UxbTQS9dOnS008/3el05ufnO53O2tnVtYXO/Morhjd+x2juDultGbyxY4WRgoksmKVGgFLgly2schoFIWI1ZuxcWzqNpyLhE2RsCACDcoI6xyK0e5jtHGQzrebifKMzl7bm3XAURpkJJMqMuKpQmnpVvNAlLC6prDrn2DnHiUuSRIRigKHKxKmXziAGQoA8Bo3LytPC/WLMQPA+eO9SWT23snRmebW3tnt1e2trq9/vp2kjFq4C0KKwx4xIkrSdJKp6uLO/s7V9dXNrcXFhaXWl0+mAaDgcGpuasglQGXaGMWroGOUI9RVvrCYwEAUQqGjDkVRB08oOzrMsG/g87/oQfJ7n+ch7H7J8OOjtXPzo62ZuWnzddydDVRBzZuaMqg6K1+mbkpSIgwcJhOA9SOCUAmlOxDy7JC4Z7Ty7/ejHD5/8eLZ7mZvtZHbRODUjM6UKgZsUsfsOVVVrXDYejOHokoxpgjlU8cIAMBsRyiC6hmzYJaK0OTvTmZubXeh2u/sHu4PBQEQScR5FIkl9+yhAk6KivH40Yhw35E8/+fRXnrr6lScv/x8ffWhmpjk33z48GAz6fSt2MhPR+3/wtZxZP8vPL83/yWe+srW/TeAA6/UP/9OXt9//7uX9g6LkXxVmUASEYhhsHExVfVBi0twrkQ2yAihnlJv3oarEU1EreLuSR5bx0I+Ny6JTh4Hha/wB1QMi5hYUJi8oguAUyRkhHgplI6oQQvBWlJ0QNZvNubk5gLvd/nCYZUFZQ/rqf+DXXkN7lzWAXELBB0rKAsbIqaJT9GXDOj6lgpCKZNwXj/jVdKKELBtubg7396izuLCw0G6muru/r6ouScRJ6hpJ6op6u1SiqVeU5QlVmZmVMVpRzLtB6ZgcC0UjUBUoFljZCXhSLFjAoD8iopmZmYVXLpw5t75x5crWlY3BoJ9KQk44op1qYHYKeBhEXEsSaviRXrl4dfPq9sLiwvKZ5YVOJ0mSkc9DCEQiYFUvzKpBizTmcbOxKOwjVbUWWqbVeu+Hg0GW5977PM99nlfYbyEE8yEgxFCHSCJC4tJGu+0kjTW5Bj5OSblO33RERIYC2NeDHEefmvHMctJMhhtPDR659+DJe4fdjaS13Fi6Uc2ipBEzQLVApT/msjjB1X9EPy74aQQuRlH/OkF+dBhyJ5IsdjqLnc7e/v72zma330udUOLMKBiIJDqcorSp+EC8gpVpdCn73e5o+zCHhWiqDgbDfn9IYGOCkpGeWZr9l//kW+5cm31yY9igsN/3t55fJorBCIbpXWfnD/ojMzPzysTICUzG/SyPnuFBlqsPRMLQ6DSOqd9KRHGrk5CBQWTsTA4Psji8fhZE8vGriX4qK5MeJj1JU5kQ8XlVi2ous1BhcDuXJkmSuEakNG0mzUYs4kyTRpqmka+qYtjvXnjgD1cP95LbvxujA82H5jhhzYyFPRkrMcMbwGonxXpeajqlglBLcNYX8dua98/YEUMyxdWru/v7+2dWF9/wpjco6cHBgYiUWCsMgGRs20Ws+gLzc/LKVZULQWo3qrsXFKhqKo73wRJF4ByLtflpM7nljltXz65ub2xvb24N+4NUEtdITVwAYpVGoX3CXCqSNMxse3Nrc/Nqp9M5e/bs0tJKa0ZGwzAaZdFlQUTNRgpgqtAiLug8z3vdbp7nWZaVZSS++lxJzRgDEJE0TbkZjeBCfTPA57mRuKR53Ku7Tt+kpLFNZwQRgSXMmgeZnW80msP9qzuf/7ODr3zUBocyu5ws3yYhL7svKAClYmnFltzHXn+KI5zMIo6zLcrUGGIjkIZcQ+59liTJyvLi/Pz89vb2zu5WrzdwzjUaDdVgRRMKRonXWROEIAIp9wn54egX/4s3f+LhG+5/+MIzV/tXD4aW9WFY7Mzevrr41rvWv+dtN920nDx7eV+AEXhz7/DuW5Z+7D1v+7d/8gAH/SfvevMbXrGyubev6opmbSbBfDcbri52zq+0QGnDgZ1kIQuaBUmIlNSUGFZgr8QNGyiwaa7hjvMzF6+MjLCy0MqyiKlGlTgntpiEFEsqDYhCzpccIELwiIiTNHGNJEnSNE3TZrPZTNM0TRsuTdM0da6ArIqB24jyGlP0R6PcLFNVg0AHm3/171fyQeNVf8+lzTDY9UgTcgZVUy6MzkBIpgHwvlZ0GusIAZCkIvL53/+Zjcfuby6sXftkATGRJNwb5E89vq2qJBwjCETGQMSSHo76zWbzHe+8e21tTRI3Go329va894zCEzhOxSyKNCYYOhFZGYqwMuUaR7biSTuzcq+jZp+NNxXQaDScc/1eb2dzZ3tzq3fYYycRQCAuVo3eByqSo4mIDDE1qzM/v7iyuLJ2ptme8dGB4rPgMzMbDEYRyzvLsjwvOlqU/UU1KobRQBQRYqs1pB6PExVqb+EyYiLy3nevPvn67/tv17/1hwfbm1EX1nHs9jp9cxKzqbLCOBbJpZRmg53Dpz7ZffTe/PCqm+0gacGcmCrhiAO/kDrRUrn2brrmkYKbFc3Xao7NIuo/CZxGREnanJmZ7Q4Hu7u72zub/X4/SZIkSSL2Yf0i8YrxV7mpg2VK821ZW5jt5fnOgW0d9LvdLjtaXV4507aFZrp10N3rqgO8UIQMFfZnFjsPPrOdq77p1tXd3cNeCI7YzJQYwTOzN6QOJAkbVDHSzIycMVQDl+NhgloY9UOIGAXEDK956hIGjATq88yKWGshrCbadMRGxc65UuA1kyRxDRfFXhItvyQRSUREQMzsbdzEUccA5hOVWkQEcMwYNQuSD/O8N3/z3Z03/og1OtrfZGYNzFxmRTF7y+Rrjvt/eusIAYCMmSsr7XnOPW63kEDV2KiA0gbYOXbu8uXLm5ubC4udpaWllZWVYX/Q7Xa1LEKIThTm6WzV4tVW5Rw1qfbCRqVlUptVmKWo8mOJzMzneTYauSQ5f/MNK2dXtza2N69ePdw/bDUazVYKqCNhZtII6iaqqqbOJVmWXXruype//PQtd5y75RU39Qb9bOS99z7Pg7egeXUvQkQZlTRJiI3J4Zic6WkT1mr+IDKOumTpEyYjUS16fsTo0At5ZdfpG5WUlIDCi0FJ0pwdXHzo4kc+YP2ddPm2dPGGQs8EKRfY09MuBAko99qxRMfpoNVnrZB4i/HEG4x/wgCBlEKUuGU7bgv54HB/kDbaN66fXV1Z2dzaem5js3vYjzi9kUVMsQVTZbagkqiNevZ4d0s4aTi9eanhVleB0B0M9w50a7evQViQkyc1UwfS3PPF7cM7V1vm+OLWHimZsDclJSUFsRoCGIGYEUIgaEQIzdVbaX+ZWexQZYVKQWB4VQVTUGPKwyBkYRQ8ZWB2JCwiTTcTLTzn0qRZWHuNRiNxqXNplIoobUfvvVmAaj4aZCWz0nIyDUpExAS1umMsvg6GmsDUJcxIW04a3Sf+yg625t/yI+nqnflgDzqMMGDMBMuJEtj1GOEkMTuRZGrlHaW6+TI+aFBTx2IWrJbxzNBGoyEiO1vbu9s7S0srKysry8uro9FoMOh57wEVkQL2l2NLhygj60plxIOf9L2UFTCJ7pHhAAAgAElEQVQnaaa10H7hPKzkS1TKQJSkaVzh7XZ78dWLN958w87G5tXnrvQO+0Tk/TAE9Tm893nQ4FUV0f4zs0Gmlzd3knaaZVkiqYgQSdLgBjerOUFtmRKh3lSlkHlHQjBWIpqWZ5bOJWHkAcIi1RIqEr7KZPfr9M1ITqHExN4UQAijfmPphtW3/sjew3+S97Yb0lBpCUZmZMYEX7CguhPiBBFIx2mfUweL8gnAxhc5aqZEViAoO06AFCi0Wz/s5aNh2mzcfP7cyvLypcuXt3b3Dnr9hClJkhhTn+A5QdUsMLGpckIh7yr3R8OoDRjFkKcxK0wRwbTNPJCAMtONvgWYsxCYSVk19pYxg4gFFp97NwwDglNYZEzEVMIvxnaLuWkI+cCCiohjMMSJeThnSFtzjU674STaeUmSxLy/iE3MzAIhLpC2VNVClueaDc0oNoeq3MmwiPgPi+VlxayCYVClsknGhK9Lo+XMIwsSOHHiee5sd+fS8J5fW33DD6S3v8snLR3sClKzYGBRvEwIa6dVEJoZmI4IlWOITwivCjnVIBQ7jVGJuV2YdGmaEtHu7nav15ubm2u323ML8wAGvf5oNCp9pIFJStZfuUILaWc110qUEChXQFV6OPlEhBL2qQ4KGgN4vuxKmOd58D7Pc82zAGq32x7uqWc2U2kpgq/7ZgAiEgYnDkACarfn2u25RsNb7N51HD9hLht5GxERSy34P3lmfUEXflhY5Bx1i5aEp3S461Lwm5mMEGBiHLmihJxcc+lN3z976985eOiPth/+WNrqhGabLeaAOCKKaF6lDSFiIKMQgYLpqBgbU+W3Hx8plx+V+JkFmCCNr1Aw8bL4grg0ZVDkChCpZqNuPmw0mnfceuPamTOH3W5shkpEjZlWgbVSdfplUFBPLLl5Fiip+cAxEVIUnmGeLCgcOJgywQgjC6RqcDA1iBa9IExDMGJmeFXk5CkzzS2EXINT5EWhswk7l0iMp7hEUuE0ScQ5ThyzE5AKNSlxqRMRJ404k9GZGRufjvIMGKflU0XRYjZPRPV0RaJxiJFR1nUUGXkW51lKmVlUtgFiYEqMzZkPAIl3s2s26l357B/MXnxw/lt+KJ1fz/evgBIlMGWwl0cknVJBCKDMa/rqYqdjDwlyJopFqRRdijWPSjyt0WgAtre3c3Cw1z6cX1xcnJ1baM2Efq+XZVmJTCiTF5fiCrG7ZbnvIoh7WaKAKjNTREqQ7sKZEZWvLIbs8jxKPu99NvJZlqmq1+gaIjNrtBoHh4ceRARhTsiK5hhR7Fr5rIAYKHgUOgSqfCOecFaURUIlTF1M1yueDoBxhEud8j4RkZEpuFCdy+MCIklq01+v2ThFIefr9DUjAxxyg2Mii+jrOgx7A55bP/Md708Wbrr6qd+TvEtzZ8yMSVQ9g8gKzDOFaZF9XLDdaztCKy2Yal/FBc+miB24y+Nl6QUDSlI4ZqJNAxQNZCu5yLA8z/I8m0nSpfWVtbW1zc3NS1ee29nZEZFWqxWrroxYQx4xOYOZmVflWEFUoPkzBRB7E2FvngxqcSMGI2fBk3CuAUBmigAy77UQrGRwLiVJ0iSdazomSVLH4lquySnFaubIaorpJgQDq3oNTCHXJNdh8DS0fo33FQyt2PfCZdiDSnZmzCzmFKUaAQBQMgDOqF4bRQy2ypFUO05FhyeCmKmSCZmASdlIqdlQbfSffiAcbiy945/K6p3+cIeCJ3Ivlxp96gQhAYHYGWJSFODMwtE6iiq0NrYHja2oey1bL1ERgSjUNrN6P4qKxTcaDSIaDfvPXe612+3FxcX5hQXvfb/f994zUfUr1QIbN+Zvxo7wIlQvSIjRuxiF9t73+8M84nr7LM/zLA9ZluW5DyFYUFUFiVKRkSwiLkkcpdVmbjTSJBkIOWGrJFl8tmiIVdImIChLMVQ1I45LW8liLQYKsH9M2Wwxk6hqLR1lpk3yHQNgzhHFflYAhISsF4hBCcFAQoUdCjI29jg5xnOdvlqyr6sUpFjBVsicYrVCuxtD1+jc/R7XuWHz/g8Ndy+m8zcSEReo9gYmmAiCUVyAUeMco2CP3XE8PRtUy0GLLhkARhyNNipdNFHOFRczqnpQjI1FNpCULYmKm4Tgu92ucHLz2TPrqyvPXn7u0qVLu3sHabORpilMYaYkGmvClWEEtVCM2xAR/wHTgAJlo2jZbZabL3yJLk2cJOJYZGbcPTRWMxNHr2alFpgZLAIpZ3muAEa1qahNTqDxXp7ej5EXUGxbOK6KLplMaehVHiMuNJWJLCTY8R45MysbonsYuMTqsvJFMYgXbx12r2x97Nc7b3pvett3+FEfwwFxUE7IcqgRuwg+TvD2EueinzpBCKCKohHFl3QiC6i+MitM9UpdoWgOxg914Inj8COIKHZTGo1GV69enZ3tzc93CgzZbrdonMacpmlZhle0XorBZO+9z9X7LMuyzPs8z/M8876oxIvu/BBdkZVHVBJJolRRrUJxk1t66hmn/pwyuI66iY7+vH7G1PlWOuevcZFKPFcHYwlKMeCJOb0uBf826etICp5EhEQzP9rfbt/85ubSTZv3/97+43+Zzi1JOhtgHFkweYAJxPWS1FIW1ibBcGRhH3NHIiOQTnxbd5DENV+tbWYue1kUP68o/n3Y66YuuePWG8+srWxc2bx08bmt/b00aTRbDQsG8oCqUbSSYhHCuHGSNwBSUiNtxL2TpC5N04RFUklYIpZWqVKTWXWdMBzmdbZQg0OepvppR1WoqSNWs5KruT2amBHnYTpX6MjF6+cYgWNNPqFmsZfJChSg1Giv5dne9if+18Wdp9I3/CDmVrS7wZpH0VkmKCkJvdQOplMnCK2oJAKRoOhHeHx1LRGRWgkiP3ZMFyfY+Eyr/ar+86OXjeKw3+/3+/12uz0/P7/Q6cReEt57gvT6Xe/VDFk2yrJC2mVZpmUXp4DC91iIPZdKQoX+RFoblcUGLiUgQ+FeP0ns1f48ZkUUumxdw63UvTIAQ1Y7TmQEi3oDgQpM/4lUmen9UztYSWtmJy6dFoIIdY/KdXoRNKUJPW/K2OknRWAxAwb7G2lrae3v/nS6/sq9z/6HkG/K3DkyD6ixYxUADI3wDOX2KOqFULh8qBJT9RzFGo1/y8xV4BDRxByvXq5ELJXxyLjAx0kfQMF/CI4lhDDo9Vtpcuftt92wfu7ileeeuXB5d383TVMhDmFkxARHDCcNJyKpOKbYOrRRgHWUlUq11qFmphYdR7mZ+dyqAVRPFyOoVd6KmqsYW/3k+pGjn487Us0Nn3wOxu+imkkrcpNK9kKAVb0sqLQ3i5BQ8VJqjX1MnKhXuMYCu9buwx+Z2X1m9i3/1HVuDoebUTALIzdyTMGIX2JJeOoEYaRxKIv06CuJFCtvzQx8PKbJhOOUdOpS1edqDVWbKlo5g8FAVW+5Y63X61188qnDw67PNdegqmZUbbPCQHQk0Cr2doSUUC250sa1ygNDMrmOy/S3cuzlrj+aiVJnl+NnoUqpK+MsBiJGGQypflbuMDt6waM3qn9FRHH4VjSk1hqvuS4C/0Y0JQK/AaQgou891s8RaW8ruJmV1/zD2eVXbHzqfxvuXWjMnWVqALmKd8GMk2mzj4qsTgbVzaFjNVqrK78Gm5jS2pCqXVBcZNxVrcCgAKqgTOyPTU5MKeTazXuSJne94o4bbjx34eLGxcuXhDgR4UTS1ImULUSFiKhIzSxSBHIzH3zwpbArru9Kdafo6EZVmnedZcXMCZpkBBX7egFbrwKfq+YkZrDHaausw+NuHSfKqM45S/jxYkRUYWmN9WqL6USVmRk1/sAIxomYmTdpNBZvGmxd0r/4N+23/Ejzlrf2Dw7SMAzmhGCmwmovcTrpKRWEkTh2LL7m2x0vgtrn2gtkK4sCjmUo9TddryWnElTFFMPBaHN7JwRzLmWJ7ZNcGXsoKxBIiVjNGNdalERUSbgYcIt1jseqtPVPRx0hdW2RgfzYb4+z5CpmUGhnBrBU+I5HZ6b4TMVStiqtgAjMxG6qNvkbgW2/rDSeyUk0r5dvRH8bZAkwYnIECWSko8H+llt/1dq7/9XOJ35rcPEhNOdde8HUUyKm4ajiNflZgYlGE3WlgSBVLRNVWZHFaaifX7/LhFiERJO02jgM0lgHQQjEIDLvD/u92c7iK++Yb6UtcUTIR6MRswuqpplZ7vNQe3dcewouJTsKOFOdqMElIoMVDWBQCp4JsEad0pXrk33cajnJoor5quPJsTLPbjqZwCqBV/qWxxIRU06gajKL9uUlmyp/ZQkHtZQBgxBMEZK5Rd/bO/jUvw2jXuuOd1He0sEOiKBGQV7qsorTKAjL5UHE7nn5Kh3nHiGiWJg5DpUfWRlTOy1KQVWN3tHqsgYlRpqmWeZFRIsmZJ6pkLDR9VJkTpWG3NGFWO5eq0ZFVOi29VMrgLJqB06pe1NXHh9nm3oi1HykVr9stWTr3pEjwz72EahKvSNSAjMjtrX6hrBaTiEd9Xp93ZKpCZMGM2Y2BAX5/cvSXF399n85uHj/wUN/EvavNufWPJRdQjadHFCTWIYTgG3LnRsAkrgjqcYijliEAAhkVHg0mNmUCFRJweKCBDVmKrx8zFA1l7aSZuPZJy/1ewch6JWrm+vnzrRnXPdgh10as7snUU65Lrpqkimmn0bX4Vibh44t27E0JS32L03YbZU6XkFfTc/eMS+kJv0iX9IqmUjL8ump6bKIixPHGGV5cZyKuiwre1bEjCUhq4n8yrAnhRN4M2dkah7i2CAzKz7fH3zu/wzPPdh87fcmS7dlh7uE3JPwSwy9dhoFIYBQ+DXlGl056q/p2FCBlOZXoTsZH4vifW3uD4ANDMRa2pgxKo5jMlhdnaw+H3XA1r2a1e6K39cfIe4MrcpxrjnU8fBOPq1W+TrW98YXmSjSoonTJk1JTPmRqluzi8YxIsjkdWn4t0FmFtMlChi8bwyLUI3AYCYEU4VJIsgt5f52SFqzd3x7cuZVe5//8PDi5117USwpJd20055BdZzo2rSoFTIgUMwXhREQaiBqKGyXiXZCheNU4h4lkglDMBpLBFFmwIwpNoBqNFuukT79xFPPPPHY2bXzzXZr9+Dw8tXuG95wx8rq8t72rk4whFAyARzZr9X7FTODwbgW4MA416HaoEYgLhT96CktjiNwXamur5kTcjvLCytxEemAcTSiyzHUQELGLVBp6r/jLlUF9qQV47cYhpmyueOZbGATM4NjiVqBkZfGAqQ7uvA5v/PM3Bt/gG96u436PDrE36ABwwuhU5rdR2QiRan4CxnkV6U1n2CujWk6OYpJy4hjbdkxwPUzC55FE1ebbNjEdQtvagxRYE65Z6no/jLe+Wb1b4loAj1+UsrGu1DtMFXLt7IgyxU/8UNM/eaIbk6VxUzjHXJql9PXEUUpOBgM8jxfXV1eWVn5xokRssW+SAYGm5oJyFjU5/neRtJcWHnHP5+7+/t9NgzDvXLdlUlnRfZZWcVbO1gjIzJHHAubZLLLCpXls1MbobpI3cgsTo7xOGMAiVmAgQRKrZlZsHz5oYefffLJRqOVJAmCLbRnfD64/4GHLz836iytoDSPABAJwGZ03AZhwBEVxbhaeozMio0+Vi51QmkuSkQqMV+KzPpqmfwczKZ18frGHhelxJ5WbNNQWaTEBuMqJ7z2a2YDV/XTIDYIyOF4Bc7MBB7wrLnANALKMBEZBS+uyZ3zFrLDT/52/sU/JHE0s3z0In+7dBo5l4HZADURCURsWnHaan1IqeEQEGCBAWgsayWODZ4L57eSEhsX7/cYwMDpux9xQlbuKSIiY4YgCEHrVYnV+fVYHpWw+jFMXoEDTAgSMy2lIDGIIYWPNWJ3cplJI9GcZZ6Q+hxT7KA8VnBRimyKUYnCA6TRB1T+liT+o/KK0W3BtX8TT1f8hMg4Pjhr4CRxkgT1BsjLBBL4DUZxzs+srv76r/3aj/+zf/bsM0+tnz1zdm01TdOYlvy8CxgTHOq0UG3EVdUa4u5gsiDi+zva359/7fcuf9s/p+asHWwCZlzW9BUsIBAxwUXgXFCxeFE48uIGpbKdIVEtf1uYmSxyakyKw+rPUlO1KLYIgiDMbGyeYwKqtuZmRyE89MUvbly+2J5JRQgUIKxG7XabyT79mS88faG71JmvgUtUIJxad9XWAFjUyvrgusDDVOhejSK4kxa8pF7+a2A1OSEWGEWalZNfuoKmEK5Ji6TCMhJoNWebgNiYOJbGR0FpbMoGLgvV4sFiSGY66QarHrZIYY9sDRAGk8X+s2AyUgdzrUVuzY++/MejT/3Plve4vQwLxWJA9OtGzYWjO8vKrgBUol1+VXQaBWEkohgjBDBRC3HtX5lVLSIrCTThG7k2E5lUksoLHnPeiRNdUzanvTpTV6baRi22gRVlFrVztfw3TVwGn4/u59oYan8xWenTr9ExOThTk1AfJ9VRacycc+ySU8h2v34prthWq/Ge97zngx/84N133/2+973vvvvuW1pcOLe+Njc3572vUIpwggUw7dI4xTYlQ9RMzIMEGAz2rzbWXt351p+k1duy7pbmPkHCcCoRXDoRUiFVM0hgIgMrU0TWrZTF8RquzL5iibKBS+PjGIqLXCSpEltKSVP0IGvNdfr94RcfuH9va2NmbhYkta1hqtqeaTYajc9+9rOPP727tLIM8mwKeIUxsyqgRcMHAC8CfWnqVRKNHcUUtd2TLzv5WwVwjZ5HVP2LHunip3pC+OP4mq4jzETHfKn09U7xLmFlkDchG1DS5Lm17PJD2Sd/XQ+fo/k1R64KbWpRIqpqZmCJX7EZKVtydDzXptMpCEv9iL+KEObxcTUmIilyjtVwgql+bTry7o9fZ+Ur10mddxxAPipgqhOkqKbn+qWExobveDBjEWh15e7IMI7KXURxGP9F1bJa7pUViNq/unUYH5xqcrHIG2BXg8G7bhT+TSlO7JUrG+94x9v/9b/+pW63+6EPfeid73znt33bt334wx9OEzl/7uyZ1ZXEufpbrtT2o9KxOn46xWEwL6BgMFI1SczyvQ03szT/n/34zCu+U7LDPNsLQoUJwqrslJSJyNjIE5tjaNlpFkD0oFSGVJ3hlmoCE2Qs6mr7JW47NSIIWZEwE2LqOXF7oTPsDb7wwGd6h912u8WGAliDix0hQmbWTBvtmZkvPvToU09vLS8vg3wEUomBwGIIZfHVlJpe//YkGv+kBDs9Ti+vyiSsjlI5uQympGalcyuX2JZEVGrnEyMsDNPafp+UZzUXGpSgTMZUvKGKn0xpIcUgTABOEAwOUEiaLtzkdy8O7/vVcPEz1u64xoyaKbGYwiyoCsfeVTmMYc4Q9PlSLI/SaRSEVfDJYtvJSVEwZcPUczrIJoQWG8MmwngVpzj2HUzpJvW71KbpGJ2rfr6VdNK39RtVMlIRJZ6Vz2Q1ZCmpcHbKHWtHLbmpG009YD2aUtyaioLC+C8OCzW329T54+uzlXq3KVjHgdLTuJa+7qiINAO93uDnfu7nzp8/H1/BJz7xife+971vfvObf/mXf/mxxx5dWVk6u7a6dmbVypZydZf+1Oo96eBpIOPI1ITMGSGYF2d+sEEhtF77j2fe+MOu1bHDSwgDZgFIyiijkTISmCv6BY4DWsUHpSpXY2JTFGF4IkMVd4gLe5wsisoxyMTMnDY6CytbVzfu/8QnRoN+e242bgFVH6/MTMQxxQnE1mw2Gyl95tNf/utHNjory2nqzFvl2qnexUkCb1zXdNKk1dSd4mo0cWUA13Am1Sg6No85Lc5kHVDfLEwkK9AkwywU6+pSY2f1Ub5UTfJR9sKiMLYCddIxBYWl8zeaZvmnP6gP/VEgxuyymCoMxsxOVZkCQTT2GbZroO6cSKeReZVzBGJ30u59Ebuav/qfTMnIuhibfMdjZeroKp/YfjWKnIuFhGJcEPXzrTDJqrhFNZITRWB9kV3jz3ikFI0ydeY4d6D2w3piAkrPBgBiRyxsIOOpPnDX6cVRNcO7e3vO8Yc//OE6u/zSl7708z//869//evf+c53/sIv/MKjjz6yfvbMufU1KW2LIrcZQC22/bI8yAskNgY0oizFsohgAhL1Xe5eTdbfNPPWH2/c/j0I3rIuk8tJYltNQiIwR7kwi1WGiB3jw0eh5E3m1wiRgAgkhY8EAmOwRZPFmMyxmTUarcZM+6EHv/yZT90f8qw50wIQMTAjPky8V5IkREV7GSJrNdPZudYXv/j4/fc/LknaXmio91FNj7FeoKhdPl4c6gti5ZXaPWWfPe9Pqj8rl/HU7aWsP6mHFau1VOLBAgVHUgCxm2ll80VbcHyjSf5zIhlYVFmYGfAkSJCbDnl2Hq1O9tifZn/5P2LjQWqvCs0aAiNTcobYVcGMPUGqLfDC6TQKwoLISBwXL3i6Wfzz/9yKFS815jzFGo4uwWOvPH5/k73NSqp7Icp1eUSW1BHU6qrc1BKcGoBNZLKZnBDSO/bIlPBDKeeOiuRrrcv68p08P7pGlThGGl7QS7lOz0flxMI5d3Vj6x3veMf73vc+TE7vaDS69957f+mXfunNb37z+9///gceeGBlZenc+trc7Gy9W1681ItgCl9LilvACESBQYyENBBghMAhH22DLXn135fXvxdMYXQ5YQMTyDOZsihYQMYTxkp9/ZcuuYldX1dSjUnBVfkdMxsQYkqL0uzcAkvymU8+8JWHHkzENVozxmRmQqCi97olLPW9UqSqOmkk6fy8e+rJC5/81GMB6fzifIQdngrxnrRxntdBWsq/se34Qnr1HHWb1wdQJH8+P0TiZHssoOrpXZ98HOFCU8frw6gOGlxKahaIEgqUS2Jios5Jm+fX9OCif+CD/ok/pfYsmi1FyggAK4GgUDJSORHh60Q6vYLQzEQSomNy5PhIA9lCwNSs9QIaofSha3na1DY4et/6O8OkFXhUhLzgKPEx5zDKBjDFEa7HCJmZiso8BVSOtCs99vpH71tfeccPY9JrWo8a1pPHpp6LmQ0KFirrCFGXlNdBt18s1a2EEEKW+V/5lV+ZnZ09JksC6PV6v/mbv/m2t73tXe961+/8zu9k2XD97JnKX1o/89RSQOkapSSYJ1OlxABnYurYe8pH2L/CS3emd//nbv5W62/Dj0gaIW4gkpwBSspkmenVXolDjRYKAcLkxNiMrYwDxhPYWEwpMMBkZvOzC93B8J577r349DOdhXlppABIKyQpqlrFVSIwlksxE0OIfZIkSysL29tX77v3oeHAzS7MhpBXDtVrbMyvgvR5or/HXp8no0hKZWpr1QX2BTDJMceoGEgVZClPOyr5jsrF+mkMITI2FnKx40QSE0QNSgrAza5TOhu+8kfDh/8DU+oaC7H3hiKJDffMLHxjWYREIoznTxaPVHqmxzp1vEY9knxs0spJN0cthlfPsnneZXf07U78ajJaF7eoEUfXajDopJebxnlASrCq1OIaw8aRJVh3bBZHYuVErKioJcscXbtUtogiouiVqm7XaDTKro3VFJ/iFfX1QFRDrmLm7e3t5eXlD3zgA1OnTS3Cj33sYz/6oz969913/+zP/uwTTzy5fvbM+vpao9E45eYgYh9NqCKYBeI0mDJGBHgK0ebzZCCTwTZaZ/Ga9+KGb6HQdYNdJhHzYgqwwJeLVerVuvVtWMICF6n6mN4sRf6nsogy1OYXFvvDwX1/fs/OlY1OZyEQYn5ikSdCEhiuqnuqOV3L3hHKLGAitqXFxe7B4cc/8flMZaEzN+W7NjOjF9mZ/UUkQE2zjok/Jx1vkydT4fWcsBOKEEkEWawPbPJe07+a5I31uxgBpBqbOJKRcE7kkBoLsQk5s8CNubS5Sk/+efjcB0ejnaS5riDBCCQxd+Z52ftROnVsq5rfGEELDCIB/NEz41xX3ZcABFgVqIs2siFQrIBBCQ97zfuOL16usBKsYdqKr06rTMzxTpv8Nn4O5eeqR0Ss2YERlWVGZuaYHRMbAhWaFogAjZWRVliS0yOvLayi/O9YiYhCKKKslNLoCAHJ2PKjWo3F2N2POHpiA1hAgFpQEkfCFjRwgcBtpMCLqeO5TpGqBVM6M+iw2//Jf/Ev7rzzzuqcqbVaMZdnn332V3/1V++++3U/9mM/ds/HPrbYmT+3vra0uBgL1ujkMPkxMQKM8y2/JsSIkC1EcUESRM0ISlZUwFp+IH6gN72Lbvv7eTojo62YDiOmRgkVDxLKSEpcttNRFaDIeIzbtLY1CgsPpMY0v7S6u9+978/vGe0ddjoLOVnl/azkqICKGnAqOgU6hoiU4UgREUbMFw3znXZ/OPjkxx/0PpnvLAQtGggW1mEQOt4bqVMhvTrVmU9x5AW/sMI4nqhlLCD5lUAkOnnXyAziDFOZ/0nlV0Y1p9HkyjFSoyKRvlyoBigJquRSZq6zHRjHuhSQAOxAAYE4RCXbEUPNpy2ZXbKdR+nTv+G3vsTtpZA0TbM48hch106dIJwI5Eol208c53GrpHqpE1TXE7/KERWv8NiYIh2XS1KPAqK0yeoyMn5VDxUAqKyr+s+nlLJjmSCOM3aplqEzFRwtRzXhSqqGNHXr6gOX5bfGxa4QlxLk5Oqi6/RV01ToiIj29/cB/MZv/Eb1IqbWYX0JmVm/3//Qhz70Xd/1XW9/+9t/67d+a29v7+zZM2trq865k1jq1CpCWcD0cr7VkkPXV2YIwY26fvGVevs/9LPnxXcNOTPMQtFfOjLQcX5mQieQWbHXYglERPAy5AlcZ2X1yqXL9/zZRw7292c68wpzmN5001uJx+8rBjVEmAjOlYWGwML87MHh3sc+9rnhwBY7y2pZHLCZQXJMvsdj7zVF9ccpjvxtvLASuGPa+BvbGLWFUT119fN6JAUAa/R7CygxMLGLHzQwKInPED2Z1VsuqyxMombObOKCCZEY4Gwr0vYAACAASURBVFmDM0VQTmhmibIuPvebeOgPZJSTa8ECm4KOMZyuTadOEEayqLhJUg8sV1TNezhhq1b9HLS+sI7r6FR/kfUXX2cNZla3seq/rQub6Uc4zsleP7kuXyl6VMZW2VS9xHi51y9bvzLVnMClFTdNkxecLD2efByqK2iTEzXJBcS4Bk5x3RD8G1P9dcQjIrK/f/jud7/71ltvvUZuBWrvKC7a+++//yd+4ide+9pX/8zP/Mxjjz2xvLy4trZ6dm2VqWwkMlmMb2YiEhM6rnGXrw3VV1pVx0YkgPJgHzKX3/TuwcJd5IfilNlF3w+NnSJ1pnEMl2OOtRMlNDZgFpozrbmFxUe+/Nf3fPQv8jyfX1iI7UUj/vXR/VgxmYKJR9hCNhEhKRTfEuINZqHTme8PB/fc81c7O8OV5TOAeu+BiR5DkzP/PPz5yGs65vwK2q2e7jBxQpmRV/8igMIJ4n+KJ2DSKUqVpCQCkbEERKR+jcoMyLOApVBWAsGYuCxYJOYCwYrMSInZmGA5MYO8aYZ8gMGe9Hd41DWfh+Zy3r5B956w/5+9N4+zrKruxb9r7X3urbmqq+dupgaaeR5VDBLFOERwgGZqUaI/MaIRX5LfM2bw98zPJOYZFX1JFF8cYn4/kogaNSg4oeIAqKgoCooyN91V1TVX3fHstd4f+5x99z33VtHI0AXp9elPf26dYZ999tl7f9e8Zu4kY0EmZf4NDDQrLul2m/hFxicojGUpX7Y3psKHCQugkIQz8LjxbO5spIOKQTaUrzOfYz10O35Q6Inveef+VZiUlsPu5A9mMadd525nV+MR6Hyv9vERIgsgz1EaVXiJmgoz279hPuNDwTYiIvbOMuj0/94Hh4+JNPKX8b8XFxeHhwavvvp/P//5zwuGJaKi+TyeZgEOJyYm3vve91511VVnnHHGs5/97IsuuujYY49VxczMbLVWC015cs4V9Ba/gRXq0b2sf9CST2TACQEO5F1AU6LEaH2ekpKuO6VqVunkj9esMvUa0jTNK/wxgLykoH+dzpTNKagMr+sDVN3g4GAzxTe/9a37fvmrnlK5d6BfcoMTtSU1LXqwB7LETVYiVlIVBisRpWlKhMBkDA/1VSq173z3x0cecfDWwzctzs81GikzWiVtI+Z4+aGjLMiKlpXc275m52kHX0S3jSXKdZxQYtbi7odoT6AcBeMm2vafTAut6vMy+g8hmfWEYDhX4IkhABakKgA5LwxoSvWalaaqaNKL8gAlQ9wzQv1rqW817CBZw8kQJQOijptVACxKnKg+OqFwxQFhNIhkbamwrSN8ogwpW7fEU0fgs8kHLV9+46PhcwvoAoAMcwswWjz1Ui3HMxvdUM3/NkTZ2+SnmMm1uODl0Do60opgjc92oGC7hPdoxiGmTIBISt59PTsYzu5Bs/toGYqniogYYyYnp84++7mXXHLJv/7rv3bVoaEdRQrSnnPupptuuummm971rnedd95527dvf+lLX7oKw5VqfXZ2NgbXuLU4GONJJkUrLCdeZY7JOCFbsq7RhE1XHfDTr//72l496RnPaDabtVrNg5+IdyBcMpxAiVUbTH4DTIeHRyqLja997cZdu3atHh4plUrqJSlDTpVF0bIpalDYIGhwW8FaQUAUa22z2bTWpqnzKGiMEZG+/qRRdz++/c5KrXbcsVtVZxqNmrWlPRyZ5TeE37SFogglSr5KoXRi4bJtBoD0fyoJQIDPbQJlFgJIbA51RsEgYVEQiaZSBxqQJoPJ9qHcpwMbuHdU+zeidwS9o2yHqNQnNgFAmhohRV3T1EjmaAOwShOPcmRWHBByqHgHEFtm9qqDR/PJeQkVQZc94hGpYDOj3It1KT0DIvyjPJAraERbmJoz7MzcadCPmbKlqAt/UNTpd/nRun6JBgtaDmo/i5wZFDiIY1siGFXlzE0mu2AfED4WCgikUSKuZpo6p+95z/uuvfbaZrPZ9cauE5vaZSwRufbaa6+99tozzzzzVa961Ste8YqNG9ap6u7dU845jT70k4mCBS1PDsyt48pE3oLgHcZYnQKKvpI1xD/6/q3zNXfKqScNDvbPz8+LSNB5LvVEAVtSSANkBodGq7XGl7705bmp6fWr1ziCE7HGZCWZVMmG/LoOiKMGM+YyhAOTz/nv5b80NZZcmhXkYybnhIhEbJLQ0Kq+u395HwlOOfXImZndzWabRnqpkW873r0mY3ZuiXuzsqSdrcW/lYmy6DMlImWKs6xpt+4pWsxBW5plVqhPV6dERjMLDjkFq6g0nDSdpBBlm7AtoWfYDKyRnrXoW009I9QzTOVVVO5nsKqqNNXVtLkgKfvQMiLD0pSMoWGnZMixWnmUeqkVB4QasucJhMhXADTGdjJ3QlBqy8etQh5Jg/qU8zbDh1tWqGqbiJ3bigpJh1CFaAMqcEPxEeJsycSnPLDCi7BBy5qVQOtQh2ZNtbrT9Y2WWktEFBRERLm/tkevCAKDWMDt7xK2pOxIlmDR+poe0T7G+1Sjj5G0PeGIZjkq3fjExIYN697xjnf82Z/9WTw5u87VpU6FI15AfMc73nH++edfcsklp5xyCoCZmblqteqDyveKLNiS/zSPZM1jiTwPKmxYIGgo+ZLY1Nvb1zc0+OB9D8xMTZ36jFP333/z3NxcmqZExGxD0F4BG9hPWubRVaMT43M33njj4tzs6OioEzHEXhpSgFQtG/9FvCwYr3EiEmov2gd4zwT4W0SJHXtnGACAc2IMp6kawuBQz333PcCGjj3u0MWFuTRNl9GIFkU3KlSrj1+wK/xnZYEL+0O+rgWZt1Hgd+OcbeSrjWooa4OsZmGYJ5n3frR9moxj9kVR2XML6urqGqROtQEumfKgDq6l8ij3jnLfOukdRN86Toa51AsINCWXStp0tRnWsBAEgMkCw+HgmKGkECUgIVJFg519lPEoKw4IAxHBGGOM0WVluM55k6FgXL3TA0s3wOj8v/CDvIijbWiKpZBSuyj6vdGFFaKSuQX7fgLUlvK2ZX2gfJZ34bz2wF2i0MmOgwqoZuqduG6Lt6wsZXZi38fWyBCxNe3Lbx8EPg7UDoEUH1lYqLz1rW+9+uqrH3jggcJlXddI1yka//nggw++733ve9/73veSl7zkNa95zctf/vKRkaE0lYmJiZZRYW9QMHzERESG09TBgBSJqpIRAAlhcHhkfn7+G1//1qmnnnLYkYc0atVqtepD3UOTiF7fKqnF4PDa++576Fs33pQ2msNDI059mSePcEjASkihJXAmfLTH4wrl8KyahwdEGV9FhTxP4xJjGv4zkUJSYwiOjElMH//i7l810vSUkw5bXFys1+vhixeMtQC6y3nR8cIeFZF0rUkeznYd/4CU7NVXTKw+UBtmCaNKbPEVgiWyRGmzKmmVGZL0wA6awY22dxh9a6lvFQ2s4/IaTXrJJgBYBGkdrobKom9NSSBkYLwzlB8EJhWIqjJZo05hjaTCcGCjKmqTPcxQF9GKA0I/WwEWUVAC9dMhq6lkib2kIqo+MVOrcLN61kxU1Uvy+awRZJ6NHRaySKSjSJ8ZrvFTPBfFDEfeMWhHHcpVndnsoSxe0BBIFT5TPHnnNAVADPVWTPU/STkT0qwSCZxfDkxC4p3WHKnPjegfJxlS+hcDaZbzgohFhFqJBYKyQoMrQZ40BkCmLQnlFeN9su0FkRISbZVXVDAZLqlnFTPT995RihIRVEVkcHCwVO59ov079hIJAF+D6Zpr/u2MM54Zg99jf+XrrrvuuuuuO/300y+99NJXvOL8jRvXA1hcXFxYqITV8USIiZ3NUR5jTr5aeng1H61GZaIGwSinmjpK+jRJBKSQoaGhhWrl5m9/d2r37hNOPmFweGRhYS6r20eUB1RkwXCmp7e/b/jnP/35Ld/5rjFmaGRQxHmRzy8qSwxS9m5rTERMGsEDkzCVc8cxanmPO++2qqo+uQezqiMHYQOFltQIJBVh7xvCZnRk+KEHHmg0mqefdlySVBcWKpy7zgUo9GpeP/Y+UETbk5wFLXo8K6LfRQefcA0TaeRj2clUUTS7HGWdcAgsGoUa9MaQj0Wx1rJJmDltVhuNlAfX0sBa7t1oB9abvlXSO8pJH5uSqKM0VWlQs6qNBco3kHZOnEH+ZTN4RZ6HlYhyNaEIsVfOKkD0qFEQKxAI88+QhaoqE4Ut/JFsZpQrIOODnWttKfa5s/32I95U6Q0P0rVL3J7jzmToCvGeNdK6JQIqeNwmtGLtlaCs4XuLIc/7EsMRkWRbAuVsgA/A91pKdY4NAyIiDI6XQNThlvSW9QdtkkenZAm0VDHMrM7tXbzJzKvSMkwmSTI5OdloNCinpx8iEpEx5vTTT/3d3/3dL3zhC497+7feeuutt97q9aUXXHDB0UcfvX79WgBjYxOdbN/j/vS4faDFWOXYA00FBLYJ0iaRYRvkMwHQlLSnp6dk7F133TUxOXnSySds3Lix2azXarVgdCci51xvf6/h3lu+e/NPf/yT3t7e3t5eFcfEFK9fat2S9YFzKMptB4H9RbRkAkvtc6gCIMMsbSnNTIjXFDHGDA4O7tq185ab0xNPOnpoaGBubsEXdfLGTng9aP6UdjG3e1Bp11MxZBb+JMqSCcRvUZQT4t+ZqouZuVzqZWankjbraVOcc85Vq/Xa4mJlYWaqp6dn6zn/vbThWJUmmFScSZtoLDRBhfhjBfaiVmnFAaF3WRaFiCRJ2Rgjqp0ZMYQAbftaYb52hculQDRsmo90jf/hv1vxU3VuCiaDNI+CUMr8v6N7KHjhINKFRnpGUkNKYCGrBF9zjRLWlDjIbZlnbNY35cySr+R8svEs+V8wD3jNSUHB0sU9uvPPoHSJx5yTPXV1e9yJiEKBU++bMDo6+od/+Ief+9x/UKtc4tOK/B7knOvt7bX28V+5Ad4mJiY+9KEPffCDH9y8efNFF1102WWXHXPMMapYWFicX1h43Mc2tEWZBrKlXPFLxNuaAAhn1oNMfSFgstbajAkmUoWfCYvz8zd+7RsHH3TQCaecODAwsLAw55HLOTc0MlyrNr78lesndo0NDQybxKoKt9Z4xlCHnZ7aCOSdR3K1oUYGlJj98lZW/17MGmwOKo59XIC2YIaZR0dGpqdmvv2t7x1/wpHr1o7MzMw4Z4xhzw2H0fA/ZFlTYsF+HP733k+hk20f0QuFyqAuavbWemcu2bK11vOgzWazUW/MzowvLi5WarVapdJIU4imabPZTAHVtLZmw1ouWdTnOF1UYxVMcI7LpiD47eFcecJoxQEhcp9JnwFMMy/NNk4hU+q1T4XOxbkMvMX4h/bNvZPb6nq2c7pk1zN5h2AoHGc6UqtZNSXpaCS7kUDaqi3s1aR+NwD7VIRMUNYGwP6xTABUQg8VFgpNHWfpSSkzXcAnmmpnESi3GWQqzc5R6kREH7YUH2GT7D0rUksdnVlhGWNjO+fm5vZah54smp+fX2of/I2pMJ/97x07drznPe9573vf+/KXv/y88847/vjj163bIKqPo0Pp8jug9xJSZUFKPouhqIMjw3AgUmMSwwll4XRKBI9hfX19adPd/ctf7RqfOPM5Z2zYsG5mZipN01WrVi0s1m+88eu7d40NDw8zWyZVJSUFfHHsDAXDsITlL7nDKLL143W3GWT664VyRGyXvZg1z9adXSwiAPuACgAqGBwaqCxWf3jbHac/48TVq9dOTU253ChPy4cYehhrTxjS+YPZxzAUvQ5VNZg2EQwfyMpoWGsNJx75Go3GwsJCtVqtVqu1Wq1ardZq9Xq97pwjImPY2sRzD319vczcrEkpGSAHAM6nUVP23gnaxo5nuxAevW3v8aIVB4REFMaIrWG2zqXx2eXvjaSbbN6G322P6GCa9qT9QEuBLoLvJYWf8ADogQ3RbEPuGV9oyqvDSQgQQwxldULWKbMDm5aySAHJ3NjUMaEJARnrJ7oqjBIciEKQU7TtBNth9xfuRMHOP4mUTNJ1NJ4cCrtDWLpDQ0N7pSdPPj3uY951SmseKfSZz3zmM5/5zOWXX/7ud79HVGu12uP79KwPuVDYOiTqdSUM48MK/Z7NZEWaCsBaGJ8gos2GoqpJyY6uWjU3v/i1r37jlFNP3Hr4ocaYh3eMf/Pr31ycWxwZGSEiVSf+VmZvmPAoWGCUAXibfrbccrEqW6YAM7dkdC56uhGRiFhiIXHMHjYot8f73yICUG9fT6PRuO0HPz3p5GNGR0dCiGdoJ7SW/W4fwPDJCtuRv1JVvftFnhmjdRc0E0ytNdZaYwyTTdO00WhUFhci2KtVq9VGo+GcM8Z6Z8ZSqWSMAWB8KfXw2Ky4LpNN1LA4SrSllcqyoK2YHP0rDwgB5FtbkpSttU3XyA3dEYosof8kIlHpmCFYXvVcmPThIABE8TExdWW+ABj1XjBZF7wXrxJJpgMBKLP++UpGmatoxIsjn+E5gIJBxCwkifOlpgzBWUkNQbyLjErTMSDK6hisgCFRsTD5/iZtsRPI3aPVdOZFWwoFW1xFvgjJLOOK9oRT7Criuexqtb4X+/PkUAz/T+iDQvtDQ0MXXXTReeedd8wxx9UbDZ+D7QmllqxPpMqcuT8YwJF3kMs86RVkrEkIrSob/l5mds6BMDTcX1msfufbt8wvVFavXn3Ld2+pLdZGRoZSFUNKlK3WzJYRQWBBLxrXxyYiViE28AJrV4UKq6pCyf8g9plVsihDP7Ye/Pz1zPCq/lKp1Gg0vv+9248//uhNm9dPT0/GsmB4x5aSLK+kSODY7Vxzu6hvnkhV8k4qizqCISJrbZIkHsk88i3MzzUajWq1Vq1WK5VKvV5vNpvelsnMSWL7+vr8Q5CbjVTVGMtQQTb4ZNgwnGFbKrEtwaUWlmCFhMgRymHHi3nzvUgrDwhJnWRZ6VIVicaHFX4aAbmDJVrKxpiJC9xWt/apcHHhbPyDcjt8/ju4YLnOe7PGoYTcYSyfty2oyUo5eHSEt/Z5EZhynxoiXxvJZYmAScAkQhZc1qbhZkVLC6mtNkwtdQCVDQbKiZGFkTJGSzzdoIaCpUlEChMyzsSZ+FtKTm3pVZbCv46DBMBvTYaT7qP8JFKMCuVy2R98EnBib5HfaIaGhmZmZh731yw0eOCBW6644ve3b9++efNmVUxNz9RqNfOkcD+ZxOVJGSRemlH2VhMQs1MBG5OUOJPNOGZPQ5rivv7exJV/fsfPVbVk7PDwoEJ8qCBTznhm6Ne1J5ks6GVF77BAROrr8aJjnYhy7s1O7NVABIBYSIlJlBGsdX4F+iQ2zN5FVnp6Ss2m+9GPftpM6wcddODs7GyjUUuSJEz1Fo8eaZ1yqyXQxiP6KzUVJcok1yTJcjg3m2mz0axUqpVKpVKpVKuVer3eaDR9RKO/2BiTJDY8I396/jzNlVK5dtVDoP+DQUJNMWTZijqBIyUm4xwoC4GH1+Lt9bW64oAwH2gFYE3JGLOMH1QndXqNLn9LDIcB/IoYkAGZ5KqMVsthUramiCoAk31fKMGpjw1mZvX27qDI8aaJ3OXFK1m8a4BCE0OpVWVNrDb7qT7v+BcLPQ83hrhvuG/V+v4Nq5LeXjLl2crcrrmZ2YX777yr+kzaffTmnnVD5ZlFNMUEHjcf2MzU13Uclv+zG4eh2nXneHLJd8w5t3v31Dvf+c4//bM/29s9egJJVa2hQw455Pd+7/c+85nPPEEKUiI6++yzX/nKV5177rkjI0Mi2LVrHECwbz3BfEbmMiPqOcNWdSFvqcqlEIAZbAGf0JJVlXMsDCtTQApNDJueXgAgJQaEDUBMImINZwIaKSNzHI0nPHPrrRHOtSQt8R2Ls0f5IDDfZyKfPNPrbEHMCnjPz5DiHFAVJjaA8zeWSpZI7/jJ3c1m89BDD1lY4EYjY0Fye4pXdsa+6xozhXlROOvxjIhEJE3TZrM5NzdXqVRr3r5XrTWbTZ9/wKs6rbVJUo6tTPHGmP8Oo5SHMBKYoT7QpGVkFcN9TOUsEJFZ2AjEEMWJqPz/+yTCNlK/DABVx6bkJ3p2ShX5Lu4V+kKFu0VIFE41K1fdvlw5MDUoAB4TU5sKtDWnkQXuRGcl2MZjLDQEn+sGmSUDkjGbUFHDQmFykQ8pJCWQKqs4Y63AqIHWnZYBATcdbG9JR/rc7XX3k9mSXXfM0PFHPeeQw7ccfNDG9WuGB3p7e8uWuFqtz83NPTQx9+M7fvb9u+685fv3Hrtm+uyj19TT+nzdEhzIkhq1DRILICUtpUbyFKFhFbW/Y4vigdLMcYmFxJKB7ZQIQ5KLJ8kNWvM4CtdsHrRlS2/PXnNkfbyoizdEcBcUMONXv7rn+uuv/w1ajldEJ5gR0aGHHvrCF75w+/btp59+OoBqtb5z1zi6qMefKMo7FGoTBouXAamqI2+IUqdgdmJMgqRHSXxmUmJlBaCCjCX1cgkQLAMsANgLU8qGlJRyIQ/xjg8mijDAGiFiJuN9khmGAXaQlh5SvFVMQXAAe1drVc0j7ZRYVH1sVBaC5VFNRMDIA50NAFVNksRa+4u7ft2oy+FHHEKk9XrdWptlmtMMgFVVxBERM5eTHlMiIuOEms1m0zl1aZqmzXq9Xm1Uq4v1ZqNer9WrdT+RmMnapFQqlUqJhyQDUgiRBB63ICqE70/clq4r3xK9Xx68rdUwmXJijHEg5syFkCLOBnsb/wKtOCAsUMvJmLoV2cwpxq3o3hbgFT5nfCO1BKZiTH1nm8uczdrJD0jE5DC3BYC0eqJQghKZlNQ6UceUEFRUSuC1PbJrsfHvP6zU+p/53AvPPfWU4/ffsGZ4oF8V1Wqt2WiIEwdJkmTTpk2HbT3wt591bL3W+NFP77nmM5+7+bqb3nTW+nWDPF5NiMjAsViACK6k1teLyZSjkuUf6HzTwkHNc0xkfxs2xu51BSTlNiERmZ2dnZvdy/15fCn2fVDVoaEha+2ZZ55ZqVT2sIWY84t/xBO+p6dn27Ztr3rVq575zGf29fWpYmoq04J2Rb4nR+1cfLQHCY84yLRvxpgkSdrZVgCZajKUcOGQMjD03CdOix4Uyz1+weZynsanwl7i/9P2ItgInFke8BDvF36W+vzJQJb4Ai0tbhcedHBw8N57761WF0848ThrSwsLc9aWnEsJNrGUlIy1FsoCTdO01mxW52vVerNWWWhWq/VmU4A0TaXREKdqybItGdvb2wvvykmWMuHVd5MyW2xub4y/QFvC5CgAMEJBPwJ5ajxSQEpJjzUlASHUOF+Rtf9WHBBSHrjuzbNJqSTuEQpqdBViCkeCgRpLKHYKYLnUjeGCuAUin543IyGv9afoLKFDnZ/9KQRVwyqwxCoiSiiRGR3gm39d+Y+fNk8+8yWvvWTbQfttcA03szAztmueiFSzUDk/hUdGhq791GcffmjHJZde+MxTjzr5hCP/6qo1f3XDF9/yguEDhpKxijNsfJYlApGqM8otfVOUtSIavaV2QKIsLT0z8x6nzH+CKOaps8/6BIssTzYRAQihtH19PX/6p3++c+eOPb67S/aZ+Mexxx574YUXXnDBBVu3bgUwP784NjbhL1imkO+TRjFmR0uPhRyBlKEg9ab0PPNGdiNrbnIHiQ+pBcL/3QKZulGWOC3HvS5bRHad10ZmC4S1Fd+b+doVtFBERCwMn/iiC/se0/Dw8MTE5A9v+/HxJxy7evXaRqNhjBHRZrM5X6nX6wvNWr1aWajX67VGvVHLgxkSy8w+M47t6RWoIZ+lBBAhGICskovAOjNncsRPZO8uecdbdqvCaPh45UwWhABgotTDp2HyThNZJnTQ3guTWIpWHBAin52GKCWOCow9gqqtwJe1/xnZtah4sVIRBpaf7oXbGdqOay0Wnhic7cyKPC9tgZRA1miqihTKYCqB1w/p134+94X7+q948x+89HfOqDdk7OGdziSJOoX1/K6CRIVI165b/elrr73gwgugqNSqb/uTP240K3/xf7/uQyN9H/jsp//kd1eP9vNsFTaEsDJnoYiZKibvH1pBwcuPs7+AyRLvzfmTr96WlLN8z58q1PkiROSc27Rpw333PfA3f/NXWIKZK9yyDPNHROecc85rXvOaF73oRUmppIpdYxOt5+bo+3i/2aOi9tBhVSIvBUqk6HRkjbVJvDzzoQvWMsnShwLIZzjyDNNoX8sFFIyPdZz2B0x8r/rYZ5v5grbVQ9UsK2kuAhLAAqHMr8D7rrb8geMJoKqDg4NTUzO3//inWw87pLpYqVar1XqtulhJ641as6GqWWYBNr3lUpZRUhyBlY2SEMFkmRT90s20ry6LhQzYhnbZDjkKciHxaWGPDW9EWRJKCnu4et9a7+ikufj5G02IJ5RWIhAisr3Joxy0pbbCeNMEE1wEV9p2TWFhFO4NZ0203pZ6XJxAKM/OTh56w3ONOnJWLXse0gjWDOGLP57/5q7Rv/vrtx9z2AHj41OpA5uSoVRgyee2B0TUMKuCla7/wg3+KWvXjAKYn51Lm3jT67ZPTC586JtffNs5+/WYakNLyrBqBH5PcYUJ6d92mQGML1BVJQ4s3l6hws6OJaxrTzmK3yW8UU9PjyquvPIPCgi3FMUXxLnohoeHL7nkkgsuuOCss85Sxdz8wu7J6dbe3x61/Yhw+8SRopVoJjvi+yaZz3bWMeXAjQX8ypYqK1SZsuALA/b2KxUok6FIfIw0n0qUFeOlTBmYqQSL2tHsRo+1ADIXBM7wzLdcUAISUZQPy1fOUyLJ/V80DHx8l0/bPTDQt7Cw8KPbfkjkSxuStSVrbb8xMOwEICkxC0igDJSMJOyYHZH6ZGZCrDA1x94gmRjjVPM0VXnt4dxKkk8A5J7uLRtENsrZV4q3zTaRI7vZWGWj2kRru1mJ2flXKBB6BR6bxCRWXbrnazGr5hmt5PyMj+LRbKm07/ikIO6uD+zK/vgGux5kzaZ7uP0ROkxkqwTMKgAAIABJREFUieo5Cq4bwlfvWvzKvYPv+uu3HrP1wLFdE/DGeTRJkzapksiJENFipfrmt1zpVA4/4qjt27ePT00S28rivE3wtv/2mte++Z7/vO1XFzxj7a5545edBRyKoWCdSeziEWh7w1CniXnvSoQxhfRRe7sjjxvFs05EVq0a/upXv/L5z38+ZtT2RChEFq+G00477eKLLz7vvG37778ZwO7dU41Gg42Jmf2Q4SFWOD9Rb7gsaQg7aH9Tj0m5nxcrMZhAwgrlSAPptTWalcnVfNaKd+EmCixsiAZAniu4AHXwhRSimEKOgu6z7lEx+XA8FyNFaRuXQ+QtlR4/WpEJ0TD4HPfO713lnoQ0AZhgQCkRiFRUSdUaqwpV7bd1Y5JKivFFTC7qXF2aDlC2RgbKZu0gbRiSwRJqjhqOmFiREpvc/ichp38b4Efjk/df4tdH9HZx1WIiUjI+iISQh8GsSFopG1kn5bP/0VlWO7WX+e/u/iCF7x0fDw3GnzxkTugKmV3/DNjV+SADct6NTZyBGRnQ2+6rf/6u5K//nz8+6ditY7um1VeD8Zk1KGWBolVpyy/S3ZOTRx9zzD//88dUMV+tVxcXbamnZOzc9OLGTX2vveS8//X+//mco7TXSF3IO9TFnBt3zGa0L9fWn+3jI+Cuyt4nh4LAhG4D+/Sg8I49PT1E9La3vY3ak+ksj4Xh1LnnnvvGN/7B859/NhHSVEIshLG2AHXelSNA4F4c1XzKMUWBvKoKz7MKqficMJQkZZhixSLqbI1VVZlMJo9oZtIgykqxRPV2Q6AREWWZRTtxLjP/5emrltdGxNfk34UoK09BIgISRpALW9+OQ2bRPFuVYQZUkRA5gZItqaQG9b6ycc7dNckPzMi8WTOw5sCRA9evGVnVPzgESK1Sn53b/bOxh2/59Y7VNHHyZuw3orVU68JZjVU/GBE3EHU+zwZDCN6qbZBPQetLMZarOjKWyHDINQM4gllpFsKVCYSqymzViQ9q8fwsaWZv6xzDwvyLjUbtW7kL1y81ZePj+Vz0WsT2mcFtbr9xUcq4lDPa7YLGFxSJigkDMKrComT7rYxNu2tvlyvf9PpnnXL8zl3jDAO2ECFAJLWmZ2TNqsSi3mxMT80GHcpAf//Yrod/fsfPfvHru3/rjGcdevCRi9WFBsRYmpycPvO3Tr7uy6d99Wfff9Xpa3YskiVxuc9XYITjOZ3p8fNlv9RA5YO813Jbd3KjTz/yn8OLg7fccsttt92G6Bvhkbw3DzvssBe84AWvfOUrTzvtNAAzM3O1Wg1ejlDvMyFhGDUgn2qsId97W1YALF8gMKv/RWQUAihz8Mbn2LKlAS/zPTliHMkbyg0gxEHcRAClDAU9x5sdCZDYlmimtY10ccqNU1uFxd5uW2mx5sTCBFXOapG3MzdalFOzOsAGTlUNJxA3VIYI3b6juiMdTTafuvWkLccfffSWgzatXjXU21dOjAWQOtSr9Zm52V/e99C3b73tG3fctmrn3c88uDTUlzQaqRPS6L3C0/MBCctcmAuxZP5LEbUyckQlVgGC0afCIl2JQEhkoE7VsE1sUlYlgggURJzPIIEyFQe4fYKC8pJJ8BE9ZKB5eogoQggAopihQMw+YC4P4SDfBAGt7SHgnImqFEkeeCj5IjQCBkuegzvvrRIAFqFyGU1h+9Fb58/ddtnLXvjb4xOTAMigJynVajUFNm7cCODuu++emJjcuHHjli0H1hvpxMSEtXb16lWf/vSN559/PoAvXPelE07oXajMexNmM00N8dnPPeNf/+kHu+tUMgIHQJSEYOKNIOt57sHdFSDZjycZEFjB1iiXcqk926dQXAz76NFREBq8ZEbAyPCwOL3kkksCb7d8C+vWrbvsssu2XXjBEUcc0d/XD2Bi91Sz2WRmRB8U0ffVKEJ3xVBhCrGP31Vfk9UQOVVYA5hymcUi8KCAj9aWqFpFoZCsZK6RnnyaQSJWJRiy2YOYmDnIhoYTiv3gcshUCMhQKx131tcsJsHbMTPXBFCWUxRBavXgqk5EhYiVVbMkGyFHmiF2pGygjtUqVKCWSZmZSiYdKOvPxux3d9ABxzz3wnNeetLRBw8NDQBYWKj41KC5MVXZJJs2rdu8ac1znnXiPfede/2XvvrxGz7725srzzpAp+oWEOc5IoWF+rw5rdFvRVgF4TukvcxkQQUj8/rxXjOGSMvlHqJEVUFCYpXAuhI3h5UIhIg8i1SJw4jv2UqNtUadvEiB38n/j9OPtV1gUPS0DhTrPGMUpCgrQytoXZUEYf1ly0bhyCKV0VHz6Vt2rzvgGa+79GWzc7ONer2/v39kZDhNHVRXrRr+6le/+t73vvf6668HePXqVdu2bXvPe963fv368bExAM1m0zfb398fjwMRzS9Ujjh0y/DqDTsnZg7c0FcVBZW4WBSqy/gUzlNmSWltl0mSlEo+fCJSXnVrcx/tOcUo6IGwv7/3ne/863vvvXepi4MMcdxxx11yySW/93uvXbdujUDn5xZ37Rr3rcWGwKc6kdcW5lOUrfUpV5Sz/dgX7KaoVErmzZIVWM+Fskg1SlAv8ykpEaO9/FJgSnJ5MVKcRsp5zWmJtdV6aHCN8Tx1e/J9zYVFzjsm0MSRGIJA2CQ+mf5A0kys+eIvm/fo5ktec8m2l5ydWJmcmhsf390m62dGX7t6dODjH/vYf173xcsue82557zoTa/ffuRRR7z7qn9sup3P2VrfXUmULcSVGXWyNs9xQ2Ril6X4RdoYKcDHZlGmGg38vsl0EBm/tUJ3iJUKhFn2PUs2l8TbB3D5qRarF3KeJfo2HdrRDlGSunx4UY3YyBgFeemPy1Gt3ezVKFfz5i31JPTwLP1s9+Cb//vLDLi6WFm1emRyYuryy/+vhx566Oabb/7gBz/4xje+EUC5XK7X65OTkx/60Id+8pOffPvb3xkcHAQQV6fTKJ4XQK1WW7dm9doNm3cvjB2i/b5cKNDNiJIf7AaBQLvfs3OOwGADcW0juyJdwp5aFG+La9as2bFjx1/+5f+Iz+ZSRcvJc9u2bZdccslLXnKutVyvN3fuHPNCR9fyJk9Z8sW2NDdkCnyiGSUH5ZbrZrCxFVlbzWskaYddIABefH046HcUZpO7ybR8y4KYWLgrHvZsB4B2HvRvpYhSzLRIPZ6LcImFiBw7UAnimE0/O2ft/3eHljb+1gf+6HVbtuw/OzNXqdYLDE/gk1avG/3WN2567WteA6Lp6elzXvLCycnJ551x8sjQH//pO/62t3/3yRtoqqaG2QFlZKH++bZZ2C0y0aDwLjkExh/M+NogALwKT/eirn1ZWnF8ogKA+IkmIDxWK1Q8sbrb/+P10H7cAEg133SYkOOfRIaHgILZNb7aVn4Bg0ghlLGi4Ur/24feD/biuz+bO/jYU57zjGPGJqaYSn29fVNTU5/61KduvfXWt73tbVdcccXZZ599yy237Nix83vf+95xxx0H4Oabb/7AB97v1SCtN8w5wTBoIlIuJ0Mjw9VGk9nnLS+6jHbyBEtR7C/DbHmvhk88XSkMqTXGWv6jP/qjIPFTrlvzl23YsOHtb3/7HXfc8clPfvJlL3vZYqXy8M6x6ZmZgIKxL8xT90vF/fZmQkjGAYiosSWfAMaAwnrvdOMKMhxyTU98MEOvjiMd57tRpACKlk9bDzqSxmRXR+laQASf17RFIAYliWVmYhiTGHXGJKXE2TL+7Uey5sjfufrv/uLgLZt37Ryr1moBBSMkzpKvWmB2bk7BqnTuOS8i0rSJsfFdpxy/9c1vvPxrvyjNVbU/caxCpI6K/jJRn7t4D+R/tqyDrb2OrYZIlZXqMooVKxHCz3jD6HDQzzyuOtmUDlpKslniILd7lhb90AL3nbnGKBDZHlrttDM9sbNZS8UaC1Bs02Y62zDPP/PZAIs2iBJx2tvbmySJiLzrXe/atm3bJz/5SQDVav3UU0/98pe/vHXr1vn5+WuuuebNb74yfq18d8jSrBARwInlcu9gvQnDvkajiYMIl0e+zoHycVoZxx0s53vTq+JpRRRp2DasX3vzzTf/+7//ezgbFHGnnXbaRRdddPHFF69fv14V4+O7nUhb3udcN9CuGnmqUosD8//H6M5dqmEQkZJ6bWnMgIYfTKRocwjnrJB8HCZR+B3DZBcGeimeI65O2upe8J2JmtLW4srIq3OFHXFiBGJKCbvBHv7cT9x+J734f779LU7w0I6JxLKSIKvBFndGPD80MTH53N9+zsc//nFj7UUXbts9MccGTnh8Yv53n/esn/zk3O/89F/OOba36koEojZdaEFK7uJ+3/FqFPZSpSejVsljp5UIhDkQKbM1SYmWMK56RClMxz1Z7X4ao11diTb9Rssg7Kd8uIzCD23rANqZUH+W/WvkTWWhqRr+BIASZMdkbXC/Q0869sjpmTkoZxmaVJMkqVar69ev/+QnP+mc2zU2YYyZn6d169Zt27btox/96C9/+cudO3dt3Lihzc0sSnIYHlRKelNlVhCpKFM3g+geEIPSfBsQphK4LQvXPix87BT2x77eXlV9wxveEHH36Ovr27Zt28UXX/z857+AGY1GumPHTmtt0IQHBogi2fHpRN4jg9nXexdmBidg0mA1jGchBce1/EA+SgIEXEOOf7FdMN5ScnEnPh+OE7UKgEeaT++h0gGBxddpGTuLLaC1PJUtwfnIXV3dLzf+ojFWPu7q//b7Ap0Yn+DEQAXK4OLtQYteq9dB5lWveiWRLlbSxXo9KVlDKq6ZNt05577g7++8aWJ+V6kHkKaglANeloMmH7cl5Y/Ae+Ujlg+dMUArcWb+EVccrUQg9KSqzidq3zOVTmFPp3ajYNfriQhMqsx5ncBwPEx3VrgW79ZaZt7IV3horC/1Z3N0FEQmClaoiq8bP1jCreP1dccev2ndyNiucSZSkVQl1Ax7/etfD2B8fNwYC7DPNH/iiScCmJubm56e3rhpAyK2K2yC+WQUKOqNWmKdL+qRpZ7I3Z0zCXvZUY1fs7UqrGG2cU3UffTYifKQieHhwX/4h3+4/fbb/fHDDz/8oosuevWrX71lyxYAs7PzlUqF8sLohlnag/9CROBefJcniAhGpAnK4McmZWYWZPU7A3hQNLM9kmXGer/SNRQzFWYbgZ+vlU0dtJQI2JZlraOzS45/drEEAUsBKIG1rZaqEiXEShYWAA33NH45Jj+Y2/g//vzy0cHeh8YmE0OqSGEsnBMeHh7u68syANfrzenpaT8TBvt6G07//kMf/OH3bvuds5//8m0vnZ6aV7JE6fTMzFEHrB3aeORPHn74uUe4qUbZ5PagqKvdUyt07roZc0AgUWK1ppSfMpoLCytwUq5cIESW1vmxStbU7lnnyzMhOHO2z+DOj10UtrxpoT2g3n/ekDjNN8cgzQ5KK5YoDybNUjiAHeq7az0nrl9HCkcogRxBiAHxRcKOOOIoPxTZfdFqHBwcHhoa6tzr4k2QiKpNXZibWmuR+s4DoNRnR+tY1W2D1n1AvdHbxzDx0pfto9+I/Hhu3Lj+hhtueNOb3rRx48ZLL730wgsvPOKII3xl8F27xjNTVuQX4fVpBUWoRiGhe+NVnkAiHwUfvywAPw5gIjWgNqduVs61IJzJauSziilJEHSIKBcLs+RqudVQ43RrHrf8j2UH+REYcQCIMr2BybsUFNYUEflcij22udBMPndf+XVXXHHKSUfv3DVuweVy7+DQ0PTcrKvrpo1rx8anrr/+mzsefnD16tVnnnnm/vvtPz6+2znXO7xq6v57rrziDxTYtN/6i0sXMS0oRAmaqknsiScef+O/fivVUglN15JxA/51ihkFEorYcZ+AkZlNUoCYZWoI7U1acUDoMykAgCoYRMWsPAQ48qxT9waQKdklzFQfEJrxe3CAaRPxSaCk7EEuZgZ9LK8Awu0uUqbDkyoECPqAQmVySrFihNUIw4gIE8BGjZIack1Xqjgd6O0Vv3rhAMtIkZU8Uuea8BohAIATAXDPPfcQ0UEHHbBh03omkC/6FFx4cjGalQ3ZSqUyPbn74N4eOAiTEQYbUZdhaniFWHcRBf+2zDMKhVe/ECnEEKgMcXH6D6y8vPJPLSKAmRcXKjfd9O0/+ZM//eM//sPVq1cDmJmdnw9u8d3U0UvxLk8/FASlfmUqWAlkkhAMnlczzaVB8kVxCYIQOqxZJlE//5UzCFQPiwAHFSkyZajfQIjZ5LZ+X+40FJaIzWY+IaqqShyrWHyD8FE4Y8oZqirwVWGiT8bkQMabYAbK9G8/qhx70gte+jvPnpycVlVjiY258847R4aH99tv04c//OErrrjCq0NVdd26de973/suvviS8YndLE4E5Z5SrVZbNbymNVbKZFCru6MPO/jrAxvGFyZG+1iciXnurs6uHW+UKMBRDlLxEZamLD6lJUQBzRBnxWmRVhwQtrO0Xg3y6EYtqDIKB5e8PmN//HOFyOYo15Y/Jsj8hZ2ojfEE/JRVAG04mCXDLzyaQfWmKpcG+/pdqi1eSVtMk7WlEJykqoMDAwCuv/56VX3Ws56V5N7Jinz6QYg1K2VFGOzv+dX9D05Oja8+argJMZIwUu2W5OjR7pjUzUlhHz1G8l95enr6rW996/DwYLVa9xnRKEqcTbk95mkIcntEkUghIDLMthVZ2Eq7QxSVU/AU634o2ikKOqHoZEtYjMyE8ciH9JsapEMsrSbp/GoZ0ihnPQ4ZwwEABkkDzhD1c3PHDKZ08xvOewFUG41Gf3+/tfa88877+te//p1v3/SNb9z4+te/vlQqvfjFL965c+cPfvCD8fHx7du3n3zyqVu3bk3TFCF+v52RUqVqZWHDmtGBVWsn53asHUjgis7GhT5HPoAtdwomE/sb+qBBMitR/uukFdpLP+oMteWerqudl7RqAcvDnk/owrT0l45wV33daEYeEWhC1/yluVLU325ARJpJZ/66LDutUW4Zn0NuBUNaSx1MX39/r5+pmSwLKNiYBLnwB1VxLrF2cLD/Ix/5yJ133gngda97nd8bNU+U7PJGiIwQHLS3t/zzu+/XufGNI9xw/p2MajGCYpkxDOu8MLDGmKfKLH8KkaiKalIqNZrNnbvGZ+fmvGqsM/nnf00ULEi9IqoEyfnNaES4MG+7cMc5URtpHCbRujG6Pd4rYrGpDWAezccp5qxp8/wUA0PK5TK+d1/jiFPOOu7ow8bHdxtjVNUY8+Mf3daoV9/5zndeeumlr371qyuV2uc///nvf//7V111lW/k6quv5ihDQFe1gXNucKCvZ2hkuiJJe46truPm97QwyGgxCm33MnOenXml04rrZeErGU7azmYaP4T/UdwR2vWoHV+x8xv7khRon4jRjRwe3d0eFpclCf30EmUOeD56vl2XmyVQFYUaaziz2xNRUAX7Drz//e+///77N25cv2nThjVrRv/zP//z8ssvB3DllVeeeOKJk5OTABYXq0RGRErlcpidrGwJivT2H9958CoaKKkTVvLJ7LtXHn8EyjsmqlBHXNq7ZZie3uTLqwIgIp9fem/3aEVQkNHCtEtsKbGlTBrLr/GqkcKN6OYD07k/BDhkBpjApD6euS18QkNEXdw+4HuxpLDeDVcEHVDdegwrk5aMm6nxuK55zhknKyAiIqKqhnm//fYjos997nMvfvGLP/7xjxPTrrGJxcXqlVdeed555wH40peubzQa1jKWiCUlSApik/T19qeurdx86E9BO+o3kM4hBRBtmOTj3+K3VXUrUC+KFQiEgbKZvQcMxZ7vxQUUROtjR5wdtTSTheJEpt1SqJFYGXoSB1HkQfQMgFRisPTh+Qq2idFmrdZodigaxQsB4+PjW7Zsefvb3/7hD//Ty172spe+9KUicv7551911VXz84tpmi4sVI466qirrrrq61//2tath49PTCu8o45bPTrys1/cf+/Pb3/GEYPzDW8R9FXQurB4Xf8s/GjjBoylp1HirhVC1MGziwjzUzgc/vElytUqnlSVbcI2yfTGJJ1rPP6zKwR2PeIt7o+ImrlBBYXjj/a9lMT/A7eBqMIC0m/TX483RzYfdvKRh03PTFOk4bTWqmpvb+8///M/q+rDD+8EMDc3B+CVr3wlgF//+tc7duxYpnvB8rL80OU/jN/QVNWjWixDhwFpZfUj74Ia8ygrkVacjRAI6gxhk7lLxrmqkbtcLlneiCQEgXa1o8S8TPbAPLDBhy+iFSQU8DgHzqKXDLKDvp2g0wjRgpT9aUAMOM3SJvnTqUp/wpwuzlXq3tqnYBXVbKo5Vb300ld9+cs3vPOd7/Q92bz/fr9/+ev//M//vF5vzs7NWWtnZ2ePOuqo0047BZCJ3TO1RppYn/edjLWfue6mDeWxQzfuPz4jhhPRBlNJyNGyuuXsdbJ3aY2b/zoASLxJwNd/XIks3lOUOmdsIUHMPlJt6R19rb6Ca7e2r+7ivW0ccBsREdhnzGzbJboBofepCV5p7U9Z4lt5z972Y6GqRgx+oY6Rr7BhofLAtBx2/JHDI327di0QW1XnnEsSUy6XAbzoRS9as2bNxMSktZYoC30+4IADADQajVqt1r1D2WsbCxXXrFQXR2znDMx8gjpui+ekwDsuKYiVMj9B7/afIJLgKX+7lcbWrTggDIPrMjl7iVgoJp+8bxkuJhwsrBOgyyzPGl16CcUkhKwuDHE0QwQgAXFuUJQ4vA8QEiFQpCZV4h6jQ6YxNT1XWCGaJx589atf/YlPfPwb3/jG7t1TBx64/2GHHzk0NDA3t7CwsOCZQWPt4uLiwuIiQRRcskZEVWXDxvXf+u6PfnjTF//wJeuqi8IMhWMqKVwhwqwr96ednGP7xWwTjd1F99HjQWG6hrm9jFPMf2F/mYxYAbZkEtIq0ApeCjt3vMCD3BNLfkWc6zgVnuV/L1GMaY9kHVK0CrQAcbZ6BLtPYTFCDKgiZgF9Rxx6qIMwjLQKP2V3ecxzziGKIa5UKgAGBga843F4XGE/ZCZrzdz8YnV2eksfO2qpRiOVYVCbaccpZGlg0ZInFFBVay2ZxPs9rGTtI1YgEHqfqzCrvI1Q8wC+ZWiZ6dh1oy/uMsrUcneO/UVbxcVytWBLjsyuViBPHAoiVp8rVVl96VrxOlUFwAaaF7NWFlZLaX/SnJyeVXU+2p2JfLZV37EHH3wQwFlnneWfNTe/ODY2oapsvLHa12yDKhEsUQphqA4ODlYbzas/es0ZB9MhI+WH5jNHHqDJyvLo9WwUh2p5VrjLUO/LuP1YqVA3YPmg+KdryPyeU8tRMyNWFbRqGHVRjS7Vjh/wON1M8UbxURvZn1n7HeMfo9oS5JGis86UkqJN9+VLD1JjpgYzsGHjhtFGTZTSsG/7bhJRcAr17uIqAuDuu+8moqOPPnrt2rVL9YeJVNJyz+CDux6ozE6uOaicOspzlxccbk2nO0zeRgaTmhWRQpawg8gXBln5tOJQOjBlvtSKLZWZKRjtKJcUW+WN2u4N+ussSIjaizFpSKeS27oyLg/+alESYiWkeYuGiFicF3yUSQyxxpoQ8WlqqVXPM/feBoRyi32+LH26uNzXVEi0kpojNpZ23v2jsdlK0tvDKppjm4B8DUUAY2MTu3buHhsbq1YqUDXMFAx+vlAHSEkUnJJLEtM70Pf+v/8Xnv7Vy0/fMLnQTEgIAlWAfSAjdVHxtoY0YJ7/nb8uZ6OsELC1JeWEpOWksA8FHzsVRJDlce6/IAp6njP/ixVOTdmYRJGGnRq543R8Y0GMa2sz6Et9eQn1tfWIQYbY/wPAbImMgv3W70U3bq8+oQqR7p8lk1ZV81xMrT2NAIhHwRbSxGJrpalJz/BAf0+zWXdkqU2288wQAxBJ/Z9eX3rNNdeo6otf/GIiaqattZk5qWbproTE9PWaX937ULo4tq4PTVWwQgPWavSvGyfB6u2aYXf12UYZImCQVdWMgwh+NF0/7V6lFQeEks8jvwukusS0yin+MOHKzokOZDM7nl6BVNs+c7Rmik8vGAP2pLqWD0CPj8SpuhsuOWR97/SDP/v2d25fPTSUKpOCyJCX7NSBUmTSpC/fxFkhHiIFqzomhTrHAjCrWOE1a9Z8+rqv3fiV6173O6NNkdSRCBCqzAAxYi3FIxcmffsG5JeHWYHzZx/9V6B4ZhpjTB5rG07pIwWztxccJKKsVq+PrQr/vMtMXMd7qfUSN64qXZ3Mw8HCqYLzWnsYhjDEpSiVSuVSjwgCrxz35+abbwawZs0akXSgv390dOSzn/3sV7/6VQDnnHMOcs7AK0tnZmaih1kxTRW+465frO6p9ybEUiLSXKLrvqOGg75ERnyEiEJgPRWTbq9cRnnFbWQRb6UEtqbEXEwuszQVfaazNiPEitvvfKinYIxvPx4alxD8ENFyIxmexVoslq3qYPSg1bju+i9W642hwX6IijaITL3eBFCtVgsdS0EgA1VCyjkLZmBUXQOyfuOaH/3oFx/8hw9eflbfQav6FioNR0xsc84xG5Dwgst0Ox6f4pF2W8c+2kdPJuUzucWnBqc2tGs1PHUCWJaGKUK7mEUOdTzQ3kj2q40dDlfm4KStf4U8S61HhDxqQjEKdlmPysqqEFWCA7TpD4bz3pPgtttue+tb32qt3bRx/eBg/zXXXPPyl78cwGWXXXbCCSdMTk4bY+qNhrV29erVW7cenqaSe6+ILZXmFiqTux7aOmpSFSGBGCINybmWQsH4dYiIUcx4zDZBlmtypdOKA0JPChhmVSiR2zPBK5bnlrpguScGrEIeItNpJ1d0A1om7T6MS0Q6tpEQ5qvm+ccMNXb+9AMfubZ/oM+We5RMrV4XQbncu379Ruc9wyFMShArKSEV1RTGq2kVnKaNcqm0ecPGu3794P/7d++/+AR7xiEjY/OpwjJbf3uLCegs17anlAeWMNiU6ClSY2WuCdacAAAgAElEQVQfPW2oi13aJJTlV5Ku8lbr3vY9vcVwR5xx5zXRrlJMRR12iZb815lhUDQ+GALMfbLUttfqxu57ja0xmjaqzbQO74SpraDA0MN3v/vdhx566Pnnn7///vtv374dwPbt2z/2sY8tLlbrjcbMzEx/f/83vnHTD37ww1e84hU+/hiA03TNyKo7731Ip351+KbyQsNoXmh+uY00ZyCWvCDzkGdiU6yp3v2mvUwrzlkGQPC5UFXDCbUzGkt7yhWnUTSDu2TRLH5pHxSYx07ELSBXpCAY1XPFC2sxoIJEg8caIizs7DblplBH1rh0+2n9//iV/9i0YfTSV7yoVm+Ue5Ibbrhh//3337Bhw+7dUwAkd51Q8gUHlCQlIlFS1Q3rNhiLL3zte1d/+J+et3nmnJNHH5wXAjOTqss19+r9L8gwlk4uU/AyaI1GxGWraqv29D7aR3uJsvVI3CrjoG2zdBkelPISMT44a09EH8DDVUGBpMEfNQrfKD4rXL5Eb5Yq76DNphvq6alOTk5Oz27Yb3NjYUE5yz4agP8Nb7hiYKDv3e9+9z333KOqJ5988uWXX3755ZfXao3pmRlrbaPR6OnpOeOMZ9brTR9l6F8tMb1EdN31X96YTPSWR2ZrlqEhA2rXoVjGcTF/BQaEAWMSMpYkfvkV6mi+4vYyyl1vRRUgW+5hW6yT0JViJclSeX1i/Av/ExHBQMmn4w1Xov13wGAqxNSQCBBU4Z1oF1sLOt+CiJhkqkab19grnol//MTV9z2w621/8OpDthx8yJaDndOpqSlJBUzMlK84ACIKhRXR0VXDPeXS3fc98I8f+9SDd3znstPsSQet3TGn5KDkfI798Lgsob5ojPdxZ9COfEuNIZOySfAUyZ+0j55mpNJKup+rJYrWCo9wnfdSvoYjL3Hkqbe7sKrZbwWoVawN+bawBIPbHe3aLqYsAwCUl0RHQCRVMqt7IIuTd9/38CknHjULDVxs2M2Gh4f/5m/+6i1vecvCQqWvr2/jxo3G0OTkdKPRsNYiz+C/c9d4vMWlabp505pPffk7d93ypTeeuarSsIZSR2Atanra9kwtHo9/KPnBJCIik5BJfELHFa4eXXFA6Cljrlqb9WMLQ/Go5rKWUZjiMDG2dTKGsQtl66BqbO3zfqpZdGB7Ws7AuC1BbESdoekF7L+q94/Ooqu/9enL7/31W37/0mOOPNwJmJmNgLxjvWESwBEZNmZ4aCCxyYM7J774tZu+cN3nDqSdf/GSg0Z6eWy+IWpKZJvsECt/8r4uY3MN8u0yfEduj9mnF91He4eISJFVc2djyj19IsJ5vTtVL+vJo9p92zjjdnY5emjY41twGF3zKDz7oqMSs+AdtxiBloxbX2784u5fqv42RdWwNS9COT09raqrV69eu25Dmqazc3ONet2nd3EixhDQ4uP9jc65tWvXjk9MXvOJfzlrCw330kRVS8psmFIppM1ajkXwDZJX2IrnPxjq4MsmhwiTFR1btUKB0JMqmDIT1yNSYQaHg63WqJjxocXFqKL9dsrjhLSbIlxVWZfDirjltj504R+1CWU1pJioyar+5K0vXv2p7/3kL/7yXc9/3tlnPvu0LQftP9rbQ96fVthYcWAFKnNzd9x9/80/vvN7X7+huuPnJ/VMP/vYDT19vbvmm0xkmByUlUEcckBEamHtfK/Olb/c6xHty7i9j/YuZfOYKeY18wn8mCSQGDNigESHtEfRQ4moUHqpiyqrqyGwo6RcawMBW0U9lSM3lW+46/Zf3b9z//UbpmdnQp5uyuNNAczOzooaj8eU17MzxsTBqf63iPT39yeJ+av3f2ytPHDm4atnqg0LFUNwwmSwhL/oI6Fjq3q591Nltp0p/vdEw/ck04oDwsyVypvEBMoGSAEWaOIdQ3J9h0b5igqIVRhoAjIv6NypF/FXJFFlk5t+A8BxhoUtlIwXW2i9c8F1fmNa2rQplFfSYGLVuarrKfH2Z6/95c7qV75+zc3funHTlq0HHXLI2tHVwwMDtmQqlcr0XHV8fPfYw/eP3fNzmrn/iKHm/vs15hZppk5rmsLMlFnnhZBHC3kIRBg62tNY7Fj14bN155w4UZbC+5Eb2Uf76HGizNfRT15lo045gbEMccS+MGcKFzz4l2yHol2C89jlCPxaDHG2z7CqhnT8GiJx853BGGNMQtrQzCPBA1Wk9twj1/eW6otIVZ2CHJmaMwetkp5f3/elG7/7xtdcQLNCanyyDgCZsEWk6lqdUgaJBlUWCYkFUgNOU+3p6xkcHHjfhz5x7+1f++9nD1frtRQmgTpYkCo5pdwrAl2CtiMpMN9O/VhlorKkIFKosUoWqkLwKUcV0HxrXVG04oAQ7apFhy6yi6dOfqQQS7TMXR0znjwfQ9GppdpR1c4iUMs8MXSpLc4p/81enwDJ4bZUbzo32zxwlX3j89bvWky/d9e3b73lP2zvoCT96udTY6Ek1dEenNaP4Y0pgAVXElRzJxfVJWIbCrLpHva/9dZEGnzEYdgkK42t20f/FUiVIocYEJgfDy19vOq77gBhf0BuIMxlxC59LLa8pwFgBS0LM9iQEyo713z2wea6L33p+Wc967Atmx/eOdajZQXPzk6CZGxinBSgMtR5UUzgfP4OErLEoqoEUtuA9A70rBoe+ui/fO6L1336Lb81WDKYq7MaAlgEhskQucgc2L7MWxrOFgp2bMVBVvE/M5vRng3BXqEVB4RB9eDV39YmZA0CUv3GzeYUjsRu00xBWFqSlpGfqN3EWGgfufBaiFxsXQbNPNi8fyxZp1hoYEF0w6reZ28pjc4ulsra0ClV7ckCgdU5J5xUUXYqBuTyKottfX7Et1rmfbugYyuVOYA9VFnvo330+FKQt+B3CWgqTn16wjwf4jIavPh4YU/oenF2JLo2+LHH6ysw4syx88tvvmdl24VyasDi5tLkqLXpTx5++G//18c/8t4/W7NmzezMTNp0+206UFJ94Qte0kyb5EOcvWRMBCWjrIRUnRdjHRqrh0d6e8of+N+fuv4/PvHGZ5Y2DWFmUcGJ0WaqZFiU2BF3g8BwpAvHACAKL2EiISLDJeom/K1ARFxxZp4Yn0SE2DLZQpH65Wc2lgUtRAugcyVQpP/UJa7v2ufCj9DJcFenB018AcB+dak6wIHFqDhLC01drJsaeqtqQGXivpopV1Cuordh+lJKRInJCpyvxAsgtkjn4faPIL925X+7XNM6JADcPpfRffSkU8skkft8MVtrS+1XPfLM7LoEHnFdqFAczN6xXqT7Jr+n4mDXjqaUMliZdLZqXnKMaT7wnbf9zQeUddXo6NiuiQ99+Opbf3DbZa+9bGxyStXrHUlzJaRQU9UxW5XUWrtxw0aB/u0//v83fu4jv39G3wGjdnclTQ0xOaIElOQWV+7KIhS2rza5gtovUIZ6x3IT70grM3YCK0ciDKK0/19F8pwJDLCXrPdcuOnc+jWnwtwloizddvSN/WzCEpi6FAwvf2ppEgW8C3i2lkhA1CRrRCxISRUNosSJn1RkoCoCJiJD4qAAGSJhzfTIvwHDtSe3ZI17RDe2vfLGPtpHTxJl5kEiVRXnEsAkZeR6vD2ZknuyTruyj56yhPj/h703jZEsu87EznLvfVtERu6VtfXCZlNcRFIjbkOJkma0GONNsmzJxszACyDA/mcYhv8ZBgz7h2HAfwRjbECePyPAEAR5LBvSiBhL4kjgaMTh0mxWb+yFzV6qu6uyKrfIWN+79xz/uC9evIjMrIVNtrKb+aGQ9eLFi3hL3HvOued855wTkuQH877c53PIiAqiCjBFmwX/n36Of//pL/8X/+Wd/+m/+6+uXt8pSz8eTvr9PgOCoBLO62XUMRx1bNa210Oo/vBPvvp7f/B/P6av/je/XDjj98dkOFEUUBTxyISIILpE3llQeGeY1zj32LUMBTZExtcliy9Yo/dDWwtCVIBa8/4VEZnayujUjoAPxPtoHXnq4Guv0trxwkY933vIktZB4AfnRLUOk3oHAIgBQgavQAEhIKLYODpJGevytwAaECrFeFpSLRGxSYd6cA3VHHzva8aZs1QFASV2Gnvwx36BC/zwEPlfQQQUQAIA1AUi7uv8iFDVOJrvfZr2AmiJFnDSpG7axehiQj22HLkPiNnicg4P7Ag9wKjyK8b+J581/+8zX/uv/9v//h/+/X/wKz//hd5anox5MKm0msSlmSAwsCHudHPjeDwefvkrX/vjP/2zt1781t99xP/ck3bs+aA0hgIpSWxmRQExiLIlKEHNaYmV0CoyfvKyZxkUAEoYeY1sZsUg4/IU+LwKjHOhCNuIHg8EFPEhBBEgojKobbhXZwzfB3SHLu25xxcCQOzS0Or+tcB2eRAH41loPh6HyEJAEWOqn0VEVmABZRQFAgqsFBBAieq4IiKC1vlSi+eNSvmU/MtT/Z/zjdOig6feD7G9721e4AI/XDTcOREBUSAShJOFHX7Q5Vn92SUfIEQCezNDT8iTkyebJ2C8G79oXYeFGFRArJCyPRZOyvAbn8z/1Wsv/eN/9L/8f1/5zBc/85lPffInru1sZxubhgTBqKiI7x8Pn3/p9W8+/ew3n/7O0es3nlwf/ObPdlYzezA2AdSSByDFoAJkGNQGAAICDaaVc7X0ZGDh2dY9e6MKnMlfUSRQVQ1xiakQu/ec60jKuVOEdVKqgopU1dR7L/dcYDUDDvH0vPUH9Fk0v/ESABaopEtDH1tz48FV4z3sVkVBVFBCqAQ5oImqjhgBgASVAipoqJ3yotEl4ZuC4JEy2pil70YizLV1i9qjWGfIXpBlLvDeo+55F/nhqiK+SZL7YZ+oNXkX0ozvM5ffHUctYq47FQg0MKCCC1CCEJKWkuxO5HOP2Z+86r/x+lf/+e//yz//8rXe9rX1rUudTgcCV356PDw6PNof3HonGb35kcv403877yV5f6q3xoZBCTgmP6gqkhWpDCUkpSIHUhY4qxrxkhaEWXQQdIE3RAhIs+p37wecF1k2jw6qIqpUVHodDG6PhlNrcl8NFY2CIDBFZzNhUHFgZNHgajIoojcbAFRFcakpy7zXLgIDCqJRRTrlJxOBULfUapIISVWWHbSxJb3GzcjRaikPaHlZl2aOztaa9X4lqLv40oxzLFi710mhLt/QZJTMgs8Uq56qYh1IrC9wObB/ct6etB1o0VmKuHCzhKrAQIbwwjV6gR8t6qBJfFEPNgMwVRUABvIqCAGCCiDLzKGndYtsBq0QTxdxJzOg6k6Ep/Vvio6+aHLXexBb7buX2uwhRXtWBemUhC48K9qiszY7amDWyjTOQMU6izemWgFAQDieOIfV33mCv/SE2R3cfvvwrTvPVUeeiMiypqwf6/KVJ7PNopOyPyzpzhiJjKlbneoscZpAA1JMt2BEBEVZrL84q5p2ikGv6AEA1AIEUKMoMflCgSigEgIxSoiPiGdZLz8Yj+FHivOiCBt4UBZVLIfT0ds3dyd33jAE6gMaskoVVZ7YQCwMawDL5haW9A1Re8jeP4iIZ7jyERhwnn5eD2JUrLXsydXqsn16lgY6ecx9r3DmtFxY+560Uh8WJ3Xz6Yct3u/SbLnABd4DCAQIBKwqohWX1dCT85hZIFQomawIAgAjamSXPRxUA6IBJdDYP0gAKAa95pVLMTr6pF3TOBb3qC3m+ZQ/xZt1krW3jLO9qU2/FwMhEI3EjEtmkvVcdjrGoFNWAI0hyyDkBScljjCJyvQBsSzBFE6UJo7m+MzUrjsDxxobs1sgJHRwRmee84bzpQhVlZUIcBSqMJ0cHRy8/cbrn8oS61b7x6OpzRgsqyAFCKCGfgC/80xTLuxpb5x86X2Yl2JBARBEXlKsSLpcwA3gZHm9e4x+jOGEM8jZLZwySaJefLjSimd9/6k0otnxjVWBTMQXK8ILvNdAgEACAVBwUpaHx3uDm3fDeIQWAIAkIBIAsoqAAfAA99eFNd0UAXA55DE/BnGWILDwJiJCqyl9fE9a9cnOmiMPPHfm7ewXr8oQBEVRQAGdKEwCI1ioAtFi5RZSXC67Ssu3MGvE0T6mOfuJp0EAswpfs0Y8CkQIgPP6atHpqhSV5XmvP3Xe1LUAiFewaCynmTPHVfLXbydk88vb6xh8JVOgACJEhEqy6PrDWU7ryUXYfdcu7THe3gAA7+8Xh1iy4FAeJEL+bpZTS65X1eUOg/iuwxTzE802Ws82Tr/3R8vNC3yQoIKogohCvpwO9+8Mbzz3/MFx//r166qBg6JWgBjAAIiebejrsjKrN+ol13wKE8C8FiguApbkRn1M6ywnKvWf3Nm6jiWtsyycFz8oqqixHgwoKqECQsnR89m6NRbgJfl0Ytrex0A/5YCWPGxsd4wGANU97WKDmvcJzpsiBAUCFEawidnY7DzxxJPD7GP/7HncHenly1vWJqECBK4UMFZTOYEHUDAPd9dxoItIo2KXhvKp9uM9vm3xtbQ3ltajs7fuc7o5aD4h73Pkg1xbC/Heo/8HRZltLOb7UN9/gQu8SyBpqw82gQaR8uuvTV7fM49dv2LTZBKIdAqRZ32P72lNqbMazMJpgZW21bm04MN7dUudf/we784gzVJMNSzIq/reRWJLAmBEBCBVBDWI3JS5aNRzoIerfVHfcmt7ES1CaVwOxu4ZFNrNN1RVNSy1sDjPOG+KkJACqigY59Le6tZj16995m/9ZP74Z/7kxfTGzcHORi9PnffeQojPeunzZz33+fjT5YGy5Ow4aeidPObeeCi9eOZ1PswxD1j79NQLe9BrW2ysCAAXCfUXeO+hwQuBIrBnk7h8Jb2ynmerj/3hd/mrLxxubfV6hZtWiEpGBbF8wInQQqSr0Kw1UmSsLPhXZx9vJAlHIisuzpF2WvrS3HlwLM/QmblMgAgC6LUxoDHWExWIdCGgyKkjQFZpaejTgzXtsygC1oS75QtQmFnbM6fosiBFROCoodk4AJATxTHPodg4XzFCRAQlRQs4ZYQ0TXEdiShP6flO56+eee54/M7PfXS1Pxod7R9YkwHxw3rnfoDhqHW2ADW+wYXvwDkHtf2ySWB4EOCMqnNftXSqyXlWXfJ3ifYMUI2CgVWDqrJhQr6IEV7gPUYk/QcVYrHE3c7a5SsVAJA1f/H0s7f6d/+Dz28V+fSduwfACOruGyE4q996MyVP2w8zHVmXIqskRO9Is0bEe/dpW/y2GeovPHVWRS76LOQpCkYhICLDvC+xIoIaBEVFRGm+WzBGP6NqfxdmOp7iVgUApACIJCQoseVFTaAnA8T6IxJPP1ScL0UIEONOIoQaArFNEun1emzpkzZb6eTf+PbTB0+/9isfTS9f2rm9d0hSwmlu6JOD+KGWdG00iqdxA6oqtLpcvsulPyKqRBV4ykkXIUiIJwZVUwP+Yc973z0noapISFhXXCQ990HwC3ywgMiVegYWBGToFgnCNpBj1+nm/I1vv/S7f3Hz17+w8tijl26+tSchEJ1JljnVD1SLClKYtfMDONXYrVVg/C+EEEJQwVoRzsgoD2EpNrkTZ18tEcXbibw6r4ygioJKtcdSaZYbJksKL8Y+VSOh9EGvqr321fryImOWWnxaUGz8t6TqEQGEARY4HOcc50URNu51UUUEoxiINIS4vC6wIODU2MTxXz+V/d43XvmVj/tHr6ztHwyOh1NOnFGgZsmvRjWSx04JXLdG/MJbiMu1Dxotp1T3sdV6PjQMLgL1CFahQhDRhGpyWfBCjIwgAYlBWUFQtDb34vd6w0REIiiEiOw4EMHUcwgV1x2OBOKI1miIcf3ixKOb2ZIKSgDVqc+3yeCpn/bs71mo492zmTzrziiioKpkSNkBemiySs7+qgtc4AeDnrZtABUkTgokk2WA2GNLWYKpy/7qG/S//4vX/t2fyj7z6KXdg6OjwyEnKdYUEiRlRZobmrMkK531h2k7fmpZAdxmlKoq1jU8CeqyU7GiGUFMqqvblSnBLBCDdS9cIJ3viUoLWZVYq4bsJkqEElQYYrlqI6rWGFIsgwymUxBVEEtY5KllmlZBERA8znNFlrVgC/GtljuUsFnA1eIOISr4xR+CEBDQo5r6MoEIGEgAEJVAjaAHECKjworKKmQMatOJMEZtJcrf8+ZMOi+KsEEjfJvUPVU1xmTdjAw+ajl1yXMvr//JKy98am/wyevppSw9ODz2ZJSoJomhx1M6Bt5nxdN2czdH3ovlFbNQERGCgAEAQyAq2CwWQVWCwQDEpQCDERSCgECOCNjuDaZVVTlLCRklPPDivd/pOeu602rCzNi6MFWkhqh8Buaa/ox6qg+7bLwH8zs+pYZAVP99yO+/wAUeFtE9qOphNluZOUkSAEgNG5e73D3zbO+Pv/Pqzf2Dv/1kfvVq+s7ucQAwhgBYyAiCjRprpv+amRJlzmlW8sLa8eRSEhan28JcIAUFESEi1RDjhl4ZUYkIwQNwQEJEEWRCgArVExiBgICEmFrdG46hCoQ6CsBIBnQMNJweu8Ru9bplWQJQQMPqm6Xqyau631NdutOl1C8B1FZOBWHdVmK2NiBFYK2bdgdEFEJAbhogRwaOzoyJB7mq9xLnUBEywLwyi87a0CMi5R3DaIzrriTfv9T7zndefOU7N3/5I3R5e2P34MhXYjXaG4JoZy1ksSGF6RnqYWnngjF4D9cnMmgwTCLCIIqCaJyxBGUljlRFRMgqBlJFsCReEciIIx5MdXfvMEFMM7tiDbtENSDDwMPLb40e2eJON52W87k62wjvxg+79NmHelnvnG8IkFGkEAJoAOBGF8K5jIRf4IOE6CSMGU0zXWjTlA3xFltrk/VO/tKVzW9/+4Xn39r91c+kH7m+sXv7oJoIOBDQBCSoY4RIdoxfRbHyyQ8qoNum88wUFlVSCIQAikQkEECDIDFoYq3UgNQgMZdBUOs8/QCOVZSUSC3SzbsTCdXWaqeTpdZAZGtPpmFS+Vv7g3Iarm8W46BWS6/MDxabXLj4xU/U5XVamhxIceYIjXsUGjbN7MYhygGOZFaNi2AwC2sJ1Yc2xt8rnAtFGB9nyxEXW6xoNPfiMaikWLFLegU63DGcrxbpUy+t/eHzL/y9J0Yfe2Rrrz8YHY8MqSgIeAScRfLqs7StpCYvEM8IiTdHLq0RW9+AxKw6QaSEXZDqaFxWfhwUDNoixSJPvRcBACWGIMQIYow7Hofbdw5Xe8XVjdXEUX9STkqfEW12zMZKdvdw+r07Bx/mtSzLgi/juMN7utpP5k0+yNr3odB8/5wRh6wCoAFmc/7dKOkLXOC+aIYfIupy8U9VADLs0mxlBYgeM66zliXffuH13/2rV3710/0vfXRrd++gP5ik6ATIGlKsaypGUUDE0SPaXiCevIATLxeab7feEwb2UbCIAmBQjypEJjFmXE4PD45AUFEQWYME5vUsLwrrvQdNVMtAiGwYwpt7IwB6fGcjiNza74vIwXjSzdJHN1ezhD98bf3Ftw5vHY4ubayWZUmntua5912cKC2C9Xp2RolAiU7h2ZECapCQMETPLcTAy5JHaEa7laBSdz4/13W3z4UihEYXIUIt1ufOCoyxaKgsOpBplViHsGa7xtDPJ8ULvd6Xbzx1+2j/Fz61miTJ916+JcqIy7WV5j9/XRrmzLG+tDo8lfesqkwSACw5RH3noD8txVhwzIjqq+ndid87Gu5s9FyC06kisJDPDY7H/p29wZXt3uXVzpsHwzfeujMNoX9cbq8Vj1/bdixbK1moVt7eH37oSgpnsmYWLwYXqkK0V7QLt7b4tNsvH3B12HoOosABEH3A+vmEpoTHhY/0Aj8i4Nztz6oeZ4mtMY1KwBieutxljJc4JBY7eXFjtfhnLzy/e/TOv/2ZS1knv3vn2BJ7rHi2WIkS5qT/Exo7+H40S5xF3NvzThWRADSgkBARiGEWdO/sDyspLbk8sdYBEYnX43K8e7TfmaaXVvOpCIKScGLpjf0Bgn98Z03Av/DG/uu7R1XwiGjZDUblR66uGoad9c7uwXCtLLVuVXHGcztx5W2/1xnHNI7QhiADNfUUF9L2FQXq2GFcKTICCBNbE6Mn2hK5OitBd65wXhThEqKDtPUy+hbUGIdaEihSp4s2sfaTaZJZ/s4zz9/55tu/+GSy1cve3h2g8FLx3JP6bOGH1/lhZymeSJjEWapQUOxkMBjrrb0jk1Kvm60XGTNXOkXg0oc7h6NXbx1cvbTacaasAhoQcLf299Y62XrujifVd79/+/u37hRZJ0vsCzf3jTGf/cjV/thvr3bG00l/OOrmGQCg6r1TRJrrP+XKlWKg/pSP/EBonJ+ERhRRA899zvPDCGvK3QUu8MNFa9oyQNBZnQdUABJVsqro7LTTWyVDafq5zHVc8vWnn33rz3d/4wtrj13deOvOsfhARkmxLs89kzD3OOmStmhDVQGXRYciqoRYJDuAsiKTu71/oAG21jq5JVVUJg2VAF3qrvgyvP7OQUC8ul5MxsAp3z0+lkoe21lF0FsH0zf2jlnl6qXV/tjfPRgk6VaWZYPRpJO6voPj8WS9k5XB4MPwuGMuyr1BgKA4T5oEBg4AkQdUB60U5tIWEUkhgCIyAIoGhSASn/CsYdz5C6CcO0WI87AtA8SlBjAzggUqBQm9GkNAgdAY00WTfsRgN8++/d31P7jx3Q9NjzdymIAN4qHmada9pBdNnjNrtbQH9JIBJSrNdpHaw9H05p3DnfX17a7xoqOJZ1Mx4zQEVnnk0vrtw+OD/cPOziahZkS37x6RpZ3VQlWfe2P31t3jTqfz0Uc2b+/3CdPtteJ4Ok2MVkTOmfFkurbSJdJZhtC9XB4PGILG08haD+hH1eidhjiiIaYHgWpkASDijKlL5zASfoEPElrBfiaqJ2xAphAQucKSxafWURfIcGIds81z/uazr/4fX3n7134q+VsfWb+zP4y2szQAACAASURBVByNRoiGyerpVJElUNsLOjv7snxof0AgEFEstUIqzqa7+/uEsLOzMZ1UqnqnPz0cTZ68thY0jMqQgnz46vbLtw72jifruQsa+lPZyi2IGucO+od7R4OPXl174srmG3eOVlfS4WDwzn6ys5ZUASxy8LE9gI9a+8Ql1RqrHSdqFrLty27N91g6VJuP1/tRav/TrC+kYkymkiZPURBUlBAVOQZCCbRdoPwcLgrPnSJso+0jZWZUDCpsOAQAAHSWCAkQsWfIdvL0mVdXn3m52Dr89ke7fU5Wq9KL3sNpLu2CvHgaFq9kvk1ER9Pp7p3Rta3VlTwbjUcrK+nrt+7evDv6hU9dV/VB7HA43Omlr4/L3aPRlbW09Dwqp6u9Fa8+c4lFEi0fWVv5yPbaeuYOx+XXnn/z0a2NL3z8yjTIzOGDAQQXQqf3YnI2d9FcZx2iftjo+T3R0ETLKhgKCE2RAW2yUM7hQL/ABwmt+VhvGFQxVFbBkBUDQcV6w3luyPKWMcZ18+zp7/Z+95svvbJ789c+dzUv0r27BwDA1p2iAnVWR1dJH2z1sqxRQFRJFAlDauzhYDDy/vql7bIcIRlj6I07h2/ePlrvpJfXV4ajiScB0q1OMhiNNztuf1Q5kKIohkHGxwPr6ONX16/vrPdy+6nHtp5+9dYLNw+Hpazll1KXANVd6Qlw+UbORpOQ3BASYUl3UgAVANPkOCIikGKt+RRq6TTLYsRYDkWwJg9iFAXNivkedMW/cZw7RTgPFtZjnLF+iIHUAMS8OzCCJBQgALkuFmRSlyZZara21r730tazbzz1RHhnJeuM1FTiLQCAU/Wxk7IAAVQEFsACoIqq8QRudub692v7Q1SDkNKsqjwjHfWna6t2pePGo0me2uNR9f27g/2741fePnrysbXhqGS2pWAno8NpRdQ56g+ttaudbDSavPZ2fzCtPvqhyz9xbYsdfmT10l8+/cqklDfv7G/eSp+8tgUYYuJ8vBhERQUlkbPVCzZPDAWabtGks4aZkeXMGAniADDL6UGAWVVGqckCAKTzzpxY+zmJMXhgwmAQSi+3d2/3Vje6qbE2wZnPeP7EflgD4gIXaCGK0mZ0zfxGGhtWWxMpoBa8x5oTx8gCbicpOt1ud3Nz81vPPb/3l3d+9TO9a5c2DvqjSemN44DEKrE6hyICCgEJENWdGublopp2S3U3mrl/aZYgGGl6YFhFURXIBz0aTS+tFiTVNGAvN9+/Pdg/HKcpvbl7sLmSo2EF8L7MMzOeOh+4qkaWXeLg+Ki88b3dqfeffOLS9e2VyWTiTOYSs9p1R0fjO0ejx6/mIuKMFYGApwj0GV9iIYMQGvJLq7/SgrlPUwBTJ1EgaJ1ILABBxRFQrGsDGJMsQTUQGQUhRFEiUEQNgMELSgB0akC1YnSCgjqvWndOBMW5U4SnolkaRi8cEYVQp1hg4JBwx3pnOXVJ1jneWV+9sb7z9LP/8tH+q493q4ktysobDIDRbFEUVDUCCuht3VcwiSOk5fGoWb+IqAJERAAiQoZRYTSeWjabK9l0okxiOfnWq28e9IerPfvCG7d6vWS9k1dVVXrJ02xYjkvvfRWQKbN0Z1J965W3DMFnP3FtvZtNptO7x8PVIu1lZlgJqhiEqoQ04RAqajFQEE7U7FsGqdYZu3Fsxk8CYhx2MReYkEDbpKE5v5nIsIIABAQEiRJHNRYE8B4IDaKgy7PhOLz5yht6vbKXNpktUZOAW4uJixXhBd4bzObs3HgVEWPMzCkXkHO2pjDUSR/v9XrXt7p/fePlf/RnL/47n85+9uPbh8PpYDCwwECEgjRLllNVRFUIRE4FgU8Jmiw5SBcUCYggIIhjs3c0cJaLLBlNysza4ah87fZdNNix3bePpjuHR9c31gelRzXWARmcTismg6CM5u7RcPd48silLhHtH5dZ6l67ve8AEHF9Pdte7x4NSi+6nhmUYIhPbdO2fG0tv1E7TDhbsTEiBuC4Fo7HEcZ7Z1BGRNGApAoQKUuqypyIeEInqoRAwmqS4WAy6fc7JqAJKEaxaVB17uij510RNo5BREYEkTq7LmpERATyCkwEIEq5AUK29FP4SJb84vdfvHR055sfXznsFZ3BFECFAAMCoRADigEg4QAEGB3aTWK4Ks6aj6kq8ow9RYiohvnweCKxrARwZvjO8bCahI1uUUk1DfDW7cPt7kqJU0RWUFQQEWVGCESmPykF9JHL2wj81As3r2ytvXZ7/6A/LUWfuLr6+LXt2weDINDp5DBzJmgdrK6d8gvPZ9HvqRBt0pbLF2L6Tk1yQapzXrEukdMoWlANqkFiSDU+cwAFYAKDhJwZUGIJvsTRYP/u8NBc3Zqueu/b1xNDhj+83/8CFzgT2Irt1RR9iNyZ+btgwAQgyn1hE2tWyVmbpIV76pni/7nx/Ju7N3/1C9uXtzZ3948AFMkrIiHZejFEihgEiOa00Ae/PI1LH8RSJEttVVWIyAbvHIwurRWHx5NxWTrVO3ujy2tdAlaUEFQCoBMZigFU8M651IqKf+du/5XxweZaemt/NBh7Vf3pD6+tFtlLN+8yUpbwxAcTI3ith3PycS3t0Rb/YDZzRZW4rtNWZ0Eo+qgwMdbtAkDl2H0CUQEFBJGcqCIFQUSU1NHtw30wt8xGkmXMyIAg4ikSUM+Zz+hcK8ImvxAWrBVZSNIUBxy8iE2MqTxnOSM5YmtotZN996Xe11//5ifK21urnQPloEIARMb70hkBUQLEhTguwGJUua4rCHVJz3jSKkiamqAYHQJHg6MPba+/vnu0P5HC6sFgcjweuYQ1yDRALDuEWnkJ3vuNlXyjcAf7R7v7B8dTPRpXx6Pxrf3B6kr+sUc2LOndwdgZToytykk8fetqls09jJTRmrQlZ03TebZ7UyK19iiFxqcal9oai0YgGWMMK4Ko98PJYDDcPRxNBiPaH/vjytne1ZXHV5xL22qvnbV5gQv8qNHOP27mSLsiVdyBDB6CVQukjGQtO5M4tBur2befeeHmP9/9zZ/pfejyxu7Bcem9tU5FAgOjkoJRIsIAntDC4lrqvtcGEgi4EkVERyhgEKvjUQlkenlyc7fPjg3ptJTSCyKjhBBAIVjOFcrSqw/w2Hb3eLT20pu7AM4Ys7mWAohhfeTSxqVVd+dwNBn7Kzsr0yoAGDldu9wrgQ9bGcBz4YDxGdbO3pkVQCoY2+QRgc6Yg6CAxEhkUYjBmESl0nI86U/vDG8ndGe92HQu5ZmqEVB+sMSw9xLnWhFCy4O8FB6fF0MiQTTkMah4MkxVbgo0dgM5s6aTmRfW1p5+7muP733vWpeMWfUCLohFUlUlgxpbKwdz2liJnsalZk+qimScUghqGAflBICOyunhaOyMCYo1l0eJDR2NJqpqibsp3TqC45Hf7mTXrmzdeOnNlTzrpnTt0uqtfcwS/vjjl9c7K2/ePqyq6vrlXlmWoEhkoA5r36N+IAAAw8nygAAABNxUxq7bR9TveyYSRUQkRGY0hpDUBu+9n0wmh4eTw0F1OIbDiTkcy1jTkjfArudFt7i2c2lrY2OjWFnpOecaxRqX0A/6017gAu8aDaWgPfSjYVuLdSolGLTky8oZS0SMBthsG2PSrNfNnnr2ld/5yuu/9unhFz9+5XDsp+OJcYwAoAQkQhKQ4zQ8ibP14oxCqTUBvtHWCHr3aDiYVAREIBUCOsOAQasksXf7YwBwxKud7NbecX/sV3N+5PLWZFxleZoZc/3yap7nmYHrmyt9X71x53BndcUZLiukexY6XHKNtvbUgqW5FwFFCA11oG7woxD7rqEIkBFBImZCpsoaRBUN4+m0OhiV/QEcDad7JVXcXX3U7qBoiAV3It2GVQno3PUxPe+K8FTMfkhWVdTgVdEKBnFEITjvJ6kj6naMs5is5Ma8WvzSS89vDW7/9eceHXczV4UQi1dbCgiMCk4x8Pybl05kDROBIoEgYCAiFe/VGSSv4oy92997Z+84dQkBDIJupM5ZRg2IZlr5xFkR6eQpHY12+/3ulY3HNldy96GMschNJ006WZI62uwVN28d3TkaXt9ZjcQTai2FT02faPyiqHW/UESsw4pKWFc5ijFtAVUAVqyzHQw7y0igoL6aTofD8nhSjcbV7YEcjfxx5aaaVbgWbOqKXm9zbbu3st4psiwt8jSxJsuyNE1t4qy158qyu8CPJ9reI5iRJxERtECpFKfG2RACo2DimJFBLZskS7t58fSLvd/79kv7w7d+7Weujt3q4XEfDCKqRVQ1BEwSYFEX3tPxKACIIIokAI5QRMoAqdWgWCTcH/uD49F6ngTSaTXtpiZJ7WTkJ6KTiawUqfdlarDrslv7B0Wy1THy2Y89jqjGmMl0dGWtkydwXPqbb++vdzurXTeeRsKEAJiTc3Hm/TklkAkARNDmoeucO0NxsYgaEJWUgJmIDHnDiCp+MpxWvj8Nd4784bA6HNNhsOPAHjOwO92N65eu7WysZ6vd3FrbWBJ6XqusvW8UoTajuw5r1b+eKlhCESbmEAJzQEw8SkKeiBgpMdeSzBXFF258i/712995YjrcubSze3AcNI5VQGQPHvT0di0B0NLS6CFELUNgg1WpqTGIMJr4bpaFIOVktH1lI0vspCwn0wASVrsrU18R4OWN9dfeuvPaO3uP7qxur+alryRoKbzewWlVffe12+NpeX1rteNwGNDEEwZhRFSgVtexJdR23NLwQo+IBCGW+LZsDKFhUtVQTauq6h9N+6Pq4Lg8HEN/AkcljyGpqMvJusvz7vb6ZqfT7aSdPEsTm6dJYtGaghJmaxJObGIQdUaTaRubZ3a9ucAFfqRoyfNIIBBVJQjeMosTHwiQAgYjAU0KKRgwds2yybJkrVv85Y1ndg+//5tfunzt8ubuXr8UDYocywcamnEGFtgxMxKpqBKcWHVpTCNHZJVJWW320uF4ahJ3aTW/fTQaB5lMqyTJHt/slF5ckr11cEQoq0UyrKZU4sZqNt0vX3r77tWNldwFhFICgxoN07f3fH8cNrqdjdXOaDpljG5Ko1ohnqmwT/VGqsa+TvWtEaipa8eQMWQsIAmKhFD66WQ0qQ5H1f5xdTDSg7EOvRupm2qXkk6a9/KV3qWVfKVT9Lr5apGnnSLJ0m6RJ1k66yBAAEDn0m5+3yhCWEwYb35RZg5BkYE1EFnv6x/bCztUImKTMtsk62ZpcuPG5h9863tffPL2Jx7tlYFGkymBV1BhZ87Iz0NEUEHUmn2sJCJZnk4nJQCoohd98vLGwXG1dzg0Fj58devxq2uVVKq4e/dwZS0nVEWuQsgdXd1evTs8fu3OgBVcggTofSxBhEHh6s5mYaGcgqU6/tmOj8bT3cP3GHN3mNESIykRICiU00kZ9sfTg0HVn8qo5JGnstLjkqaae7uF6Wq60e108508Kzp5kZg0TS07a9lYMkjGpWSsMQaJLAckZ4wDRGJgnBkoiIjQFhMXHtILvPdoB8IB6oocDsSjQYsaBIhRfPThWy4sWmuyLEmKosi7nW9965n/7Su7v/yJ8Wc/vOkDHI4qBGSGuoPQiWobZ/tCRIAYNQBPQrW+0nlr//h4OM4SO5lWj2ytTHy1fzwtrHnsynrRMb6C24djKf32xqr3HlEBXAjh2sbK3aPR3cF0LQOvgSEwcxn8pNStVbeapqPKAzKoADGpCtpZgskpnq2lv1gzHmKpVTQGDQEToYoP01BW+8fV4VCOpzwsYeRh6GE0lWHIA62hXXHdotvtbnby1U7e7aRJkXRcbpzLkoQdJ2nHsrMW2RIZC4SzIm0eUUEZUM5VmPD9pAjbmKcbiiEK0f2uqpE2jYgYMAAiCrMY20kSm6bpWlF856XNf3rj2VffevvvfWZ7rbdycDxydaaAaN30EgXBEgEKqlUNCqjKBjCgBEQU2ciz1wbjt/eOr2+vjkajbif9/MeuvH3rIMuyx3ZWrLXHw+nN23srK53VTuHLaUBk5cm0yrPk0Tw9HAzHk2kIDKSo5IxdKVyWmhDCeKqzRRXFd+v7VUUM0Wiry0oBxmISQAQABqrMUNfCsBoP++OjoT+Y6P6oOhzR2NNAkil0wRY2LfI8zzY6a0XRLfJukaeJTaxhg9ZaZmayyHWOSgQiMvMscSUuAZUIEVAhvgW1O2gmhhrCwgUu8F5CZylDjYdUFVWVKahSZP4jMmIcz14oYWuM46TIbVJcWut9+9lX/snXvvvC66/+Rz97/cpGd/fgWAEUXDSCGauADhBsi6AjipbBUa1XIPaCVwnKgKAarOOtleKd3aOdyxsrDkqBjz62XU3L3HGSJAfHk7sH+4bw8vYaaii9IFnV4EGD1/WVogdYVhWoQUQC7aXp9iqLDxMf+SyihIQhxI67KhqpnIpUrw4V6h7aCsgKxASIagwDSkqIqiFUw8H07rA8HOvdYTgYhYHPhh7Hkqrt2iTPsqxYLbp5/kgv7xRFlmVZ4pxz1lrnHFsTwczxb5QYRCaGRQkQUREV0QAQoMA5M5ffr4qwAdKsydWMRAMtq0dEQggAgBkCoSJ8weDOeucbT3/3ra98/9///OTRqzv7/bGCeDIOBMCpCoEHcWjmKTaN5VLzi0W21jvvvHP0fTm4tLYCIhtFsvPR6wFp2B++fTDqj8Zbq8VWrxiXZVBiDAiCjFU1JqK1brq+UqiqojCSqoagZemBEJAhhvQCIquiFxQlBFIFQGQSQCIkNQigIlVZTauqqg5H4t86vOVv7g6rfmlGIQ1ckMtM2iuKYmels9LJitwlzjibWmvJWGutISaCRufB7GU0GJc2Tv3bPB9EbMhpF1rwAn+zaGcVzVaHAWZpVwABgJi57e3ENWDmLLFbG72nnnnp7T967R/+3OUnP7Rz5+BItRJIiVSIWWMnHLIIYVa6rDEZW5dgiIKIENpppd0iAezeuXswyLLMcmrQGHM0CqPDw+m0StNsa8WBhtLHspAyy2PAMgiAWEMps6qKCABNKxVQggqR40qLVEFBiUgNggoItVau0XhNiQ0xk6JWVVUNjvxgUu0NoT8OB1M6nJhBRR4zdB2bdvKVdL2Tra10O7nLkzRJEpsm1lrrcmstMxpiYwwyEVFUe4253ABA4rO55+r5XOB9rwhhrqVqT8gpPaZbMt1a++Ek7Rb26892fvevn/+Nn3r9Ux975O5AytIjAmJANAigKKxWEUlB510olIhAIYSQOffIlbVbe0dv391zzOwsKoYQpkEM6KNba2lix9UU4/pODZAGVSCLgN4DaQCQQOKBqO4iTDjPhScw3qs6tJbYoaTRLytBqoH3MKlkEnikZkx5SeveJLC5eTvJaNzhLOvt9C51O53M5WmSpNZaa03ijDGGmBnIIBO3BigRAWHktsV8yvaAXhrcS9qxVdqNm9/jQg1e4G8cjS5syYfQelm/NVeEBQJhYq1J3Ho3+Vc3ur/9lVd+qyy/+LHrd4ZSTqfiySQoiAwCAJWS5ZiDNM9Nap1fVJERBUSBfFXlqdky64f942Pvx8QKQVUN66X1TmpwGIgkECHFQp2AgIKoCDZm/oYQZicSAEEws3kmABgIAYAxCAAREBIRWCZGYNIgZSjD8dgfjsPh2O+P4GCCx5UrQ1ZiQjZ1eSe/1LnaLVY7eSd3aeqMzdI0TV3CbNk4ay0TEBFzyxTm+caSPGksg0ZQzB7LXGicK7zvFeGppl987iLzGtnzJR0RM7K1fyfPv/N85/986qk391/6Nz73hE/dcFAFVIKKNUFAUY8EiKeUIgygOi3B4qM768Px9GhSiiBAYOZLnTxLjYaq9CBgSGO/TQGJHeYlJi6GGakalUBEEJhj+T5gIkQmcpZ9kYRBNZkMjsej6VBxUPGUV4UTbzta9Eynl3Z6q51uUXS7WZomJrEmSa01iXOODBtjHDEQIZt6ydfE/GlhVbek5+69p2XxAbOFlnD54dY1vcAF3g205RwCgPa6EIAQ/YIijOPZuB1DaZJnnezpZ9Pf+fPnXrvzwr/3xSc1LQ6OhhoQDAMAggQkEU9szzi5ABgBABBCRTShCtbi9e1OVYXglRgS61S1FB0GZPVMCgBBGNDEEosx+oAUqSY4C8OrIqHW6Q08m9JEZBkZPAGI+GkZDib+YCR7Q+2Pw/7UTgJOJK1ojV1RFN1ut8iLZDVP8zxP07TIMmutMcY4Z4yzFB2cDAxIMfGDLVklndnNc/lwD1v5pPQ4h1oQPgCKEGKKCwDM+Ugc88RPrNMBERmJkZgTa7PPfypxmfsXz9545+DFX//Z69ubm3cPpwioEACJEFQIuKUAWhRkRVHBiQfj+ErWBSXhgEFCCN6DCBKBVREEIVZVAohlmlhVKVbjE0RCQCJkg5YIQUErqSbTaXU88XsD35+Y2wd+Fx7TpKNp1xVrdmWtlxfdIiuSJEtdmjrnnE2cNWApNcYhojE0U3JmNiJrJh0AMDMQglIc39QaoogY1XO8zbaObG8vbTQ/BOKFErzAOUVLFwoAxJK6S+MZEckEy1007Fya2yxN0y/feO7N3ef+41987PKl7d3DEQoiiahlRCGLZzA+EFkkIJMGtEwhiDKJD+OAQAjMSjTynpFEhOsEPlIgQCAMBKIxnqceAZVwVgoREMmAogEDwkSWCEFCKIdjfzAp7wyhPwxHExqGZOTtWI1yx2bdfDVdKbLr3byTpXmRFmlm08Q5Z2xi2TCztbZexxlLsYrALJhKoEiKMXRyij28oP+g5SuGliESZUvzW5w3ZfhBUITQZipik2IR9WOIPe6bwYoc/5FlMrT+6Y/Sei9/+umXf+dPX/n1n+5/8iPX+lM7mVaIhDovMIhNWHw25knJgyojC0+lUiSuQFgBjapS7MWFAoSoirF6p6pjtqzMyIQGVMSHUFZVOO6XxyPpj8PBBA5LHlY49onnTUy6yVZ+6SfWOlmRWdvNZ65Oa40xjmOA2ioyMhhiIlJFY4xiXHnqzBrgZizG0ThfGs4DJ/WTbO9vP94Tf5cSJ87d4L7Ajw/wDObF0k6cxwsXhHisXQwAiMwJERo2E2T4aYvrvfRff/vl//mfvvr3f+7wS59+4mhijvtD41RYTdBY335BSgBAXWsQRBWRNQQi42NlbiURIFIVzwQiPuZD12oDRGN9QwQUBQJFCxSY0ZAygWEk1VD5UE0H03A4kaNxOJ7o4cQcTc3YpxNO2OQu6aWdbLWbPdIrukWSp1mROOdS42biw1oiYrZEMnMW1aZz5JEiuignEWP6FsZKkyf136k7l95ty4rzKSg+IIpwCfE3iIHCup/fbKR6ChTQOALCnHJkTl2ysVJ858WN33/q+ZfvvvZLn76y2VvZH5WoitqsqJbjvYJglINOARBg1hYjEJIEpADAKASIoNYgIjCRiNdqOp6Mh6UMJjiY8CTgxOvA48AnUyzU5GyydL3T6RSXi7zX7WQpJc4krjDGsQVjjCNLREBm5nbQ2miL691a68elHjeRv6YOGiISxNAFIGKzTIw6svlsczC0bIj2Ye09caMZ3Oe52coFPsA4Sxe2jmgGJVPdZDs01XHrN8ljYHWmMGwYnbFFWqyvrn3j2bV//NXvvfzWi7/6pUcubff2DobkPRkHeDoThIhEBGOhfzKgSooea3Z1rP6rCoisCDPDXRARkIjJIBgEImSdBoWyksNp6I/0uKJxRRMPk4D9yo1DEihjl3OWd7bz7U6x3i1carMsy1LnnLE2sSYxxjFj/ItMRFEOMCIj0wlaQLSe7UwjIgFHwxoIGZfXeSc3cMabo6b+V33X59IrCgAfSEWIC7lEAIDt3yNyRzkIGRRi4sQmaZpnK93V7+9c+urTN978yuv/4Ge2t3e2Dgco4u9Rpi/gPM8dlRQIjEc0jsgQECpJWZblYKj9sT+eyP4wHE3NILixFh4zsoVJ8zzP06zYWVnpdZI8s1mSOueMMcZZy4YNWqoXfARo0ADX1R9mY1dj1YboUlEERmq0oM7Kxjf3Xm+gkhpCjFNiMTtq4X7rmTHnz87XiHHHyZF9oQIv8DeF++vCeNh8zNc+/5neQhYQACLxYlIsmJIkKbKiu7q28vL3tv/0m89+b+/F//yXrz967drt4yp4zzzvtAcnivoyKCKJACEQBkWOra2paeqAiCCMYCyjIpOi+hDCpJS7E+iXejCG4USPSh74pIRc2NkkzbIs7fTWutkTK528SNPUpYlNXJYkibVJ5MQZY6LSY2YgpdiZILp5CBEZYqpxQGbWyAGiqPYQMfYddPNuBCgEBpEb7QhtLn1bwNb7l4+B8y0ZPoCKsG6zNX/o86fPzCioqAGVA89+KktUOLTW8epK9o2nOr/95Wd/83Ojz/7kY0c+KUtvkYEUkSPVE8AAeEViBFIkIuVgCRhUg0yr8XBSHY2q44n0p7Q/4X5pp9AtMUvSju0URWdls1t08qSTm8xZmxQxF6dJxKEWavuKF4KdeCL82TLETrXOTrHgoPWUZi5Qam0vAE80J21m/nke3Bf48cEDLjXatYtjFdC4FIOZQ0WQAb0GMAAS/UEMyCvGOMNus9f56tdv/I9/8Mp/9guDX/jpDx1O03JYihNBAkQCASAFioXwBQIAGEACBEVFYPWIDArEZEgMBkZVVe9lfCyD0u+PdH8Mh6UZhmQUbECr3EmSpFjPdrqdTicv8jTPkig30jSNmXyN3Ij0lkZE1FLihPRYgIkCwSyJkfhAolGNiACNtGRclB4R0RxfkgbY8oKe27VgxAdQEUa06IuRQzMrPD3L9UbESCutf3vCDm9YU2Sfx288n/2Tbzx3886z/+bP/ESn1z0aeBAFECE2FGvJp8QVQAjel2U5Og79Ke4NoD8KR6WZiBlDx3Nhkk7Wzbrd4mqn0ynSNE1jNk6S2DivjHFE0AzfJlbXpibDYvrHfTXfWRtLfxvgiWjfiXcvcIEPIFpjm5u0q6ZXwwmVYJwRlyZ/T2ighAAACetJREFU17mvP935X//8u99/5+nf+KWPZZsrB/0SQJgIDcZahwQaNFCMNQAQBkQkw4rstFRVL9VwVPXHejDGvQn1K+r7pAxZoJRsJ0nzbqez1Uk7RdrNUpemaZqmeWatdS41xlhrDaExTXxkzgAnougxOktiLImONg9g+ZZbL5ceSPsBznae8tb7CB9YRQjLtYbm9BlorXsaAwoRLVWGE8Crn/+0+d7a2l/cePa1P3r2P/z5Rx599PrkKMkcSjlS5XE57I/93aHvj+FwwsdVMglJhYk3Gaed7nZ3pciuFp0ic3nisjxJkzxWXnDGMrOdlV1QnBtrJ0ftPcYxPICqO6nz2kMcAO5RFPR9N4gvcIGHxRlLQ6VFWiTMZpMjHEF306TGuC8ZeGGz90ffeebVO8/+1q88+qHHHzkc4QRK1oSBtXY9GqtqEZS9aiinctiH/tTvDWEwxX5lBz6fqhNKTJIneWetk+Z51imyIndFmiR5liSJdambcVuYmdBYZkRkssILgb37qr1T5cbS9klxgSc031ly4/0uND7IijCiXZYeawbNKen2qoro0pzAANOlLMl7K9mNG2u/82cv/VufGlB1/N23+0dDHU1c38sIi0oztYnJusVqd7NbrORplttOJ0+NtWnibMrWMLM1ZNi17DXTjNo667Wu9Ve7Jc8avnDPQdzeiGhtL3M72w/n5PDVc+/EuMAFfojQhZAhQKtAVUTcL4hpzly5VQDD1/M831jpfO3pF/+H/+uV3/r5/s998ROIZt9q6oCxBDDD8fhg7I8mejzFowkcVjzyTrVXuo5xNutmvSLvFUWnSLpFlqbOudylaYySxEBJ4+psr/awjt6hpQVn5r0130kxcpZggVbnVzihDnExC7AtPd7vQuODrwgbLA53gFaenIg4Z7yXgJRZ4oLJmsesWyuKZ15d++MXXwhj25cdtoUpsqRYuZynK908L9Issy4xiXUzdpYxxiCiIWKyRKRUp+KgStyoHRfQuD15Kf+mudpTxzQs6ry4vUTUxBlr66Seax0wx/t9EF/gAu8SrRnBiHXyQ3v2ATKQNwgpZMzW2IxtttpJvvns6m//+bP96rlPXMlffvPOm7sHR1Mee3cwNWNJS8yAc5dk6Wq62c17Rd4r8jRNXeaSJEkSm6a5sykzG1en8TGzoSZQwvMMKJ5JhsgiaEkImImyk8m+sChJmpvFMwzi1pFn9Gf9ACm/NnBv72AymRDbU1v8fGDQ/tmj2ogBwsifjtU+g3rwEkIIKt577/1oMBwPh7t7/aPRsSV2DGnmjE2cRWsKYwgRjTF1CiooMQDW2/WAYoK6+tFCcc5Zwqk0GX5wwkBbykiFZVW3tHGKy+IsRQgfrEF8gQu8SyzJhxlCLO8pIhogaOklaICyLKvgy8l00B8eHBy8+Oobt7/3AsvhwShM0BFnNknzbr5edLp5ludpkSWJdS5NOEtSa4xxxhjDrmG41MbyXCYgMWDs4ReVIM7YAzArbYgLevq+Oq8tCmZ7uP1y4WmcsK3nD+eH9cTPDYL3RVH8uKwIaypp/LsY453TZ5SAAngkDcxobZIaO+4WK+s972Pz24DGkgrQjGQ8I7YAEEEs4MKRKhWHYJ3qBwBoZ6VbaoNrdhkLTtpT1d5su73Ik9a7dfk+bHk2lm58CYgI5zel5wIXeK8xDxkuhlFiliEiKoiIYyxjvRUr3jmXWFd0bK/Xe/PS+u7d42uszlKWpGlm6mQGx8YYaxJkYjTMTCam/TZRPY3TN67/4hyPxAWAuZxpQeOFNSzNszRfg5nCk2b7VPt4eWcUJqc+q8UUkR/wiZ8z/LgowgiNTXUXjJ36hySuSE0IbAz4wISK6AWTTFhdEkIVFFBBxSMlIBib/zWJNdEzEcc0alPbrC5jDfUAbdenpiUVWF9G1Mq0UH2hoSw38U7VZZ8+4LxTRvt+T38OqnjGMWeN6wu1eYEfHzTCoZmeQuhExbugQQ2CN1aB8oKtM3aY5skjV0sRDxwYnLUJ1SWqZ/4eisUd4zYpwpwoB3WgpO4OT8r1SW1bLMCDkQO0FhDx6ttqbzk/uD6++eBDP5xFS/2Mg98vcuPHSxECgDQrofpnZMToDEEFZQYRMiCqIMhEqmpFhJlnrlQ706NN3sycd7o0UqEepqdU6VzSf7CoCwEA6TRXJ8wUXtte+4FKFp2pIx/+qy5wgQ8MFsc/Ud3KJsRub2RYEYygGFG2GAKTNaabJJnv+FZyLTeRppPCYYkTcJZkaOub9luzK4MlHsCCMDkpPX7EtID3u9z4sVOEZ6EZRtGIi2O6WTs2xQDbO5sPLg3TpWG9pBeXTtd6uViOb9F1edKCu8AFLvAjRWuSLrRwipM6Ogaj75SZnXOt4OICtXJJILQV4UnNd5a5fJrEgNa7jeaTUxd/F3Lj3vhxV4Q4j64xgCLK/9/e3S2nCkNhAE1s3/+NhXMREgMhap2e0ele6woFq50J+Qj5Ya0PWC8FqBT0Q+HuP942nsm8swPOR2cdyj3wLiW/2hNJc51wtVTtZTl+nKCVuiriTuCN9UO/Vue+JpnNA54ujsEdoYOwn2LYxeG2Bk1tpV0PV3l9i3As023vcAU37abujql718v6pwfxwufruuRvM+77+iHnnPNXzsu6XtOWf63b/jacbVZXjAk3bpRBMelu1dHvMg/4NaGDMO0XmOg2S2kuJ8C0OZh2n20dgUv3Zv1zdXjL6YfHH5OyFIT3ayvLd6NJv9vMinJqXy6XUld018q5PWvhTmvvUEXsv/lRw+6JMXE8L3oQjsrjwVJKOfc3To/TEurBub+3eXjZvTkfVgV8tpxzqsmWt9z6Lq3AZVlyTut6O+vbyizlgKEfZDeIpm5P1ztM9+OQXyIIN7OrqvFKLW13S651164LUPce/D23Lo8u6nLOKS0pLX1zsCbcJZ109uf2mLPTi+ZuV/3e//HPMBCEZ7qS2LUDHyzaOVuL4cWfMHnfiQHvUtYYa7eI6sC6XKZg7Q7bkvL2fJs693dN6TLeXprVGz+tB9QbrxGE57q+w7YQ0eGAr+PxL83ne/gDgA+R9/N30+TBnN32Vku04FtLK3CIvd8639UbrxGEAC/66R0gQfWZBOEDCi4wo374G857awEgCEEIQGiCEIDQBCEAoQlCAEIThACEJggBCE0QAhCaIAQgNEEIQGiCEIDQBCEAoQlCAEIThACEJggBCE0QAhCaIAQgNEEIQGiCEIDQBCEAoQlCAEIThACEJggBCE0QAhCaIAQgNEEIQGiCEIDQBCEAoQlCAEIThACEJggBCE0QAhCaIAQgNEEIQGiCEIDQBCEAoQlCAEIThACEJggBCE0QAhCaIAQgNEEIQGiCEIDQBCEAoQlCAEIThACEJggBCO0fYfb27qsM1UsAAAAASUVORK5CYII=)\n"
      ],
      "metadata": {
        "id": "kmyrXiq-XbVi"
      }
    },
    {
      "cell_type": "markdown",
      "source": [
        "***Assignment***\n",
        "\n",
        "**In Python, assignment can be done by writing the variable name followed by the value separated by an equal = symbol. The skeleton or pseudo-code is**\n",
        "\n"
      ],
      "metadata": {
        "id": "I2xlwhbCX8Yu"
      }
    },
    {
      "cell_type": "code",
      "source": [
        "  #  “Variable name” = “ value or information ”"
      ],
      "metadata": {
        "id": "iKcoNmi6S5gk"
      },
      "execution_count": 30,
      "outputs": []
    },
    {
      "cell_type": "code",
      "source": [
        "# assign the value 299792458 to the variable speed_of_light\n",
        "\n",
        "\n",
        "speed_of_light = 299792458\n",
        "\n",
        "print(speed_of_light)"
      ],
      "metadata": {
        "colab": {
          "base_uri": "https://localhost:8080/"
        },
        "id": "Vo7cW94HS5kM",
        "outputId": "bd13a40c-616a-42c8-cf0b-d129823361b2"
      },
      "execution_count": 33,
      "outputs": [
        {
          "output_type": "stream",
          "name": "stdout",
          "text": [
            "299792458\n"
          ]
        }
      ]
    },
    {
      "cell_type": "code",
      "source": [
        ""
      ],
      "metadata": {
        "id": "DrGz1sV7S5nS"
      },
      "execution_count": null,
      "outputs": []
    },
    {
      "cell_type": "code",
      "source": [
        " # assign a decimal number 3.14 to the variable pi\n",
        "pi = 3.14\n",
        "print(pi)\n",
        "3.14\n",
        "\n",
        " # assign a string\n",
        "fav_lang = \"python\"\n",
        "print(fav_lang)\n",
        "'python'"
      ],
      "metadata": {
        "colab": {
          "base_uri": "https://localhost:8080/",
          "height": 70
        },
        "id": "tKFtlN5fYjtm",
        "outputId": "474f4487-6895-4427-cacd-4f6b8dc33de2"
      },
      "execution_count": 35,
      "outputs": [
        {
          "output_type": "stream",
          "name": "stdout",
          "text": [
            "3.14\n",
            "python\n"
          ]
        },
        {
          "output_type": "execute_result",
          "data": {
            "text/plain": [
              "'python'"
            ],
            "application/vnd.google.colaboratory.intrinsic+json": {
              "type": "string"
            }
          },
          "metadata": {},
          "execution_count": 35
        }
      ]
    },
    {
      "cell_type": "markdown",
      "source": [
        "***Multiple words Assignment only works when the variable is a single word.***\n",
        "\n",
        ">>> multiple word = \"multiple word\"\n",
        "  File \"<stdin>\", line 1\n",
        "    multiple word = \"multiple word\"\n",
        "                ^\n",
        "SyntaxError: invalid syntax\n"
      ],
      "metadata": {
        "id": "RNYVDUogY-zk"
      }
    },
    {
      "cell_type": "code",
      "source": [
        "\n",
        "\n",
        "# So, if you want to have more than one word in the name, the convention is to use underscore \"_\" in the name.\n",
        "\n",
        "\n",
        "multiple_word = \"multiple word\" # note the variable name has an underscore _\n",
        "\n",
        "\n",
        "print(multiple_word)\n"
      ],
      "metadata": {
        "colab": {
          "base_uri": "https://localhost:8080/"
        },
        "id": "ja2fSRCMS5qm",
        "outputId": "1a6c28de-1caf-4c6d-dca2-adafca815740"
      },
      "execution_count": 41,
      "outputs": [
        {
          "output_type": "stream",
          "name": "stdout",
          "text": [
            "multiple word\n"
          ]
        }
      ]
    },
    {
      "cell_type": "markdown",
      "source": [
        " **Do not start with a number**\n",
        "\n",
        "**You cannot start a variable name with a number. The rest of the variable name can contain a number.**\n",
        "\n",
        "***For example, 1var is wrong.***\n",
        "\n",
        "1var = 1\n",
        "\n",
        "  File \"<stdin>\", line 1\n",
        "\n",
        "         1var = 1\n",
        "         \n",
        "       ^\n",
        "       \n",
        "***SyntaxError: invalid syntax***\n"
      ],
      "metadata": {
        "id": "FLx45loEaYnZ"
      }
    },
    {
      "cell_type": "code",
      "source": [
        "var1 = 1\n",
        "print(var1)"
      ],
      "metadata": {
        "colab": {
          "base_uri": "https://localhost:8080/"
        },
        "id": "MmCzPSolS5tk",
        "outputId": "09617559-b54c-4451-98fa-5ff3e1b520ac"
      },
      "execution_count": 42,
      "outputs": [
        {
          "output_type": "stream",
          "name": "stdout",
          "text": [
            "1\n"
          ]
        }
      ]
    },
    {
      "cell_type": "code",
      "source": [
        "a_var_containing_ = 1\n",
        "print(a_var_containing_)\n"
      ],
      "metadata": {
        "colab": {
          "base_uri": "https://localhost:8080/"
        },
        "id": "HuuzHTH7S5wX",
        "outputId": "80b24950-4d3e-4709-ebad-df1ca30904bb"
      },
      "execution_count": 43,
      "outputs": [
        {
          "output_type": "stream",
          "name": "stdout",
          "text": [
            "1\n"
          ]
        }
      ]
    },
    {
      "cell_type": "code",
      "source": [
        "Hindi = 1 #Hindi \n",
        "print(Hindi)\n",
        "\n",
        "\n",
        "English = 0 # English\n",
        "print(English)"
      ],
      "metadata": {
        "colab": {
          "base_uri": "https://localhost:8080/"
        },
        "id": "olLqKa7JZQca",
        "outputId": "107a8439-7580-4def-a977-b535ccfb7e68"
      },
      "execution_count": 50,
      "outputs": [
        {
          "output_type": "stream",
          "name": "stdout",
          "text": [
            "1\n",
            "0\n"
          ]
        }
      ]
    },
    {
      "cell_type": "markdown",
      "source": [
        "**List** "
      ],
      "metadata": {
        "id": "MLeBFpTTcsSU"
      }
    },
    {
      "cell_type": "code",
      "source": [
        " # assigning list\n",
        "fav_writers = [\"Mark Twain\", \"Fyodor Dostoyevsky\",\"Ruskin Bond \",\"Munshi Premchand\" ]\n",
        "print(fav_writers)\n",
        "\n",
        "\n",
        "\n",
        "fav_gym = [\"Gold Gym\",\"Iflex Gym\",\"Body Mechanics\",\"Cult Fit\"]\n",
        "\n",
        "print(fav_gym)\n",
        "\n",
        "\n",
        "\n",
        "\n",
        "\n",
        "\n",
        "# Lists \n",
        "\n",
        "l = [1,5,7,10,2,20,9]\n",
        "\n",
        "l =[1,5,7]\n",
        "\n",
        "\n",
        "l = [100,5,99]\n",
        "\n",
        "x  = l*3\n",
        "print (x)\n",
        "\n",
        "l = [100,5,99,100,100,1,4,99]     # for  sortinng  \n",
        "\n",
        "a = len(l)\n",
        "\n",
        "b = sum(l)\n",
        "\n",
        "x = l[1:4] \n",
        "l.append(10)   #   for append \n",
        "\n",
        "print(l[0])\n",
        "\n",
        "print(l[3])\n",
        "print(l)\n",
        "l.insert(2,100)  #  for  inserting \n",
        "l.sort()   \n",
        "#Next case  Extend \n",
        "\n",
        "l =[1,5,7]\n",
        "b =[20,100]\n",
        "l.extend(b)    #  for  extending \n",
        "\n",
        " # for poping \n",
        "a = l.count(100)\n",
        "print(l)   \n",
        "print(a)\n",
        "print(b)"
      ],
      "metadata": {
        "colab": {
          "base_uri": "https://localhost:8080/"
        },
        "id": "CJqz6rLkZQld",
        "outputId": "01dca491-00da-491f-d40c-4dc7bb17032e"
      },
      "execution_count": 75,
      "outputs": [
        {
          "output_type": "stream",
          "name": "stdout",
          "text": [
            "['Mark Twain', 'Fyodor Dostoyevsky', 'Ruskin Bond ', 'Munshi Premchand']\n",
            "['Gold Gym', 'Iflex Gym', 'Body Mechanics', 'Cult Fit']\n",
            "[100, 5, 99, 100, 5, 99, 100, 5, 99]\n",
            "100\n",
            "100\n",
            "[100, 5, 99, 100, 100, 1, 4, 99, 10]\n",
            "[1, 5, 7, 20, 100]\n",
            "1\n",
            "[20, 100]\n"
          ]
        }
      ]
    },
    {
      "cell_type": "markdown",
      "source": [
        "**Dictionaries**\n",
        "\n"
      ],
      "metadata": {
        "id": "tuKMnFKQdcaQ"
      }
    },
    {
      "cell_type": "code",
      "source": [
        "# assign dicts\n",
        "...\n",
        "birthdays = {\"mom\": \"9Jan\", \"daughter\": \"24Dec\"}\n",
        "print(birthdays)\n",
        "\n",
        "marks  = {\"Aditya\":\"80\",\"Rohit\":\"95\"}\n",
        "print(marks)\n",
        "\n",
        "\n",
        "d = {'Ashwani':90,'Aditya':100,'Shubham':80,'Ajay':95}     #  Ashwani - Key   90 - its value   => key value\n",
        "\n",
        "print(d)       # printing  dictionaries.\n",
        "\n",
        "print(len(d))  # printing  dictionaries length.\n",
        "\n",
        "l = d.keys()\n",
        "b = d.values() # for printing  key  values  of dictionaries\n",
        "\n",
        "print(b)\n",
        "\n",
        "\n",
        "\n",
        "del d['Ashwani']     # for deleting key values in dictionaries \n",
        "\n",
        "d['Ashwani']  =100    # adding keyvalue to it .\n",
        "\n",
        "\n",
        "marks = d['Aditya']\n",
        "d['T'] =100\n",
        "\n",
        "print(marks)\n",
        "if ('Ashwani' in d):\n",
        "     print(\"Yes\")\n",
        "else:\n",
        "    print(\"no\")\n",
        " \n",
        "print(marks)"
      ],
      "metadata": {
        "colab": {
          "base_uri": "https://localhost:8080/"
        },
        "id": "e1InBkTjcWBi",
        "outputId": "8c23e149-54c0-444a-a238-3f57ac04c373"
      },
      "execution_count": 73,
      "outputs": [
        {
          "output_type": "stream",
          "name": "stdout",
          "text": [
            "{'mom': '9Jan', 'daughter': '24Dec'}\n",
            "{'Aditya': '80', 'Rohit': '95'}\n",
            "{'Ashwani': 90, 'Aditya': 100, 'Shubham': 80, 'Ajay': 95}\n",
            "4\n",
            "dict_values([90, 100, 80, 95])\n",
            "100\n",
            "Yes\n",
            "100\n"
          ]
        }
      ]
    },
    {
      "cell_type": "code",
      "source": [
        "#   Working with variables\n",
        "\n",
        "var = 2\n",
        "print(var + 3)\n"
      ],
      "metadata": {
        "colab": {
          "base_uri": "https://localhost:8080/"
        },
        "id": "NemeSP9pcWE_",
        "outputId": "47d17d46-012b-4060-eff5-9f7b96b0a768"
      },
      "execution_count": 81,
      "outputs": [
        {
          "output_type": "stream",
          "name": "stdout",
          "text": [
            "5\n"
          ]
        }
      ]
    },
    {
      "cell_type": "markdown",
      "source": [
        "**For example, you can take a number as input. This will take in the digit as a string. You can then take the string number and convert it to int and assign it to the same number.**"
      ],
      "metadata": {
        "id": "2J8Dlhgd3WeR"
      }
    },
    {
      "cell_type": "code",
      "source": [
        "number = input()\n",
        "\n",
        "type(number)\n",
        "number = int(number)\n",
        "type(number)"
      ],
      "metadata": {
        "colab": {
          "base_uri": "https://localhost:8080/"
        },
        "id": "x3Q92e7GcWIJ",
        "outputId": "9a9e6f39-adf6-4248-ebfb-a3a88a91ad62"
      },
      "execution_count": 9,
      "outputs": [
        {
          "name": "stdout",
          "output_type": "stream",
          "text": [
            "3\n"
          ]
        },
        {
          "output_type": "execute_result",
          "data": {
            "text/plain": [
              "int"
            ]
          },
          "metadata": {},
          "execution_count": 9
        }
      ]
    },
    {
      "cell_type": "markdown",
      "source": [
        "***We will use a function range(3) which returns three values.***\n"
      ],
      "metadata": {
        "id": "k8zNj7O34I8U"
      }
    },
    {
      "cell_type": "code",
      "source": [
        "print(range(3))\n",
        "print(range(100))"
      ],
      "metadata": {
        "colab": {
          "base_uri": "https://localhost:8080/"
        },
        "id": "w9DLnMIb4N0z",
        "outputId": "0caa1b05-e0a1-43b8-b77e-ca545530cf6e"
      },
      "execution_count": 11,
      "outputs": [
        {
          "output_type": "stream",
          "name": "stdout",
          "text": [
            "range(0, 3)\n",
            "range(0, 100)\n"
          ]
        }
      ]
    },
    {
      "cell_type": "code",
      "source": [
        "id1, id2, id3 = range(3)\n",
        "print(id2)\n",
        "print(id1)\n",
        "print(id3)"
      ],
      "metadata": {
        "colab": {
          "base_uri": "https://localhost:8080/"
        },
        "id": "YzudRYXCcWLI",
        "outputId": "b39644eb-7c44-4690-e515-fa8092cdaff1"
      },
      "execution_count": 14,
      "outputs": [
        {
          "output_type": "stream",
          "name": "stdout",
          "text": [
            "1\n",
            "0\n",
            "2\n"
          ]
        }
      ]
    }
  ]
}
