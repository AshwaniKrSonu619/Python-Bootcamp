{
  "nbformat": 4,
  "nbformat_minor": 0,
  "metadata": {
    "colab": {
      "name": "Python _Day_6.ipynb",
      "provenance": [],
      "authorship_tag": "ABX9TyPFkFno/xzazbZXvpp2rEv4",
      "include_colab_link": true
    },
    "kernelspec": {
      "name": "python3",
      "display_name": "Python 3"
    },
    "language_info": {
      "name": "python"
    }
  },
  "cells": [
    {
      "cell_type": "markdown",
      "metadata": {
        "id": "view-in-github",
        "colab_type": "text"
      },
      "source": [
        "<a href=\"https://colab.research.google.com/github/AshwaniKrSonu619/Python-Bootcamp/blob/main/Python__Day_6.ipynb\" target=\"_parent\"><img src=\"https://colab.research.google.com/assets/colab-badge.svg\" alt=\"Open In Colab\"/></a>"
      ]
    },
    {
      "cell_type": "markdown",
      "source": [
        "# Python Dictionaries\n",
        "\n",
        "\n",
        "\n",
        "# A dictionary is a set of unordered key, value pairs. In a dictionary, the keys must be unique and they are stored in an unordered manner.\n",
        "\n",
        "# In this tutorial you will learn the basics of how to use the Python dictionary.\n",
        "\n",
        "# By the end of the tutorial you will be able to - Create Dictionaries - Get values in a Dictionary - Add and delete elements in a Dictionary - To and For Loops in a Dictionary#\n",
        "\n",
        "\n",
        "\n",
        "\n",
        "**Creating a Dictionary**"
        
      ],
      "metadata": {
        "id": "UPuzulRtuWtx"
      }
    },
    {
      "cell_type": "code",
      "source": [
        "person_information = {'city': 'San Francisco', 'name': 'Sam', \"food\": \"shrimps\"}\n",
        "type(person_information)\n",
        "\n",
        "#print(person_information)\n"
      ],
      "metadata": {
        "colab": {
          "base_uri": "https://localhost:8080/"
        },
        "id": "anYtnzeZudTX",
        "outputId": "9a69cfd8-85df-4e13-b1cc-cb9a62a264c5"
      },
      "execution_count": 33,
      "outputs": [
        {
          "output_type": "execute_result",
          "data": {
            "text/plain": [
              "dict"
            ]
          },
          "metadata": {},
          "execution_count": 33
        }
      ]
    },
    {
      "cell_type": "code",
      "source": [
        "person_information = {'city': 'San Francisco', 'name': 'Sam', \"food\": \"shrimps\"}\n",
        "#type(person1_information)\n",
        "\n",
        "print(person_information)                   #  for printing the value of dict\n",
        " "
      ],
      "metadata": {
        "colab": {
          "base_uri": "https://localhost:8080/"
        },
        "id": "bGpNzJmnvDWE",
        "outputId": "e59ba594-0321-4cd9-e65f-8d8149bcb1cc"
      },
      "execution_count": 31,
      "outputs": [
        {
          "output_type": "stream",
          "name": "stdout",
          "text": [
            "{'city': 'San Francisco', 'name': 'Sam', 'food': 'shrimps'}\n"
          ]
        }
      ]
    },
    {
      "cell_type": "markdown",
      "source": [
        "**Get the values in a Dictionary**"
      ],
      "metadata": {
        "id": "qh5o8HKFvVGt"
      }
    },
    {
      "cell_type": "code",
      "source": [
        "#   create a dictionary person1_information\n",
        "\n",
        "person1_information = {'city': 'San Francisco', 'name': 'Sam', \"food\":         \"shrimps\"}\n",
        "\n",
        "#  print the dictionary\n",
        "\n",
        "print(person1_information[\"city\"])\n"
      ],
      "metadata": {
        "colab": {
          "base_uri": "https://localhost:8080/"
        },
        "id": "wPWVlBaJvRHn",
        "outputId": "a63cb82a-d54e-4219-f761-17ed123c5be6"
      },
      "execution_count": 20,
      "outputs": [
        {
          "output_type": "stream",
          "name": "stdout",
          "text": [
            "San Francisco\n"
          ]
        }
      ]
    },
    {
      "cell_type": "markdown",
      "source": [
        "**Looping over dictionaries**"
      ],
      "metadata": {
        "id": "jcXla1I8vx-4"
      }
    },
    {
      "cell_type": "code",
      "source": [
        "person1_information = {'city': 'San Francisco', 'name': 'Sam', \"food\": \"shrimps\"}\n",
        "\n",
        "for k, v in person1_information.items():\n",
        "  print(\"key is: %s\" % k)\n",
        "  print(\"value is: %s\" % v)\n",
        "  print(\"###########################\")\n"
      ],
      "metadata": {
        "colab": {
          "base_uri": "https://localhost:8080/"
        },
        "id": "Y6jWcy95vRIr",
        "outputId": "64d2175d-e894-4082-a59f-b4ea97a6a7c3"
      },
      "execution_count": 22,
      "outputs": [
        {
          "output_type": "stream",
          "name": "stdout",
          "text": [
            "key is: city\n",
            "value is: San Francisco\n",
            "###########################\n",
            "key is: name\n",
            "value is: Sam\n",
            "###########################\n",
            "key is: food\n",
            "value is: shrimps\n",
            "###########################\n"
          ]
        }
      ]
    },
    {
      "cell_type": "markdown",
      "source": [
        "**Add elements to a dictionary**"
      ],
      "metadata": {
        "id": "13-UqVWgwc2n"
      }
    },
    {
      "cell_type": "code",
      "source": [
        " # initialize an empty \n",
        " \n",
        "\n",
        "person1_information = {}\n",
        "\n",
        " # add the key, value information with key “city”\n",
        "\n",
        "person1_information[\"city\"] = \"San Francisco\"\n",
        "\n",
        "# print the present person1_information\n",
        "\n",
        "print(person1_information)\n",
        "\n",
        "\n",
        "# add another key, value information with key “name”\n",
        "\n",
        "person1_information[\"name\"] = \"Sam\"\n",
        "\n",
        "# print the present dictionary\n",
        "\n",
        "print(person1_information)\n",
        "\n",
        "\n",
        " # add another key, value information with key “food”\n",
        "\n",
        "person1_information[\"food\"] = \"shrimps\"\n",
        "\n",
        " # print the present dictionary\n",
        "print(person1_information)\n",
        "\n",
        "\n"
      ],
      "metadata": {
        "colab": {
          "base_uri": "https://localhost:8080/"
        },
        "id": "ruRHR_lkwbgh",
        "outputId": "f0baa339-f79c-47ee-ad7b-953ff6d903c2"
      },
      "execution_count": 23,
      "outputs": [
        {
          "output_type": "stream",
          "name": "stdout",
          "text": [
            "{'city': 'San Francisco'}\n",
            "{'city': 'San Francisco', 'name': 'Sam'}\n",
            "{'city': 'San Francisco', 'name': 'Sam', 'food': 'shrimps'}\n"
          ]
        }
      ]
    },
    {
      "cell_type": "markdown",
      "source": [
        "**Update method**"
      ],
      "metadata": {
        "id": "wp5r7oVLxc8p"
      }
    },
    {
      "cell_type": "code",
      "source": [
        "# combine two dictionaries to get a larger dictionary using the update method.\n",
        "\n",
        " # create a small dictionary\n",
        "\n",
        "person1_information = {'city': 'San Francisco'}\n",
        "\n",
        " # print it and check the present elements in the \n",
        "\n",
        "print(person1_information) \n",
        "\n",
        "\n",
        " # have a different \n",
        "\n",
        "remaining_information = {'name': 'Sam', \"food\": \"shrimps\"}\n",
        "\n",
        " # add the second dictionary remaining_information to personal1_information using the update method\n",
        "\n",
        "person1_information.update(remaining_information)\n",
        "\n",
        " # print the current dictionary\n",
        "\n",
        "print(person1_information)\n"
      ],
      "metadata": {
        "colab": {
          "base_uri": "https://localhost:8080/"
        },
        "id": "At_QYfzuxWhI",
        "outputId": "17bf9a59-d351-4be4-a258-668fc9e68b16"
      },
      "execution_count": 24,
      "outputs": [
        {
          "output_type": "stream",
          "name": "stdout",
          "text": [
            "{'city': 'San Francisco'}\n",
            "{'city': 'San Francisco', 'name': 'Sam', 'food': 'shrimps'}\n"
          ]
        }
      ]
    },
    {
      "cell_type": "code",
      "source": [
        "#  DELETING DICT\n",
        "\n",
        "\n",
        " #To delete a key, value pair in a dictionary, you can use the del method.\n",
        "\n",
        "\n",
        "\n",
        "\n",
        "\n",
        "\n",
        "\n",
        "# initialise a dictionary with the keys “city”, “name”, “food”\n",
        "\n",
        "\n",
        "person1_information = {'city': 'San Francisco', 'name': 'Sam', \"food\": \"shrimps\"}\n",
        "\n",
        "\n",
        "# delete the key, value pair with the key “food”\n",
        "\n",
        "del person1_information[\"food\"]\n",
        "\n",
        "\n",
        "# print the present personal1_information. Note that the key, value pair “food”: “shrimps” is not there anymore.\n",
        "\n",
        "\n",
        "print(person1_information)\n"
      ],
      "metadata": {
        "colab": {
          "base_uri": "https://localhost:8080/"
        },
        "id": "LSH_95-_yAQb",
        "outputId": "785c2ed8-65d4-4c24-fa27-6b957b6e9ee6"
      },
      "execution_count": 25,
      "outputs": [
        {
          "output_type": "stream",
          "name": "stdout",
          "text": [
            "{'city': 'San Francisco', 'name': 'Sam'}\n"
          ]
        }
      ]
    },
    {
      "cell_type": "code",
      "source": [
        "# initialise a dictionary with key, value pairs\n",
        "\n",
        "\n",
        "person1_information = {'city': 'San Francisco', 'name': 'Sam', \"food\": \"shrimps\"}\n",
        "\n",
        "# remove a key, value pair with key “food” and default value None\n",
        "print(person1_information.pop(\"food\", None))\n",
        "\n",
        "\n",
        "# print the updated dictionary. Note that the key “food” is not present anymore\n",
        "print(person1_information)\n",
        "\n",
        "\n",
        "# try to delete a nonexistent key. This will return None as None is given as the default value.\n",
        "print(person1_information.pop(\"food\", None))\n",
        "\n"
      ],
      "metadata": {
        "colab": {
          "base_uri": "https://localhost:8080/"
        },
        "id": "C2mLLSoTxWoy",
        "outputId": "a7a0b02f-140a-4d39-ed04-a43c79343ff8"
      },
      "execution_count": 27,
      "outputs": [
        {
          "output_type": "stream",
          "name": "stdout",
          "text": [
            "shrimps\n",
            "{'city': 'San Francisco', 'name': 'Sam'}\n",
            "None\n"
          ]
        }
      ]
    },
    {
      "cell_type": "code",
      "source": [
        "#    A dictionary in Python doesn't preserve the order. Hence, we get the following:\n",
        "\n",
        "\n",
        "call = {'sachin': 4098, 'guido': 4139}\n",
        "call[\"snape\"] = 7663\n",
        "call\n"
      ],
      "metadata": {
        "colab": {
          "base_uri": "https://localhost:8080/"
        },
        "id": "63klHZeLzJy2",
        "outputId": "3a9e1403-8a9a-48b8-bd54-53b747674a66"
      },
      "execution_count": 30,
      "outputs": [
        {
          "output_type": "execute_result",
          "data": {
            "text/plain": [
              "{'guido': 4139, 'sachin': 4098, 'snape': 7663}"
            ]
          },
          "metadata": {},
          "execution_count": 30
        }
      ]
    }
  ]
}
