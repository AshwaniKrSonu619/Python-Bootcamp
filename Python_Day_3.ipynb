{
  "nbformat": 4,
  "nbformat_minor": 0,
  "metadata": {
    "colab": {
      "name": "Python_Day_3.ipynb",
      "provenance": [],
      "authorship_tag": "ABX9TyNXayvnAZsYAN92JCmLK7r1",
      "include_colab_link": true
    },
    "kernelspec": {
      "name": "python3",
      "display_name": "Python 3"
    },
    "language_info": {
      "name": "python"
    }
  },
  "cells": [
    {
      "cell_type": "markdown",
      "metadata": {
        "id": "view-in-github",
        "colab_type": "text"
      },
      "source": [
        "<a href=\"https://colab.research.google.com/github/AshwaniKrSonu619/Python-Bootcamp/blob/main/Python_Day_3.ipynb\" target=\"_parent\"><img src=\"https://colab.research.google.com/assets/colab-badge.svg\" alt=\"Open In Colab\"/></a>"
      ]
    },
    {
      "cell_type": "markdown",
      "source": [
        "***Conditionals***\n"
      ],
      "metadata": {
        "id": "wBf4U0H_LkHo"
      }
    },
    {
      "cell_type": "markdown",
      "source": [
        "\n",
        "**Python Control Structures - Loops and Conditionals**\n",
        "\n",
        "You can control the flow of logic in your code through various methods.\n",
        "\n",
        "\n",
        "***Basic control flows***\n",
        "\n",
        "Selection (if statements)\n",
        "\n",
        "Iteration (for loops)\n",
        "\n",
        "More advanced control flows\n",
        "\n",
        "Procedural Abstraction (functions)\n",
        "\n",
        "Recursion\n",
        "\n",
        "Concurrency\n",
        "\n",
        "Exception Handling and Speculation\n",
        "\n",
        "Nondeterminacy\n",
        "\n",
        "In this tutorial you will come to know:\n",
        "\n",
        "How to have sequential, selective and iterative flows in your code. This can be achieved using the for loop. How to achieve procedural abstraction. This can be done by the use of functions.\n",
        "\n",
        "Other topics like Recursion, Exception Handling, Concurrency will be discussed in later tutorials."
      ],
      "metadata": {
        "id": "yMZV5hYQHe-l"
      }
    },
    {
      "cell_type": "markdown",
      "source": [
        "***Loops***\n",
        "\n",
        "Working on items of the iterable\n",
        "\n",
        "If you want to run an operation on a collection of items, then you can do it using for loops. The skeleton for using the for loop is shown below.Note that the for statement line will end with a colon : and the rest of the code block must be indented with a spacing of 4 spaces. An iterable is any object that can be looped on such as list, tuple, string etc."
      ],
      "metadata": {
        "id": "l8ShjiRPH8fF"
      }
    },
    {
      "cell_type": "code",
      "execution_count": null,
      "metadata": {
        "id": "UTwEAOJzGgw5"
      },
      "outputs": [],
      "source": [
        "#for item in iterable: # you can place any list or tuple or string in place of iterable\n",
        "    # write your code here.\n",
        "  #pass"
      ]
    },
    {
      "cell_type": "code",
      "source": [
        "fruits = [\"apples\", \"oranges\", \"mangoes\"]\n",
        "for fruit in fruits:\n",
        "     print(fruit)\n",
        "\n",
        "\n",
        "     "
      ],
      "metadata": {
        "colab": {
          "base_uri": "https://localhost:8080/"
        },
        "id": "G5nvdhZ4HUZa",
        "outputId": "7f6cd013-ed47-476a-8b23-698ae70f853e"
      },
      "execution_count": null,
      "outputs": [
        {
          "output_type": "stream",
          "name": "stdout",
          "text": [
            "apples\n",
            "oranges\n",
            "mangoes\n"
          ]
        }
      ]
    },
    {
      "cell_type": "code",
      "source": [
        " int = [1,2,3,4,5]\n",
        " for int in int:\n",
        "   print(int)\n",
        "\n",
        "  "
      ],
      "metadata": {
        "colab": {
          "base_uri": "https://localhost:8080/"
        },
        "id": "nw0LVCUqHUf3",
        "outputId": "8e511dc1-55a5-413b-dafb-ae1faaad3bba"
      },
      "execution_count": null,
      "outputs": [
        {
          "output_type": "stream",
          "name": "stdout",
          "text": [
            "1\n",
            "2\n",
            "3\n",
            "4\n",
            "5\n"
          ]
        }
      ]
    },
    {
      "cell_type": "markdown",
      "source": [
        "**Looping on both indexes and items**\n"
      ],
      "metadata": {
        "id": "msAFLbFnK_8X"
      }
    },
    {
      "cell_type": "code",
      "source": [
        "fruits = [\"apples\", \"oranges\", \"mangoes\"]\n",
        "for index, fruit in enumerate(fruits):\n",
        "  print(\"index is %s\" % index)\n",
        "  print(\"fruit is %s\" % fruit)\n",
        "  print(\"###########################\")\n"
      ],
      "metadata": {
        "id": "bvR-_zHVPHaU",
        "colab": {
          "base_uri": "https://localhost:8080/"
        },
        "outputId": "5abc931e-10c0-42a8-c3bd-403d853d78d4"
      },
      "execution_count": null,
      "outputs": [
        {
          "output_type": "stream",
          "name": "stdout",
          "text": [
            "index is 0\n",
            "fruit is apples\n",
            "###########################\n",
            "index is 1\n",
            "fruit is oranges\n",
            "###########################\n",
            "index is 2\n",
            "fruit is mangoes\n",
            "###########################\n"
          ]
        }
      ]
    },
    {
      "cell_type": "markdown",
      "source": [
        "**While statement**"
      ],
      "metadata": {
        "id": "f0WmHtqPLgnX"
      }
    },
    {
      "cell_type": "markdown",
      "source": [
        "**Nested Loop**"
      ],
      "metadata": {
        "id": "t_7hmIX5OM6r"
      }
    },
    {
      "cell_type": "code",
      "source": [
        "fruits = [\"apples\", \"oranges\", \"mangoes\"] # get the list\n",
        "\n",
        "length = len(fruits) # get the length that will be needed for the while condition\n",
        "\n",
        "i = 0 # initialise a counter\n",
        "\n",
        "while i < length: # give the condition\n",
        "         print(fruits[i]) # the code block\n",
        "         i += 1 # increment the counter"
      ],
      "metadata": {
        "colab": {
          "base_uri": "https://localhost:8080/"
        },
        "id": "tkB3SXnjQx1f",
        "outputId": "2dee4693-826f-4ea6-c223-d0a619a2a18e"
      },
      "execution_count": null,
      "outputs": [
        {
          "output_type": "stream",
          "name": "stdout",
          "text": [
            "apples\n",
            "oranges\n",
            "mangoes\n"
          ]
        }
      ]
    },
    {
      "cell_type": "code",
      "source": [
        "for i in range(1,3):\n",
        "         for j in range(1,3):\n",
        "                print('%d x %d = %d' % (i, j, i*j))"
      ],
      "metadata": {
        "colab": {
          "base_uri": "https://localhost:8080/"
        },
        "id": "Tg9dihcjLxXJ",
        "outputId": "68b73109-f62b-4b85-ed4b-841dee6445d5"
      },
      "execution_count": null,
      "outputs": [
        {
          "output_type": "stream",
          "name": "stdout",
          "text": [
            "1 x 1 = 1\n",
            "1 x 2 = 2\n",
            "2 x 1 = 2\n",
            "2 x 2 = 4\n"
          ]
        }
      ]
    },
    {
      "cell_type": "markdown",
      "source": [
        "**Selection and Python If statements**\n",
        "\n",
        "Creating if blocks\n",
        "\n",
        "\n",
        "![Screenshot (75).png](data:image/png;base64,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)"
      ],
      "metadata": {
        "id": "LWFlRNlHRtao"
      }
    },
    {
      "cell_type": "code",
      "source": [
        "num = 42\n",
        "if num == 42: # condition\n",
        "     print(\"number is 42\") # direction 1"
      ],
      "metadata": {
        "colab": {
          "base_uri": "https://localhost:8080/"
        },
        "id": "H9CskASIRyHa",
        "outputId": "b9c0649e-8fd6-4b41-ffa6-46abde0f7cc6"
      },
      "execution_count": null,
      "outputs": [
        {
          "output_type": "stream",
          "name": "stdout",
          "text": [
            "number is 42\n"
          ]
        }
      ]
    },
    {
      "cell_type": "markdown",
      "source": [
        "**Adding an else block:**\n"
      ],
      "metadata": {
        "id": "Tw87whkxS25Y"
      }
    },
    {
      "cell_type": "code",
      "source": [
        "num =43\n",
        "if num ==42:\n",
        "    print(\"number is 42\")\n",
        "else:\n",
        "    print(\"number if not 42\")"
      ],
      "metadata": {
        "colab": {
          "base_uri": "https://localhost:8080/"
        },
        "id": "Cw3lrwl8WTrQ",
        "outputId": "30363cd6-3dc5-4afd-d7e1-738b2f3bb963"
      },
      "execution_count": null,
      "outputs": [
        {
          "output_type": "stream",
          "name": "stdout",
          "text": [
            "number if not 42\n"
          ]
        }
      ]
    },
    {
      "cell_type": "code",
      "source": [
        "num = 44\n",
        "if num == 42:\n",
        "    \n",
        "         \n",
        "         print(\"number is 42\")\n",
        "         \n",
        "elif num == 44:\n",
        "          \n",
        "         print(\"num is 44\")\n",
        "         \n",
        "else:\n",
        "          \n",
        "         print(\"num is neither 42nor 44\")   \n",
        "         \n",
        "        \n",
        "               \n",
        "    "
      ],
      "metadata": {
        "colab": {
          "base_uri": "https://localhost:8080/"
        },
        "id": "8EvBjiwEWmGa",
        "outputId": "c1b2d125-fcf0-4d4f-d074-b5c05a05eff2"
      },
      "execution_count": null,
      "outputs": [
        {
          "output_type": "stream",
          "name": "stdout",
          "text": [
            "num is 44\n"
          ]
        }
      ]
    },
    {
      "cell_type": "markdown",
      "source": [
        "**Nested if statements**![Screenshot (75).png](data:image/png;base64,iVBORw0KGgoAAAANSUhEUgAAAToAAAC6CAYAAAA+hYEwAAAAAXNSR0IArs4c6QAAAARnQU1BAACxjwv8YQUAAAAJcEhZcwAADsMAAA7DAcdvqGQAABhhSURBVHhe7d1PTBxXngfwb/bEaQ5rQuRY8fRi30wWInnGxl4ISHgOCLWs+BCYIPBkkZAixGQltArJCtstb8gBaTIIRUJyHEAkkIMtC0U+DJYgsAE7Y8mwxtIewNvjyInMwGFz6lv2vVevul9VV3dXN3+6eXw/Upnu6qK6qKS+vD9F/15KJBK/gIjIYv+gvxIRWYtBR0TWY9ARkfUYdERkPQYdEVmPQUdE1mPQEZH1GHREZD0GHRFZj0FHRNZj0BGR9Rh0RGQ9Bh0RWY9BR0TWY9ARkfUYdERkPQYdEVmPQUdE1gsfdN/fQlnZpyh7Zw4v9Kpgm5h+R2wnt9VL69eb+rUDaGUEr5/uw+20H2Ebt3vPi9fOY2hFr9qB1WFnX+/NbOs1RLRbdrlFJ0PuK1y+9Rq+TbyPhF6m367Qrx82axhieBEVXfig++0lJ7i+bMQrelWa509w5xZwcbwOZ/Qqex3BW8Pf4fHD79BXo1ftQHWvs6/Pokf0mr3ntiJfH17Ta4jstCdjdDX/dFhbcAeE6o6fx2z9KDr1KiKb5Q46d2zOXT5+ol/YH1szfU6rQy9B3UD/Nv4Winq99xts6a5ktn1h8xu8Z2zzeteUfsGVGptzlvTxu9TxdGNcPF+MRY3tve+bbFXpJdt4n39b//Gr1+XP7vsZPPuUr3UBk6Fbog/weW8Zev9zOsfYLFHpyh10bpc18XuMXdLrPJ7gEzcET6zijlhztd4IxrJb4lIphBMojTHg2l2nWyeXGKaMYHG3iagL19lGtFImunWwGZYG0Xh6DJXuvm60qQDyhIBs6TQPovKGuy9nO69UlzX9NUd5dEh/v9NiqhuYSe1PLGb31O2yPr7bjzq9Lp0T0O3r/Zhz9yO2hwxQf7dT/uzNcXTr7eYGajHeZYRxRQs+e9iDav00p/+ew6r8+uIOVpl0dEDtQtf1FD5wJx42qnFRrLm6oJ+r5VJh43UrU7iyVCtCbghvGT3h8mhP6nlyG/PCrUKfDCARbGO+1lHnDWNfNQ0qhJ4+c1tFIjRvitZbx+iujLntpq2ZMdEybMPkcAvK9ToZWDERYpgY87Uoveej/GyDCNBlPP1Rr8jXPzc6+3rlIqozDs4SlbY9GaPbDasLInTONaA+y3Cf2gYRnPBvkxZiUhsuZAuwzWXcWxJhWF+lV5SKbSzcWxbnIoJjeo0rMMRynLP8ncG/Dicw/FFr5kkoohJXokG3jY118eVkJNWCySQgAFyL8Z/0IwtkORfeQCcivxINuiM4cVJ8WY97x9nyVBc5qh/ZrfL4/t2SQnQQlWzX9VikFliax0LaXySkVNfLsbiAbVbmMY5aNJ3NIwAqIqgUX7ytIz1uV7CjqDy305blEdQ3ybG4eWdSwLB1fx6LubrkO8ZZVzr4SjboyqOX0YllXGke8VzgWzMjqcH3mjZcOye2uW7OsK5hSN4S0nHZM4mRWxUudMhbQaaS77c6HMUVEZiZZ0Nz0S3TtAmD/DjnYgrt5gzr5jcYiC2jbqAt/AxqITjrShbIGXQPPnZvE5F/2iVWxGaTt4588r2zzd6oQt/DGRFk4gI37gkbEC2YVIDJWz3ENpC3jrjbdOOpvJ2jN/9Jhepe7/uNRsR+/qNBv6qZ96ipe+xkGOvn/ltaBGefxjZiSd3/ZtzX1zwoWmfAeJe7nRnw8lzo22aM7eVtMPn/JYV5L6Fzn5+6JUWvS7uPj7OuZIGXEonEL/oxEZGVSrbrSkS0Wxh0RGQ9Bh0RWY9BR0TWY9ARkfUYdERkPQYdEVmPQUdE1mPQEZH1GHREZD0GHRFZj0FHRNZj0BGR9Rh0RGQ9Bp3N9GfnZasVuxOqjmzAZ/D55VO7dnc4n7kXWLeXDiUGHe25cLVrifYOg44o+anRRqFvsgqDjg6xbdzuFQF3HeiWxcDJWgy6ErA10+cZwwoaW/KPcwWPP5n1IMSi61CkWRnx7Ot1s+hOIcw6GmIpfAzOd/xZWlhhzpmHcYzu8cniR/eaZvB4uCVjbWCyA4OuqJwWRWMMuHZXj2OJJYYp4wJ3Lv729X7M6dflWBdiUW9AqQtZFwYytvOPiamA6Iob76eL7hQcdvMYaJ5Hk97fnGgZjXcV0AVU4es9/rkBqKJC3uAMc8585LmRoX/OOYd9ujykHDvMv7gQHUQMumJamcKVpVpxwQ55SjOWR3uSz7dmxjCONkyKVkeyUn9FC2Kyq2WUUVyddi7kWNYLdw1jqkRiv/F+Vei70VZ4ScYliJBLHX+yTOV0PsGp6+d2jHqCpzzaj2vngPGbxsxuiHPmJX5RuCFnnkM6VBh0RbS6IC7ucw2oD7xApW0s3FsW20TSulblZxtEa20ZT3+Uz9YwOwHUNdVmv5AzFfZ+NWLsK09px+8U7cZ6POdtJ0mby7gnArMuclSvcOni3UtxPNdrcp8z07JoDXdjnCF36DHoimYbG+viy8lI7gswyzZPn4W/V2zrWVz8660xq5ZMY3kF0UW7C1B5PFNrNI4N1drM45wJi7FBp25tyO3JXgy6otGBkE/LJ0DmcEhXfjwi/pXdvtTYlrm4Y1c7k18YhRPBCdWCy++c1cnxPtUt38kYJNmAQVdExyKyWzaPhYxjY7rrNjFvVO13bN2fF62wNlxQ4eR0FxfjP6nXXGrcTj9WdtJFDStjNzSLCtGdlmNxC/4w0l33jgZU6zW5z5lPTY+aIJFhx7+UOLwYdEWUHLhvHvEE2dbMSHJiwNlmCu2+GdYBNanQpgPADcTUhIKcXW1fr/XOula0oLtDBEohs6KhbOP29TCTIn5H8Na7TsvLnGHdmhl0Jh5aq/SacOfMrzw6hEnxcy/Govvw52dUil5KJBK/6MdUFPJ2iai4oPVTQXa5vLc9yFtMup3xJq3zRnpXU95r1z6hn3SM4nEv1PfBt60MwUYRlB6FDNjLW0K6pvQTTb1vKpiCjj2lDZMPe5KttfT9+V5PynXOnPeUt6qk1qW+x9028Dy4OIFhFQYdEVmPXVcish6Djoisx64reXjG+TJK/8sEolLGoCMi67HrSkTWY9ARkfUYdERkPQYdEVmPQUdE1mPQEZH1GHREZD0GHRFZj0FHRNZj0BGR9XYp6DYx/c6nKCtzl5uYdquZBHk+h1a13S080KsyefCxuV+xfPxEv3IA6dqiQR/+6NZt3ZVPwXXrtvYa1bOIDrFdCroKtH75PhIJsSy8ptftnAy5N2O/wtiG3rdcPjylXz18VBgyvIjyVpyu67FGTKvguoQzelW6J5iLiS8DZ9B6CMqoy2LKskCN95OFC1TT4xS82adPyHVbo8mFhWioxJT8GN3FEy/rR1SK1Mc6YTRVTexuP+pYdYtKTMige4JPzHGyEGNrgZJjc3p5Zw4v9Ev7wh27ytby0ONoqe28RVic153iMp6WTGCXUtYuMLYJqJ/qbw2ljd8Zx6M+J25pEI3G9p73DfPzabJeQrZt1etq396fwT+GqFqiZo0IXYAnqHKZtPpFGXp7W/GXff0PT4dd7qBT4TSLlfHfJ8fJvh34AW8WEnbJLqvch17nYU5qzOKqWHOn86tUMOaa5MhCBUrXlCoqk2x91M/7qk6Ji1uEUaWxzWTHFNp1sKU4RaBHIzN6u1F0ygAyw0IFlFOgJfl+srWjX3a5Xdag1xQRHJ/p75eVrFTRFnd/cjG7p26X9eEMrslq+YFkkZjzaIxFMJncjzh+2Qrzh7UK1TFUunVgb7TtsJLWAzx8JL/ewV8fMelo/+QMugfjq7hzqRp/fjv1cbJnPrwgQugH/Onr3a6ZZ0xqJOR7iK6rEbCJxLuFjdeJ0BkVraG0ylkiGFLP1zCmSgjOeLap7hUhIINt2tc66hg1xtOqcEGGkFFYWdVUzbvs3z5YmXJKCN41q2tVoU8WehbBNuYLsc4bxicJ1zSIcwE8fZZtZlgXsD4XQfp/qjM4/Yb8ehG/eeMVtYZoP+QIOmdC4GL0FLz/W76MyCXxe3nj7/p5afMWe85gZV6V5EuvfJ8eYlJnvVnSz28NsyJY65pqS65c3uqCLCfoVr43BIZYjnMWwKnFmvlnr/5DAsPD0/gdc472Ufage74J+Qve232Uy1e4fMvZ5CB4Hl/O0MLwq0Xlq/qh31IcBfaaS0+Wc+Gv9p+PZJ1UT2uXqPiyB92xCshf6N7uo7EckHvajkVqdx5UoYLy4KuLHNWP8rQy4oScHEP0FLAmKr4cXdeD1UXNpPx4RPw7hdlsg+iq67aMe/f940+FdEOPovJceutIjdvpx4XYjcCurpdjcfNY8A+vqq57LZrOFtAScyvsh6huz1lXKoYcQVeB1j++BsRm0brrEw/7qKZNzUKOd/lmT8UFmppBrMLlgVosxgY926wOd4sAaEN3Xl2xI6gXwYiJseS+ZLeufb02eGY1JDewR3fyZ2LqXCzjynVzhnUNQzKoOi7nX8Iwj5DjrCsVS7hyh/IWkxOr4n9Pk/zTLD0LGvi6dqkaf/uyUU1mvPj6Jn7d+bOz3kd2j6eNmV3n3j3nthbv+sKpm1vNmqUdo957wITkOJPLfwHL20b0LSjm7Kza97p3W8/7qfcChk53A8nvlfeoySAN0obJh+bMqCPb8aX9fAbvjLO8xSSqJg1ccrbZHFdz3kfegmIeg3O88pYZZ9v0/XgEnF/Zovv80UW0fMQJCdo/rOtKRNbL0XUlIjr4GHREZD0GHRFZj0FHRNZj0BGR9Rh0RGQ9Bh0RWY9BR0TWY9ARkfUYdERkPQYdEVmPQUdE1mPQEZH1GHREZD0Gnc10TdjCyxNmp0pIBtaz9VLbGbVh9+p4UpxatP4atHR4Mehoz+WsXUu0xxh0dKjJT1I2W5thWqh08DDo6NBSHxd/rwFzsrWpllF0Lg2ikWFnHQZdCfC3KoLGlvzjXMHjT87YVHK75gxVx2RBG3O74TX9QoH0WKC7v8LH4HzHf9pXzMgQ5px5GMfoHl95dAiPPQV9nAJJgVXS6EBj0BWVLC5zHo0x4Npdt1XxHWKYMi5w5+JXhXfclsfdfiAW9QaUupCdwjXufoLGxFRAdMWN9xOtmInuHYTdPAaa59Gk9zcngiKt2loYKny9xz83AFxp9gdnmHPmowsaLcpCQmJbs6gRHQ4MumJamcKVpVpxwQ55ygyWR3uSz7dmxlS5xUmz5VHRgphseRjlFFXNWHEhx7KWZVzDWGwZdQP9xvtVoe9Gm2dfeVmCCLnU8ZdHL6v6uFem8wlOEV43ZblFb4X/8mi/U6byptGVDHHOvMQvCjfkPK23YM/jssJaBCcC90UHFYOuiFYXZD3UBtRnvKi2sXBPVr+PQFaVNJWfbRCttWU8/VE+C1lkO1OR6lcjxr7ylHb8TvFurMfDj3NtLuOeCMy6yFG9wqXr4xpFu3OfM9OyKs84HjLkZKtSlYvsaEgrM0kHG4OuaLaxsS6+nIzkvgCzbPP0Wfh7xbaexcW/orUluoPm+FbGsbyCHMGJk/phniqPZ2qNxrGhWpt5nDNBFiNXNXPDbG8W4vbVoqWDj0FXNDoQ8mn5BMgcDumcSv+y25ca2zKX3Rm7yi+MwnG7kvmdM1mU+7HqlucYg5RjeDLk/EMEZA0GXREdi+Sa4dNdt4l5rOo1rq3786IV1oYLKpyc7uJi/Cf1mkuN2+nHyk66qGFl7IZmUSG603IsbsEfRrrrbnQlc58zn5oeNUEiwy5wZtadqJAh97CHXVZLMeiKKDlw3zziCbKtmZHkxICzzRTafTOsA2pSoU1fmG4gpiYU5Oxq+3qtd9a1ogXdHSJQCpkVDWUbt6+HmRTxO4K33nVaXuYM69bMoDPx0JrqSoY5Z37yNpJJ8XMvxqLeGVyG3KHxUiKR+EU/pqKQt0tExQWtnwqyy2XOPjq3mHQ7401a5430rqa8104Npksdo3jcC/V98G2rbpQVQekRdsDe5I5rmdT7mmNc6cee4guYtP1lCqBc58x5T3mrSmpd6nvcbT3ny6+Q80Eli0FHRNZj15WIrMegIyLrsetKHlnHrZLS/zKBqJQx6IjIeuy6EpH1GHREZD0GHRFZj0FHRNZj0BGR9Rh0RGQ9Bh0RWY9BR0TWY9ARkfUYdERkvV0Kuk1Mv/Mpysrc5Sam3WomRERFtktBV4HWL99HIiGWhdf0OiKi0sCuKxFZj0FHRNYLGXRP8Ely/E0ut/BAv5I//74yjOd9f8vYRiwfP9EvpFv9ogy9va34ywu9gojIkDvons+htWwWK+O/d8bgxPLtwA94s6CwkyE3i6sDF5L7SiTOIP7vczAz6sXXN1FW/38Y23C3uYCrsdkMYfcADx/Jr3fw10dMOiJKlzPoHoyv4s6lavz57dTHyZ75UAQPfsCfvs6zZt7zTchqc1ebTjnPlVP44MtGvKKfyTD8ovNnXBxvQesxvUpuIyc5Yg8CWn9ncPoN+fUifvNGai9ERK4cQfcEczERIdFTRhBJLyNySbShNv6un4d0rAKy6t7V+k/xyffOqjTf/48I0V/h4r/4Pqf72D+KKPsZ8YBubvUfEhgensbvmHNEFCD7R6nLbusJ0aLTT9PILuiHZutMkGNrqtv5rtEiM8l77r7C5Vv6qQg1c1vZbf21aNFlcnXhfXzwW/2EiCiEHDUjnDE1OT43bXRds8oZdIZkkBphl8/3ExGFkKPrWmAXNaxjjZjeqPZ2SbN0UTPhrCsRZZMj6CrQ+kc5CTCL1nwnHoKI1pp/Py/+639Viy7itt5E+P3bgBzHC/tnZJx1JaLswpU7DByrM7qb2cbyLlXjb8asavoY3Gv4NnEJZ/QzV+BYnW9fLtmi+/zRRbR8xAkJIkrHuq5EZL3cNwwTER1wDDoish6Djoisx6AjIusx6IjIegw6IrIeg46IrMegIyLrMeiIyHoMOiKyHoOOiKzHoCMi6zHoiMh6DDoish6Dzmab3+C90+cxJEuv7YHV4fN4vfcbbOnnmajtxHG4y14dT8oahsT7vDezrZ/TYcegoz1X3fsdHj8Uy91+1Ol1RPuJQUeH18qIp6WplhAtVDp4GHR0eNX0OC3N5DKKzqVBNDLsrMOgKwFbM32eVkXQ2JJ/nCt4/MkZm0pu1zyIRf2Kh78lM7ymXyiQHgt091f4GJzv+E/34XaGmkxhzpmHcYyZj68KlwdqgaU48ihCRwcAg66otnG79zwaY8C1u6mWRQxTxgXuXPzt6/2Yc1sed/uBWNQbUOpC7sbTgZnkfoLGxFRAdMWN9xOtmInuHYTdPAaa59Gk9zcngmK8K3NAZaTC13v8cwPAlWZ/MIU5Zz7y3MjQP+ecw74avZ4ODQZdMa1M4cpSrbhgh/CWUR+8PNqTfL41M4ZxtGFyuAXlziqgogUx2fKYGEte3KvTzoUcix5xVgRaw1hsGXUD/cb7VaHvRptnX3lZggi51PGXRy+jE8u4Mp1PcIrwujkFdIziM+P4y6P9uHYOGL9pdCVDnDMv8YvCDTnzHAYRgTigzk8bqvUqsgODrohWF8TFfa4B9YEXqLSNhXvLYpsI3LK3rvKzDaK1toynP8pna5idAOqaarNfyCvzIjRr0XTWF4avRox95Snt+I+iUoQT1uPhx7k2l3FPBGZd5Khe4TqCevEzmV3J3OfMtCxaw90YzxZyZrdbBqIvbMkODLqi2cbGuvhyMpI9nKQs2zx9Fv5esa1ncfGvaG2J7qA5vpVxLK8gR3DipH6Yp8rjmQImjg3V2szjnAmLsUER7EK27UXr+DPd/ZXLJEQ3PsvYIB1MDLqi0YGQT8snQOZwSFd+PCL+ld2+1IVtLrszdpVfGIUTwQnVgsvvnNXJ8T7VLQ8/BlndO6q63vfu82ZjmzDoiuhYRHbL5rGQsfWgu24T81jVa1xb9+dFK6wNF1Q4Od3FxfhP6jWXGrfTj5WddFHDytgNzaJCdKflWNyCP4x0172jITlmlvuc+dT0qAkSGXb8S4nDi0FXRMmB++YRT5BtzYwku07ONlNo982wegfN3UBMTSjI2dX29VrvrKvopnV3iEApZFY0lG3cvh5mUsTvCN5612l5mTOsWzODzsRDa5VeE+6c+ZVHhzApfu7FWDTHrS9yRrdbTf50c5zOKi8lEolf9GMqCnlxRcUFrZ8KssvlHRCXt5jICzCl80Z6V1Pea9c+oZ90jOJxL9T3wbetDMFGEZQeYWYl/eQtIV1T+omm3jcVTEHHntKGyYc9qRnOtP35Xk/Kdc6c95S3qqTWpb7H3TboPKSfe7IBg46IrMeuKxFZj0FHRNZj15U8PON8GaX/ZQJRKWPQEZH12HUlIusx6IjIegw6IrIeg46IrMegIyLrMeiIyHoMOiKyHoOOiKzHoCMiywH/Dxj+jr+tx/9XAAAAAElFTkSuQmCC)\n",
        "\n"
      ],
      "metadata": {
        "id": "_NlFKo2wT28q"
      }
    },
    {
      "cell_type": "code",
      "source": [
        "num = 42\n",
        "if num > 20:\n",
        "         if num < 50:\n",
        "                  print(\"num between 20 and 50\")\n",
        " "
      ],
      "metadata": {
        "colab": {
          "base_uri": "https://localhost:8080/"
        },
        "id": "U4fZOTauS06G",
        "outputId": "a22b3240-2693-46b6-d512-816dcf57b789"
      },
      "execution_count": null,
      "outputs": [
        {
          "output_type": "stream",
          "name": "stdout",
          "text": [
            "num between 20 and 50\n"
          ]
        }
      ]
    }
  ]
}